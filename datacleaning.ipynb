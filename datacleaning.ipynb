{
 "cells": [
  {
   "cell_type": "markdown",
   "metadata": {},
   "source": []
  },
  {
   "cell_type": "code",
   "execution_count": 107,
   "metadata": {},
   "outputs": [],
   "source": [
    "import pandas as pd\n",
    "import matplotlib.pyplot as plt\n",
    "import seaborn as sns\n",
    "from PIL import Image\n",
    "import requests\n",
    "from io import BytesIO\n",
    "from IPython.display import display, HTML, Image\n",
    "\n"
   ]
  },
  {
   "cell_type": "code",
   "execution_count": 108,
   "metadata": {},
   "outputs": [],
   "source": [
    "data=pd.read_csv('../data/amazonca_products.csv')"
   ]
  },
  {
   "cell_type": "code",
   "execution_count": 109,
   "metadata": {},
   "outputs": [
    {
     "data": {
      "text/html": [
       "<div>\n",
       "<style scoped>\n",
       "    .dataframe tbody tr th:only-of-type {\n",
       "        vertical-align: middle;\n",
       "    }\n",
       "\n",
       "    .dataframe tbody tr th {\n",
       "        vertical-align: top;\n",
       "    }\n",
       "\n",
       "    .dataframe thead th {\n",
       "        text-align: right;\n",
       "    }\n",
       "</style>\n",
       "<table border=\"1\" class=\"dataframe\">\n",
       "  <thead>\n",
       "    <tr style=\"text-align: right;\">\n",
       "      <th></th>\n",
       "      <th>asin</th>\n",
       "      <th>title</th>\n",
       "      <th>imgUrl</th>\n",
       "      <th>productURL</th>\n",
       "      <th>stars</th>\n",
       "      <th>reviews</th>\n",
       "      <th>price</th>\n",
       "      <th>listPrice</th>\n",
       "      <th>categoryName</th>\n",
       "      <th>isBestSeller</th>\n",
       "      <th>boughtInLastMonth</th>\n",
       "    </tr>\n",
       "  </thead>\n",
       "  <tbody>\n",
       "    <tr>\n",
       "      <th>0</th>\n",
       "      <td>B07CV4L6HX</td>\n",
       "      <td>Green Leaf WW3D Wonder Extension Cord Winder, ...</td>\n",
       "      <td>https://m.media-amazon.com/images/I/81cRe0AVC4...</td>\n",
       "      <td>https://www.amazon.ca/dp/B07CV4L6HX</td>\n",
       "      <td>4.4</td>\n",
       "      <td>2876</td>\n",
       "      <td>47.69</td>\n",
       "      <td>0.00</td>\n",
       "      <td>Industrial  Scientific</td>\n",
       "      <td>False</td>\n",
       "      <td>0</td>\n",
       "    </tr>\n",
       "    <tr>\n",
       "      <th>1</th>\n",
       "      <td>B09N1HGY74</td>\n",
       "      <td>8pcs Toilet Seat Bumpers Universal Toilet Repl...</td>\n",
       "      <td>https://m.media-amazon.com/images/I/512CpB-EP5...</td>\n",
       "      <td>https://www.amazon.ca/dp/B09N1HGY74</td>\n",
       "      <td>3.8</td>\n",
       "      <td>55</td>\n",
       "      <td>10.99</td>\n",
       "      <td>0.00</td>\n",
       "      <td>Industrial  Scientific</td>\n",
       "      <td>False</td>\n",
       "      <td>100</td>\n",
       "    </tr>\n",
       "    <tr>\n",
       "      <th>2</th>\n",
       "      <td>B087P7538J</td>\n",
       "      <td>YaeCCC 19 Pcs Hole Saw Kit 3/4''(19mm)- 6''(15...</td>\n",
       "      <td>https://m.media-amazon.com/images/I/71P+qLFDFc...</td>\n",
       "      <td>https://www.amazon.ca/dp/B087P7538J</td>\n",
       "      <td>4.0</td>\n",
       "      <td>126</td>\n",
       "      <td>25.99</td>\n",
       "      <td>27.99</td>\n",
       "      <td>Industrial  Scientific</td>\n",
       "      <td>False</td>\n",
       "      <td>50</td>\n",
       "    </tr>\n",
       "    <tr>\n",
       "      <th>3</th>\n",
       "      <td>B0822FF7YQ</td>\n",
       "      <td>LLPT Butyl Putty Tape White 1 Inch x 33Ft Tigh...</td>\n",
       "      <td>https://m.media-amazon.com/images/I/61wfWLZRn-...</td>\n",
       "      <td>https://www.amazon.ca/dp/B0822FF7YQ</td>\n",
       "      <td>4.5</td>\n",
       "      <td>1936</td>\n",
       "      <td>21.99</td>\n",
       "      <td>30.99</td>\n",
       "      <td>Industrial  Scientific</td>\n",
       "      <td>False</td>\n",
       "      <td>100</td>\n",
       "    </tr>\n",
       "    <tr>\n",
       "      <th>4</th>\n",
       "      <td>B08NTR8NN4</td>\n",
       "      <td>Lightbeam 16\" Long Stem Deep Fry Thermometer w...</td>\n",
       "      <td>https://m.media-amazon.com/images/I/61qJG-y1He...</td>\n",
       "      <td>https://www.amazon.ca/dp/B08NTR8NN4</td>\n",
       "      <td>4.2</td>\n",
       "      <td>46</td>\n",
       "      <td>18.99</td>\n",
       "      <td>0.00</td>\n",
       "      <td>Industrial  Scientific</td>\n",
       "      <td>False</td>\n",
       "      <td>100</td>\n",
       "    </tr>\n",
       "  </tbody>\n",
       "</table>\n",
       "</div>"
      ],
      "text/plain": [
       "         asin                                              title  \\\n",
       "0  B07CV4L6HX  Green Leaf WW3D Wonder Extension Cord Winder, ...   \n",
       "1  B09N1HGY74  8pcs Toilet Seat Bumpers Universal Toilet Repl...   \n",
       "2  B087P7538J  YaeCCC 19 Pcs Hole Saw Kit 3/4''(19mm)- 6''(15...   \n",
       "3  B0822FF7YQ  LLPT Butyl Putty Tape White 1 Inch x 33Ft Tigh...   \n",
       "4  B08NTR8NN4  Lightbeam 16\" Long Stem Deep Fry Thermometer w...   \n",
       "\n",
       "                                              imgUrl  \\\n",
       "0  https://m.media-amazon.com/images/I/81cRe0AVC4...   \n",
       "1  https://m.media-amazon.com/images/I/512CpB-EP5...   \n",
       "2  https://m.media-amazon.com/images/I/71P+qLFDFc...   \n",
       "3  https://m.media-amazon.com/images/I/61wfWLZRn-...   \n",
       "4  https://m.media-amazon.com/images/I/61qJG-y1He...   \n",
       "\n",
       "                            productURL  stars  reviews  price  listPrice  \\\n",
       "0  https://www.amazon.ca/dp/B07CV4L6HX    4.4     2876  47.69       0.00   \n",
       "1  https://www.amazon.ca/dp/B09N1HGY74    3.8       55  10.99       0.00   \n",
       "2  https://www.amazon.ca/dp/B087P7538J    4.0      126  25.99      27.99   \n",
       "3  https://www.amazon.ca/dp/B0822FF7YQ    4.5     1936  21.99      30.99   \n",
       "4  https://www.amazon.ca/dp/B08NTR8NN4    4.2       46  18.99       0.00   \n",
       "\n",
       "             categoryName  isBestSeller  boughtInLastMonth  \n",
       "0  Industrial  Scientific         False                  0  \n",
       "1  Industrial  Scientific         False                100  \n",
       "2  Industrial  Scientific         False                 50  \n",
       "3  Industrial  Scientific         False                100  \n",
       "4  Industrial  Scientific         False                100  "
      ]
     },
     "execution_count": 109,
     "metadata": {},
     "output_type": "execute_result"
    }
   ],
   "source": [
    "data.head()"
   ]
  },
  {
   "cell_type": "code",
   "execution_count": 110,
   "metadata": {},
   "outputs": [
    {
     "data": {
      "text/plain": [
       "asin                 0\n",
       "title                6\n",
       "imgUrl               0\n",
       "productURL           0\n",
       "stars                0\n",
       "reviews              0\n",
       "price                0\n",
       "listPrice            0\n",
       "categoryName         0\n",
       "isBestSeller         0\n",
       "boughtInLastMonth    0\n",
       "dtype: int64"
      ]
     },
     "execution_count": 110,
     "metadata": {},
     "output_type": "execute_result"
    }
   ],
   "source": [
    "missing_data=data.isnull().sum()\n",
    "missing_data"
   ]
  },
  {
   "cell_type": "code",
   "execution_count": 111,
   "metadata": {},
   "outputs": [],
   "source": [
    "data=data.dropna()"
   ]
  },
  {
   "cell_type": "code",
   "execution_count": 112,
   "metadata": {},
   "outputs": [
    {
     "name": "stdout",
     "output_type": "stream",
     "text": [
      "<class 'pandas.core.frame.DataFrame'>\n",
      "Index: 2165920 entries, 0 to 2165925\n",
      "Data columns (total 11 columns):\n",
      " #   Column             Dtype  \n",
      "---  ------             -----  \n",
      " 0   asin               object \n",
      " 1   title              object \n",
      " 2   imgUrl             object \n",
      " 3   productURL         object \n",
      " 4   stars              float64\n",
      " 5   reviews            int64  \n",
      " 6   price              float64\n",
      " 7   listPrice          float64\n",
      " 8   categoryName       object \n",
      " 9   isBestSeller       bool   \n",
      " 10  boughtInLastMonth  int64  \n",
      "dtypes: bool(1), float64(3), int64(2), object(5)\n",
      "memory usage: 183.8+ MB\n",
      "None\n"
     ]
    }
   ],
   "source": [
    "print(data.info())"
   ]
  },
  {
   "cell_type": "code",
   "execution_count": 113,
   "metadata": {},
   "outputs": [
    {
     "data": {
      "text/plain": [
       "asin                 0\n",
       "title                0\n",
       "imgUrl               0\n",
       "productURL           0\n",
       "stars                0\n",
       "reviews              0\n",
       "price                0\n",
       "listPrice            0\n",
       "categoryName         0\n",
       "isBestSeller         0\n",
       "boughtInLastMonth    0\n",
       "dtype: int64"
      ]
     },
     "execution_count": 113,
     "metadata": {},
     "output_type": "execute_result"
    }
   ],
   "source": [
    "missing_data=data.isnull().sum()\n",
    "missing_data"
   ]
  },
  {
   "cell_type": "code",
   "execution_count": 114,
   "metadata": {},
   "outputs": [
    {
     "data": {
      "image/png": "[encoded data removed]",
      "text/plain": [
       "<Figure size 640x480 with 1 Axes>"
      ]
     },
     "metadata": {},
     "output_type": "display_data"
    }
   ],
   "source": [
    "sns.boxplot(x=data['price'])\n",
    "plt.show()"
   ]
  },
  {
   "cell_type": "code",
   "execution_count": 115,
   "metadata": {},
   "outputs": [
    {
     "name": "stdout",
     "output_type": "stream",
     "text": [
      "'price' column has 177910 0 values and 0 negative values\n"
     ]
    }
   ],
   "source": [
    "zero_price_count=(data['price']==0).sum()\n",
    "negative_price_count=(data['price']<0).sum()\n",
    "print(f\"'price' column has {zero_price_count} 0 values and {negative_price_count} negative values\")"
   ]
  },
  {
   "cell_type": "code",
   "execution_count": 116,
   "metadata": {},
   "outputs": [
    {
     "data": {
      "image/png": "[encoded data removed]",
      "text/plain": [
       "<Figure size 640x480 with 1 Axes>"
      ]
     },
     "metadata": {},
     "output_type": "display_data"
    }
   ],
   "source": [
    "sns.boxplot(x=data['listPrice'])\n",
    "plt.show()"
   ]
  },
  {
   "cell_type": "code",
   "execution_count": 118,
   "metadata": {},
   "outputs": [
    {
     "name": "stdout",
     "output_type": "stream",
     "text": [
      "'After data cleaning  with zero count = 0 and price with negative count = 0\n"
     ]
    }
   ],
   "source": [
    "data=data[data['price']>0]\n",
    "remaining_zero_count=(data['price']==0).sum()\n",
    "remaining_negative_count=(data['price']<0).sum()\n",
    "print(f\"'After data cleaning  with zero count = {remaining_zero_count} and price with negative count = {remaining_negative_count}\")"
   ]
  },
  {
   "cell_type": "code",
   "execution_count": 119,
   "metadata": {},
   "outputs": [
    {
     "name": "stdout",
     "output_type": "stream",
     "text": [
      "categoryName\n",
      "Baby                            24074\n",
      "Luggage  Travel Gear            22449\n",
      "Handmade Home Décor             19143\n",
      "Handmade Kitchen  Dining        19074\n",
      "Handmade Jewellery              18545\n",
      "                                ...  \n",
      "Kids' Ball Pits  Accessories      587\n",
      "Blu-ray Players  Recorders        467\n",
      "Smart Home                        434\n",
      "STEM                              210\n",
      "International Food Market         152\n",
      "Name: count, Length: 266, dtype: int64\n"
     ]
    }
   ],
   "source": [
    "print(data['categoryName'].value_counts())"
   ]
  },
  {
   "cell_type": "code",
   "execution_count": 120,
   "metadata": {},
   "outputs": [
    {
     "name": "stdout",
     "output_type": "stream",
     "text": [
      "categoryName\n",
      "Baby                            24074\n",
      "Luggage  Travel Gear            22449\n",
      "Handmade Home Décor             19143\n",
      "Handmade Kitchen  Dining        19074\n",
      "Handmade Jewellery              18545\n",
      "                                ...  \n",
      "Kids' Ball Pits  Accessories      587\n",
      "Blu-ray Players  Recorders        467\n",
      "Smart Home                        434\n",
      "STEM                              210\n",
      "International Food Market         152\n",
      "Name: count, Length: 266, dtype: int64\n"
     ]
    }
   ],
   "source": [
    "data = data[(data['stars'] >= 0) & (data['stars'] <= 5)]\n",
    "data = data[data['reviews'] >= 0]\n",
    "data = data[data['boughtInLastMonth'] >= 0]\n",
    "print(data['categoryName'].value_counts())"
   ]
  },
  {
   "cell_type": "code",
   "execution_count": 121,
   "metadata": {},
   "outputs": [],
   "source": [
    "data=data[data['listPrice']>0]"
   ]
  },
  {
   "cell_type": "code",
   "execution_count": 122,
   "metadata": {},
   "outputs": [],
   "source": [
    "data = data.drop_duplicates()"
   ]
  },
  {
   "cell_type": "code",
   "execution_count": 123,
   "metadata": {},
   "outputs": [
    {
     "data": {
      "text/html": [
       "<div>\n",
       "<style scoped>\n",
       "    .dataframe tbody tr th:only-of-type {\n",
       "        vertical-align: middle;\n",
       "    }\n",
       "\n",
       "    .dataframe tbody tr th {\n",
       "        vertical-align: top;\n",
       "    }\n",
       "\n",
       "    .dataframe thead th {\n",
       "        text-align: right;\n",
       "    }\n",
       "</style>\n",
       "<table border=\"1\" class=\"dataframe\">\n",
       "  <thead>\n",
       "    <tr style=\"text-align: right;\">\n",
       "      <th></th>\n",
       "      <th>asin</th>\n",
       "      <th>title</th>\n",
       "      <th>imgUrl</th>\n",
       "      <th>productURL</th>\n",
       "      <th>stars</th>\n",
       "      <th>reviews</th>\n",
       "      <th>price</th>\n",
       "      <th>listPrice</th>\n",
       "      <th>categoryName</th>\n",
       "      <th>isBestSeller</th>\n",
       "      <th>boughtInLastMonth</th>\n",
       "    </tr>\n",
       "  </thead>\n",
       "  <tbody>\n",
       "    <tr>\n",
       "      <th>2</th>\n",
       "      <td>B087P7538J</td>\n",
       "      <td>YaeCCC 19 Pcs Hole Saw Kit 3/4''(19mm)- 6''(15...</td>\n",
       "      <td>https://m.media-amazon.com/images/I/71P+qLFDFc...</td>\n",
       "      <td>https://www.amazon.ca/dp/B087P7538J</td>\n",
       "      <td>4.0</td>\n",
       "      <td>126</td>\n",
       "      <td>25.99</td>\n",
       "      <td>27.99</td>\n",
       "      <td>Industrial  Scientific</td>\n",
       "      <td>False</td>\n",
       "      <td>50</td>\n",
       "    </tr>\n",
       "    <tr>\n",
       "      <th>3</th>\n",
       "      <td>B0822FF7YQ</td>\n",
       "      <td>LLPT Butyl Putty Tape White 1 Inch x 33Ft Tigh...</td>\n",
       "      <td>https://m.media-amazon.com/images/I/61wfWLZRn-...</td>\n",
       "      <td>https://www.amazon.ca/dp/B0822FF7YQ</td>\n",
       "      <td>4.5</td>\n",
       "      <td>1936</td>\n",
       "      <td>21.99</td>\n",
       "      <td>30.99</td>\n",
       "      <td>Industrial  Scientific</td>\n",
       "      <td>False</td>\n",
       "      <td>100</td>\n",
       "    </tr>\n",
       "    <tr>\n",
       "      <th>9</th>\n",
       "      <td>B07KMT96S2</td>\n",
       "      <td>Knife Sharpening Stone,400/1000.2000/5000 Doub...</td>\n",
       "      <td>https://m.media-amazon.com/images/I/61uWVjhezJ...</td>\n",
       "      <td>https://www.amazon.ca/dp/B07KMT96S2</td>\n",
       "      <td>4.4</td>\n",
       "      <td>366</td>\n",
       "      <td>29.99</td>\n",
       "      <td>35.99</td>\n",
       "      <td>Industrial  Scientific</td>\n",
       "      <td>False</td>\n",
       "      <td>50</td>\n",
       "    </tr>\n",
       "    <tr>\n",
       "      <th>13</th>\n",
       "      <td>B08R8T657H</td>\n",
       "      <td>MIXPOWER Extra Long Torx Bit Socket Set, 3.5-i...</td>\n",
       "      <td>https://m.media-amazon.com/images/I/6154LErNL3...</td>\n",
       "      <td>https://www.amazon.ca/dp/B08R8T657H</td>\n",
       "      <td>4.4</td>\n",
       "      <td>82</td>\n",
       "      <td>19.97</td>\n",
       "      <td>21.97</td>\n",
       "      <td>Industrial  Scientific</td>\n",
       "      <td>False</td>\n",
       "      <td>0</td>\n",
       "    </tr>\n",
       "    <tr>\n",
       "      <th>18</th>\n",
       "      <td>B088M3JCP2</td>\n",
       "      <td>Heat Insulation Silicone Repair Mat with Scale...</td>\n",
       "      <td>https://m.media-amazon.com/images/I/61nzkHmJSZ...</td>\n",
       "      <td>https://www.amazon.ca/dp/B088M3JCP2</td>\n",
       "      <td>4.7</td>\n",
       "      <td>142</td>\n",
       "      <td>21.99</td>\n",
       "      <td>25.99</td>\n",
       "      <td>Industrial  Scientific</td>\n",
       "      <td>False</td>\n",
       "      <td>50</td>\n",
       "    </tr>\n",
       "  </tbody>\n",
       "</table>\n",
       "</div>"
      ],
      "text/plain": [
       "          asin                                              title  \\\n",
       "2   B087P7538J  YaeCCC 19 Pcs Hole Saw Kit 3/4''(19mm)- 6''(15...   \n",
       "3   B0822FF7YQ  LLPT Butyl Putty Tape White 1 Inch x 33Ft Tigh...   \n",
       "9   B07KMT96S2  Knife Sharpening Stone,400/1000.2000/5000 Doub...   \n",
       "13  B08R8T657H  MIXPOWER Extra Long Torx Bit Socket Set, 3.5-i...   \n",
       "18  B088M3JCP2  Heat Insulation Silicone Repair Mat with Scale...   \n",
       "\n",
       "                                               imgUrl  \\\n",
       "2   https://m.media-amazon.com/images/I/71P+qLFDFc...   \n",
       "3   https://m.media-amazon.com/images/I/61wfWLZRn-...   \n",
       "9   https://m.media-amazon.com/images/I/61uWVjhezJ...   \n",
       "13  https://m.media-amazon.com/images/I/6154LErNL3...   \n",
       "18  https://m.media-amazon.com/images/I/61nzkHmJSZ...   \n",
       "\n",
       "                             productURL  stars  reviews  price  listPrice  \\\n",
       "2   https://www.amazon.ca/dp/B087P7538J    4.0      126  25.99      27.99   \n",
       "3   https://www.amazon.ca/dp/B0822FF7YQ    4.5     1936  21.99      30.99   \n",
       "9   https://www.amazon.ca/dp/B07KMT96S2    4.4      366  29.99      35.99   \n",
       "13  https://www.amazon.ca/dp/B08R8T657H    4.4       82  19.97      21.97   \n",
       "18  https://www.amazon.ca/dp/B088M3JCP2    4.7      142  21.99      25.99   \n",
       "\n",
       "              categoryName  isBestSeller  boughtInLastMonth  \n",
       "2   Industrial  Scientific         False                 50  \n",
       "3   Industrial  Scientific         False                100  \n",
       "9   Industrial  Scientific         False                 50  \n",
       "13  Industrial  Scientific         False                  0  \n",
       "18  Industrial  Scientific         False                 50  "
      ]
     },
     "execution_count": 123,
     "metadata": {},
     "output_type": "execute_result"
    }
   ],
   "source": [
    "data.head()"
   ]
  },
  {
   "cell_type": "code",
   "execution_count": 124,
   "metadata": {},
   "outputs": [
    {
     "data": {
      "text/html": [
       "<div>\n",
       "<style scoped>\n",
       "    .dataframe tbody tr th:only-of-type {\n",
       "        vertical-align: middle;\n",
       "    }\n",
       "\n",
       "    .dataframe tbody tr th {\n",
       "        vertical-align: top;\n",
       "    }\n",
       "\n",
       "    .dataframe thead th {\n",
       "        text-align: right;\n",
       "    }\n",
       "</style>\n",
       "<table border=\"1\" class=\"dataframe\">\n",
       "  <thead>\n",
       "    <tr style=\"text-align: right;\">\n",
       "      <th></th>\n",
       "      <th>stars</th>\n",
       "      <th>reviews</th>\n",
       "      <th>price</th>\n",
       "      <th>listPrice</th>\n",
       "      <th>boughtInLastMonth</th>\n",
       "    </tr>\n",
       "  </thead>\n",
       "  <tbody>\n",
       "    <tr>\n",
       "      <th>count</th>\n",
       "      <td>166649.000000</td>\n",
       "      <td>166649.000000</td>\n",
       "      <td>166649.000000</td>\n",
       "      <td>166649.000000</td>\n",
       "      <td>166649.000000</td>\n",
       "    </tr>\n",
       "    <tr>\n",
       "      <th>mean</th>\n",
       "      <td>4.059658</td>\n",
       "      <td>1538.714268</td>\n",
       "      <td>50.421619</td>\n",
       "      <td>60.453717</td>\n",
       "      <td>32.154708</td>\n",
       "    </tr>\n",
       "    <tr>\n",
       "      <th>std</th>\n",
       "      <td>1.095613</td>\n",
       "      <td>8205.360235</td>\n",
       "      <td>76.992933</td>\n",
       "      <td>90.567272</td>\n",
       "      <td>215.280538</td>\n",
       "    </tr>\n",
       "    <tr>\n",
       "      <th>min</th>\n",
       "      <td>0.000000</td>\n",
       "      <td>0.000000</td>\n",
       "      <td>0.010000</td>\n",
       "      <td>1.690000</td>\n",
       "      <td>0.000000</td>\n",
       "    </tr>\n",
       "    <tr>\n",
       "      <th>25%</th>\n",
       "      <td>4.000000</td>\n",
       "      <td>15.000000</td>\n",
       "      <td>15.990000</td>\n",
       "      <td>19.680000</td>\n",
       "      <td>0.000000</td>\n",
       "    </tr>\n",
       "    <tr>\n",
       "      <th>50%</th>\n",
       "      <td>4.400000</td>\n",
       "      <td>117.000000</td>\n",
       "      <td>25.950000</td>\n",
       "      <td>30.990000</td>\n",
       "      <td>0.000000</td>\n",
       "    </tr>\n",
       "    <tr>\n",
       "      <th>75%</th>\n",
       "      <td>4.600000</td>\n",
       "      <td>718.000000</td>\n",
       "      <td>49.950000</td>\n",
       "      <td>59.980000</td>\n",
       "      <td>0.000000</td>\n",
       "    </tr>\n",
       "    <tr>\n",
       "      <th>max</th>\n",
       "      <td>5.000000</td>\n",
       "      <td>868865.000000</td>\n",
       "      <td>950.000000</td>\n",
       "      <td>999.990000</td>\n",
       "      <td>20000.000000</td>\n",
       "    </tr>\n",
       "  </tbody>\n",
       "</table>\n",
       "</div>"
      ],
      "text/plain": [
       "               stars        reviews          price      listPrice  \\\n",
       "count  166649.000000  166649.000000  166649.000000  166649.000000   \n",
       "mean        4.059658    1538.714268      50.421619      60.453717   \n",
       "std         1.095613    8205.360235      76.992933      90.567272   \n",
       "min         0.000000       0.000000       0.010000       1.690000   \n",
       "25%         4.000000      15.000000      15.990000      19.680000   \n",
       "50%         4.400000     117.000000      25.950000      30.990000   \n",
       "75%         4.600000     718.000000      49.950000      59.980000   \n",
       "max         5.000000  868865.000000     950.000000     999.990000   \n",
       "\n",
       "       boughtInLastMonth  \n",
       "count      166649.000000  \n",
       "mean           32.154708  \n",
       "std           215.280538  \n",
       "min             0.000000  \n",
       "25%             0.000000  \n",
       "50%             0.000000  \n",
       "75%             0.000000  \n",
       "max         20000.000000  "
      ]
     },
     "execution_count": 124,
     "metadata": {},
     "output_type": "execute_result"
    }
   ],
   "source": [
    "data.describe()"
   ]
  },
  {
   "cell_type": "code",
   "execution_count": 125,
   "metadata": {},
   "outputs": [],
   "source": [
    "data.loc[data['categoryName'] == 'Nursery Furniture, Bedding  Décor', 'categoryName'] = 'Nursery Furniture, Bedding Decor'\n",
    "data.loc[data['title'] == 'Uniden BCD436HP Handheld Digital Scanner with HPDB and Phase 2','categoryName'] ='Electronics'\n",
    "data.loc[data['title'] == 'Sony SACS9 10-Inch Active Subwoofer, Black','categoryName'] ='Electronics'\n",
    "\n"
   ]
  },
  {
   "cell_type": "code",
   "execution_count": 126,
   "metadata": {},
   "outputs": [
    {
     "name": "stdout",
     "output_type": "stream",
     "text": [
      "DataFrame has been successfully saved to ../data/clean_amazonca.csv\n"
     ]
    }
   ],
   "source": [
    "csv_path='../data/clean_amazonca.csv'\n",
    "df=pd.DataFrame(data)\n",
    "df.to_csv(csv_path,index=False)\n",
    "print(f'DataFrame has been successfully saved to {csv_path}')"
   ]
  },
  {
   "cell_type": "code",
   "execution_count": 127,
   "metadata": {},
   "outputs": [],
   "source": [
    "cleandata=pd.read_csv('../data/clean_amazonca.csv')"
   ]
  },
  {
   "cell_type": "code",
   "execution_count": 128,
   "metadata": {},
   "outputs": [
    {
     "data": {
      "text/html": [
       "<div>\n",
       "<style scoped>\n",
       "    .dataframe tbody tr th:only-of-type {\n",
       "        vertical-align: middle;\n",
       "    }\n",
       "\n",
       "    .dataframe tbody tr th {\n",
       "        vertical-align: top;\n",
       "    }\n",
       "\n",
       "    .dataframe thead th {\n",
       "        text-align: right;\n",
       "    }\n",
       "</style>\n",
       "<table border=\"1\" class=\"dataframe\">\n",
       "  <thead>\n",
       "    <tr style=\"text-align: right;\">\n",
       "      <th></th>\n",
       "      <th>stars</th>\n",
       "      <th>reviews</th>\n",
       "      <th>price</th>\n",
       "      <th>listPrice</th>\n",
       "      <th>boughtInLastMonth</th>\n",
       "    </tr>\n",
       "  </thead>\n",
       "  <tbody>\n",
       "    <tr>\n",
       "      <th>count</th>\n",
       "      <td>166649.000000</td>\n",
       "      <td>166649.000000</td>\n",
       "      <td>166649.000000</td>\n",
       "      <td>166649.000000</td>\n",
       "      <td>166649.000000</td>\n",
       "    </tr>\n",
       "    <tr>\n",
       "      <th>mean</th>\n",
       "      <td>4.059658</td>\n",
       "      <td>1538.714268</td>\n",
       "      <td>50.421619</td>\n",
       "      <td>60.453717</td>\n",
       "      <td>32.154708</td>\n",
       "    </tr>\n",
       "    <tr>\n",
       "      <th>std</th>\n",
       "      <td>1.095613</td>\n",
       "      <td>8205.360235</td>\n",
       "      <td>76.992933</td>\n",
       "      <td>90.567272</td>\n",
       "      <td>215.280538</td>\n",
       "    </tr>\n",
       "    <tr>\n",
       "      <th>min</th>\n",
       "      <td>0.000000</td>\n",
       "      <td>0.000000</td>\n",
       "      <td>0.010000</td>\n",
       "      <td>1.690000</td>\n",
       "      <td>0.000000</td>\n",
       "    </tr>\n",
       "    <tr>\n",
       "      <th>25%</th>\n",
       "      <td>4.000000</td>\n",
       "      <td>15.000000</td>\n",
       "      <td>15.990000</td>\n",
       "      <td>19.680000</td>\n",
       "      <td>0.000000</td>\n",
       "    </tr>\n",
       "    <tr>\n",
       "      <th>50%</th>\n",
       "      <td>4.400000</td>\n",
       "      <td>117.000000</td>\n",
       "      <td>25.950000</td>\n",
       "      <td>30.990000</td>\n",
       "      <td>0.000000</td>\n",
       "    </tr>\n",
       "    <tr>\n",
       "      <th>75%</th>\n",
       "      <td>4.600000</td>\n",
       "      <td>718.000000</td>\n",
       "      <td>49.950000</td>\n",
       "      <td>59.980000</td>\n",
       "      <td>0.000000</td>\n",
       "    </tr>\n",
       "    <tr>\n",
       "      <th>max</th>\n",
       "      <td>5.000000</td>\n",
       "      <td>868865.000000</td>\n",
       "      <td>950.000000</td>\n",
       "      <td>999.990000</td>\n",
       "      <td>20000.000000</td>\n",
       "    </tr>\n",
       "  </tbody>\n",
       "</table>\n",
       "</div>"
      ],
      "text/plain": [
       "               stars        reviews          price      listPrice  \\\n",
       "count  166649.000000  166649.000000  166649.000000  166649.000000   \n",
       "mean        4.059658    1538.714268      50.421619      60.453717   \n",
       "std         1.095613    8205.360235      76.992933      90.567272   \n",
       "min         0.000000       0.000000       0.010000       1.690000   \n",
       "25%         4.000000      15.000000      15.990000      19.680000   \n",
       "50%         4.400000     117.000000      25.950000      30.990000   \n",
       "75%         4.600000     718.000000      49.950000      59.980000   \n",
       "max         5.000000  868865.000000     950.000000     999.990000   \n",
       "\n",
       "       boughtInLastMonth  \n",
       "count      166649.000000  \n",
       "mean           32.154708  \n",
       "std           215.280538  \n",
       "min             0.000000  \n",
       "25%             0.000000  \n",
       "50%             0.000000  \n",
       "75%             0.000000  \n",
       "max         20000.000000  "
      ]
     },
     "execution_count": 128,
     "metadata": {},
     "output_type": "execute_result"
    }
   ],
   "source": [
    "cleandata.describe()"
   ]
  },
  {
   "cell_type": "code",
   "execution_count": 129,
   "metadata": {},
   "outputs": [
    {
     "name": "stdout",
     "output_type": "stream",
     "text": [
      "<class 'pandas.core.frame.DataFrame'>\n",
      "RangeIndex: 166649 entries, 0 to 166648\n",
      "Data columns (total 11 columns):\n",
      " #   Column             Non-Null Count   Dtype  \n",
      "---  ------             --------------   -----  \n",
      " 0   asin               166649 non-null  object \n",
      " 1   title              166649 non-null  object \n",
      " 2   imgUrl             166649 non-null  object \n",
      " 3   productURL         166649 non-null  object \n",
      " 4   stars              166649 non-null  float64\n",
      " 5   reviews            166649 non-null  int64  \n",
      " 6   price              166649 non-null  float64\n",
      " 7   listPrice          166649 non-null  float64\n",
      " 8   categoryName       166649 non-null  object \n",
      " 9   isBestSeller       166649 non-null  bool   \n",
      " 10  boughtInLastMonth  166649 non-null  int64  \n",
      "dtypes: bool(1), float64(3), int64(2), object(5)\n",
      "memory usage: 12.9+ MB\n"
     ]
    }
   ],
   "source": [
    "cleandata.info()"
   ]
  },
  {
   "cell_type": "code",
   "execution_count": 131,
   "metadata": {},
   "outputs": [
    {
     "name": "stdout",
     "output_type": "stream",
     "text": [
      "<class 'pandas.core.frame.DataFrame'>\n",
      "RangeIndex: 166649 entries, 0 to 166648\n",
      "Data columns (total 11 columns):\n",
      " #   Column             Non-Null Count   Dtype  \n",
      "---  ------             --------------   -----  \n",
      " 0   asin               166649 non-null  object \n",
      " 1   title              166649 non-null  object \n",
      " 2   imgUrl             166649 non-null  object \n",
      " 3   productURL         166649 non-null  object \n",
      " 4   stars              166649 non-null  float64\n",
      " 5   reviews            166649 non-null  int64  \n",
      " 6   price              166649 non-null  float64\n",
      " 7   listPrice          166649 non-null  float64\n",
      " 8   categoryName       166649 non-null  object \n",
      " 9   isBestSeller       166649 non-null  bool   \n",
      " 10  boughtInLastMonth  166649 non-null  int64  \n",
      "dtypes: bool(1), float64(3), int64(2), object(5)\n",
      "memory usage: 12.9+ MB\n"
     ]
    }
   ],
   "source": [
    "#cleandata=pd.read_csv('../data/clean_amazonca.csv')\n",
    "#data.describe()\n",
    "cleandata.drop_duplicates().info()"
   ]
  },
  {
   "cell_type": "markdown",
   "metadata": {},
   "source": [
    "Category aggregation "
   ]
  },
  {
   "cell_type": "code",
   "execution_count": 132,
   "metadata": {},
   "outputs": [
    {
     "data": {
      "text/plain": [
       "261"
      ]
     },
     "execution_count": 132,
     "metadata": {},
     "output_type": "execute_result"
    }
   ],
   "source": [
    "unique_category_count=cleandata['categoryName'].nunique()\n",
    "unique_category_count"
   ]
  },
  {
   "cell_type": "code",
   "execution_count": 224,
   "metadata": {},
   "outputs": [
    {
     "data": {
      "text/plain": [
       "162548"
      ]
     },
     "execution_count": 224,
     "metadata": {},
     "output_type": "execute_result"
    }
   ],
   "source": [
    "unique_title_count=cleandata['title'].nunique()\n",
    "unique_title_count\n",
    "#cleandata.shape"
   ]
  },
  {
   "cell_type": "code",
   "execution_count": 133,
   "metadata": {},
   "outputs": [
    {
     "name": "stdout",
     "output_type": "stream",
     "text": [
      "['Industrial  Scientific' 'Motorcycle Accessories  Parts'\n",
      " 'Automotive Tires  Wheels' 'Dishwashing Supplies' 'Arts  Crafts Supplies'\n",
      " \"Men's Shoes\" \"Women's Shoes\" 'Fresh Flowers  Indoor Plants'\n",
      " 'Swimming Pool  Outdoor Water Toys' 'Material Transport Equipment'\n",
      " 'Flashlights' 'Nails, Screws  Fasteners'\n",
      " 'Audio/Video Receivers  Amplifiers' 'Digital Media Devices'\n",
      " 'Data Storage' 'Perfume  Cologne' 'Sandboxes  Beach Toys'\n",
      " 'Building Supplies' 'Ladders' 'Scaffolding Equipment' 'Hardware'\n",
      " 'Door Hardware  Locks' 'Furniture Hardware' 'Gate Hardware'\n",
      " 'Mailboxes  Accessories' 'Locks  Hasps' 'Televisions  Video'\n",
      " 'TV Accessories' 'Satellite Television Equipment' 'Televisions'\n",
      " 'Hand Tools' 'Beauty' 'Bath  Body' 'Salon  Spa Equipment'\n",
      " 'Shaving  Hair Removal Products' 'Skin Care Products'\n",
      " 'Tattooing Supplies' 'Beauty Tools  Accessories' 'Computer Components'\n",
      " 'Baby  Toddler Toys' 'Job Site Lighting' 'Bathroom Hardware'\n",
      " 'Hardware Hooks' 'Window Hardware' 'Home Theatre Systems' 'Electronics'\n",
      " 'Makeup' 'Cutting Tools' \"Women's Accessories\" 'Outdoor Décor'\n",
      " 'Kitchen Utensils  Gadgets' 'Tableware' 'Household Cleaning Tools'\n",
      " 'Household Cleaning' 'Laundry Supplies' 'Bedding'\n",
      " 'Automotive Tools  Equipment' 'Building  Construction Toys'\n",
      " 'Handmade Jewellery' 'RV Parts  Accessories' 'Girls'\n",
      " 'Luggage  Travel Gear' 'Handmade Home Décor' 'Office Products'\n",
      " 'International Food Market' 'Occupational Health  Safety Products'\n",
      " 'Pet Supplies' 'Home Storage  Organization' 'Printers' 'Game Hardware'\n",
      " 'Patio, Lawn  Garden' 'Coffee, Tea  Espresso'\n",
      " 'Kitchen Storage  Organization' 'Water Coolers, Filters  Cartridges'\n",
      " 'Boys' 'Cycling Equipment' 'Awards' 'Snow  Ice Sports'\n",
      " 'Janitorial  Sanitation Supplies' 'Industrial Materials'\n",
      " 'Automotive Care' 'Outdoor Power  Lawn Equipment'\n",
      " 'Outdoor Storage  Housing' 'Pools, Hot Tubs  Supplies' 'Home  Kitchen'\n",
      " 'Irons, Steamers  Accessories' 'Baby  Child Care Products'\n",
      " 'Vision Care Products' 'Golf Equipment'\n",
      " 'Laptop  Netbook Computer Accessories' 'Printer Accessories'\n",
      " 'Kites  Wind Spinners' 'Car Electronics  Accessories'\n",
      " 'Weather Thermometers' 'Handmade Toys  Games' 'Handmade Kitchen  Dining'\n",
      " \"Men's Jewelry\" \"Women's Handbags\" 'Outdoor Cooking' 'Automotive'\n",
      " 'Oils  Fluids' 'Handmade Clothing, Shoes  Accessories'\n",
      " 'Dolls  Accessories' 'Sports  Outdoors' \"Men's Watches\" \"Women's Watches\"\n",
      " 'Farming  Urban Agriculture' 'Outdoor Lighting Products' 'Men'\n",
      " 'Shoe, Jewelry  Watch Accessories' 'Sporting Apparel'\n",
      " 'Martial Arts  Combat Sports' 'Breakfast Cereal' '3D Printing  Scanning'\n",
      " 'Food Service Equipment  Supplies' 'Paper  Plastic Household Supplies'\n",
      " 'Bath Products' 'Sex  Sensuality Products' 'Oral Hygiene Products'\n",
      " 'Hair Care' 'Indoor Insect  Pest Control' 'Sewing, Craft  Hobby'\n",
      " 'Home Décor' 'Household Supplies' 'Nail Polish  Nail Decoration Products'\n",
      " 'Home  Portable Audio' 'Dog Supplies' 'Baby' 'Clothing, Shoes  Jewellery'\n",
      " \"Kids' Play Tents  Tunnels\" \"Kids' Slumber Bags\" 'Toy Sports Equipment'\n",
      " 'Hardware Adhesives  Sealers' 'Garage Door Hardware'\n",
      " 'Shelf Brackets  Supports' 'Blu-ray Players  Recorders'\n",
      " 'DVD Players  Recorders' 'Luxury Beauty' 'Automotive Replacement Parts'\n",
      " 'Women' 'Power Transmission Products' 'Sport Specific Clothing'\n",
      " 'Outdoor Gear' 'Hunting  Fishing' 'Outdoor Recreation Apparel  Equipment'\n",
      " 'Leisure Sports  Game Room' 'Team Sports' 'Grocery'\n",
      " 'Test, Measure  Inspect' 'Commerical Door Products' 'Filtration'\n",
      " 'Industrial Hardware' 'Material Handling' 'Power  Hand Tools'\n",
      " 'Tools  Home Improvement' 'Automotive Exterior Accessories'\n",
      " 'Automotive Interior Accessories' 'Handmade Beauty  Grooming Products'\n",
      " 'Toys  Games' 'Stuffed  Plush Animals' 'Collectible Toys'\n",
      " 'Bikes, Scooters  Ride-Ons' 'Action Figures, Maquettes  Busts'\n",
      " \"Men's Accessories\" 'Bakeware' \"Women's Jewelry\" 'Home Audio Speakers'\n",
      " 'Exercise  Fitness Equipment' 'Games  Accessories'\n",
      " 'Power Tools  Hand Tools' 'Furniture' 'Networking Products'\n",
      " 'Computer Monitors' 'Camping  Hiking Equipment' 'Smart Home'\n",
      " 'Handmade in Canada' 'Child Safety Car Seats' 'Lab  Scientific Products'\n",
      " 'Baby Strollers' 'Electrical Equipment' 'Patio Furniture  Accessories'\n",
      " 'Kitchen Cookware' 'Kitchen  Dining' 'Diet  Nutrition Products'\n",
      " \"Women's Health  Family Planning\" 'Computer Audio  Video Accessories'\n",
      " 'USB Hubs' 'Outdoor Play Toys' 'Uniforms, Work  Safety'\n",
      " 'Boating  Watersports' 'Electronics  Gadgets'\n",
      " 'Abrasive  Finishing Products' 'Hydraulics, Pneumatics  Plumbing'\n",
      " 'Professional Medical Supplies' 'Novelty  Special Use Clothing'\n",
      " 'Sports Fan Shop' 'Action Sports' 'Fasteners'\n",
      " 'Science Education Supplies' 'Pest Control'\n",
      " 'Kitchen Knives  Cutlery Accessories' 'Heating Cooling  Air Quality'\n",
      " 'Large Appliances' 'Health Care Products' 'Memory Cards'\n",
      " 'Computer Monitor Accessories' 'Toy Gardening Equipment'\n",
      " 'Garden Structures  Germination Equipment' 'Outdoor Heating  Cooling'\n",
      " 'Barware' 'Small Appliances' 'Home Textiles' 'Vacuums  Floor Care'\n",
      " 'Wellness' 'Computer Accessories' 'USB Gadgets' 'Tablet Accessories'\n",
      " \"Children's Outdoor Inflatable Bouncers  Bouncy Castles\"\n",
      " 'Paint, Body  Trim Products' 'Handmade Stationery  Party Supplies'\n",
      " 'Toy Vehicles' \"Men's Clothing\" \"Women's Clothing\" 'Backyard Birding'\n",
      " 'Building Materials' 'Cabinet Hardware' 'House Numbers, Plaques  Signs'\n",
      " 'Tarps  Tie-Downs' 'Television Projectors' 'Cat Supplies'\n",
      " 'Musical Instruments, Stage  Studio' 'Nursery Furniture, Bedding Decor'\n",
      " 'Kitchen  Bath Fixtures' 'Laptop Computers' 'Camera  Photo' 'STEM'\n",
      " 'Vehicle Electronics' 'Desktop Computers' 'Hobbies' 'Household Batteries'\n",
      " 'Cigarette Lighters' 'Plants Seeds  Bulbs' 'Home Brewing  Wine Making'\n",
      " 'Air Freshener Supplies' 'Artwork' 'Health  Personal Care'\n",
      " 'Medical Supplies  Equipment' 'Stationery  Party Supplies'\n",
      " 'Vitamins, Minerals  Supplements' 'Computer Cable Adapters'\n",
      " 'Computer Security Cables' 'Computer Hard Drive Accessories'\n",
      " 'Keyboards, Mice  Input Devices' 'Computer Uninterrupted Power Supply'\n",
      " 'Memory Card Accessories' 'Cables  Accessories'\n",
      " \"Kids' Ball Pits  Accessories\" 'Beanbag  Foot Bags'\n",
      " 'Toy Foam Blasters  Guns' 'Bubble Blowing Products'\n",
      " 'Play Sets  Playground Equipment'] \n"
     ]
    }
   ],
   "source": [
    "\n",
    "unique_category=cleandata['categoryName'].unique()\n",
    "print(f\"{unique_category} \")"
   ]
  },
  {
   "cell_type": "code",
   "execution_count": 135,
   "metadata": {},
   "outputs": [],
   "source": [
    "def categorize_into_main_groups(category):\n",
    "    fashion = [\"Men's Shoes\", \"Women's Shoes\", \"Men's Jewelry\", \"Women's Handbags\", \n",
    "               \"Men's Watches\", \"Women's Watches\", \"Men's Accessories\", \"Women's Accessories\", \n",
    "               \"Men's Clothing\", \"Women's Clothing\", \"Women's Jewelry\", \"Men's Accessories\", \n",
    "               \"Shoe\", \"Jewelry & Watch Accessories\", \"Handmade Clothing, Shoes & Accessories\", \n",
    "               \"Novelty & Special Use Clothing\", \"Sport Specific Clothing\", \"Sporting Apparel\", \n",
    "               \"Clothing, Shoes & Jewellery\",\"Girls\",\"Boys\",\"Men\",\"Shoe\", \"Jewelry  Watch Accessories\",\"Clothing\", \"Shoes  Jewellery\",\"Women\",\"Novelty  Special Use Clothing\",\n",
    "               \"Shoe, Jewelry  Watch Accessories\",\"Clothing, Shoes  Jewellery\",\"Perfume  Cologne\"]\n",
    "\n",
    "    home_kitchen = [\"Kitchen Utensils & Gadgets\", \"Household Cleaning Tools\", \"Household Cleaning\", \n",
    "                    \"Laundry Supplies\", \"Bedding\", \"Home Décor\", \"Household Supplies\", \"Kitchen & Dining\", \n",
    "                    \"Household Cleaning Tools\", \"Household Cleaning\", \"Laundry Supplies\", \"Kitchen & Bath Fixtures\",\n",
    "                    \"Kitchen Cookware\", \"Household Batteries\", \"Heating Cooling & Air Quality\", \"Large Appliances\", \n",
    "                    \"Small Appliances\", \"Vacuums & Floor Care\",\"Dishwashing Supplies\",\"Kitchen Utensils  Gadgets\",\"Tableware\",\"Awards\",\"Janitorial  Sanitation Supplies\",\"Home  Kitchen\",\n",
    "                    \"Paper  Plastic Household Supplies\",\"Bakeware\",\"Kitchen  Dining\",\"Kitchen Knives  Cutlery Accessories\",\"Home Textiles\",\"Vacuums  Floor Care\",\"Kitchen  Bath Fixtures\",\n",
    "                    \"Home Brewing  Wine Making\"]\n",
    "\n",
    "    beauty_personal_care = [\"Perfume & Cologne\", \"Beauty\", \"Bath & Body\", \"Shaving & Hair Removal Products\", \n",
    "                            \"Skin Care Products\", \"Makeup\", \"Hair Care\", \"Beauty Tools & Accessories\", \n",
    "                            \"Nail Polish & Nail Decoration Products\", \"Oral Hygiene Products\", \"Bath Products\", \n",
    "                            \"Sex & Sensuality Products\", \"Vision Care Products\", \"Skin Care Products\", \n",
    "                            \"Tattooing Supplies\", \"Beauty Tools & Accessories\", \"Luxury Beauty\", \n",
    "                            \"Handmade Beauty & Grooming Products\",\"Perfume  Cologne\",\"Sex  Sensuality Products\",\"Sex  Sensuality Products\"]\n",
    "                           \n",
    "\n",
    "    toys_games = [\"Baby & Toddler Toys\", \"Building & Construction Toys\", \"Handmade Toys & Games\", \n",
    "                  \"Dolls & Accessories\", \"Action Figures, Maquettes & Busts\", \"Stuffed & Plush Animals\", \n",
    "                  \"Collectible Toys\", \"Bikes, Scooters & Ride-Ons\", \"Toys & Games\", \"Kites & Wind Spinners\", \n",
    "                  \"Sandboxes & Beach Toys\", \"Kids' Play Tents & Tunnels\", \"Kids' Slumber Bags\", \"Toy Sports Equipment\", \n",
    "                  \"Outdoor Play Toys\", \"Toy Vehicles\", \"Toy Foam Blasters & Guns\", \"Bubble Blowing Products\",\"Dolls  Accessories\",\"Toys  Games\",\"Bikes, Scooters  Ride-Ons\",\n",
    "                  \"Action Figures\", \"Maquettes  Busts\",\"Action Figures, Maquettes  Busts\"]\n",
    "    \n",
    "    automotive = [\"Motorcycle Accessories & Parts\", \"Automotive Tires & Wheels\", \"Automotive Tools & Equipment\", \n",
    "                  \"RV Parts & Accessories\", \"Automotive Care\", \"Automotive Replacement Parts\",\"Automotive Tires  Wheels\",\n",
    "                  \"Automotive Exterior Accessories\", \"Automotive Interior Accessories\", \n",
    "                  \"Oils & Fluids\", \"Car Electronics & Accessories\", \"Paint, Body & Trim Products\",\"Motorcycle Accessories  Parts\",\"Sandboxes  Beach Toys\",\"Baby  Toddler Toys\",\"Automotive Tools  Equipment\",\n",
    "                  \"Building  Construction Toys\",\"RV Parts  Accessories\",\"Automotive Tools  Equipment\",\"Car Electronics  Accessories\",\"Automotive\",\"Oils  Fluids\",\"Child Safety Car Seats\",\n",
    "                  \"Motorcycle Accessories  Parts\",\"Paint, Body  Trim Products\"]\n",
    "\n",
    "    sports_outdoors = [\"Swimming Pool & Outdoor Water Toys\", \"Cycling Equipment\", \"Snow & Ice Sports\", \n",
    "                       \"Outdoor Lighting Products\", \n",
    "                       \"Martial Arts & Combat Sports\", \"Camping & Hiking Equipment\", \"Outdoor Gear\", \n",
    "                       \"Hunting & Fishing\", \"Outdoor Recreation Apparel & Equipment\", \n",
    "                       \"Leisure Sports & Game Room\", \"Team Sports\", \"Boating & Watersports\", \"Action Sports\",\"Swimming Pool  Outdoor Water Toys\",\"Snow  Ice Sports\",\"Golf Equipment\",\"Sports  Outdoors\",\n",
    "                       \"Martial Arts  Combat Sports\",\"Hunting  Fishing\",\"Leisure Sports  Game Room\",\"Exercise  Fitness Equipment\",\"Camping  Hiking Equipment\",\"Boating  Watersports\",\n",
    "                       \"Sports Fan Shop\",\"Snow  Ice Sports\",\"Boating  Watersports\"]\n",
    "\n",
    "    hardware_tools = [\"Material Transport Equipment\", \"Flashlights\", \"Nails, Screws & Fasteners\", \"Nails, Screws  Fasteners\",\n",
    "                      \"Building Supplies\", \"Ladders\", \"Scaffolding Equipment\", \"Hardware\", \"Door Hardware & Locks\", \n",
    "                      \"Furniture Hardware\", \"Gate Hardware\", \"Mailboxes & Accessories\", \"Locks & Hasps\", \n",
    "                      \"Hand Tools\", \"Hardware Hooks\", \"Window Hardware\", \"Job Site Lighting\", \"Bathroom Hardware\", \n",
    "                      \"Cutting Tools\", \"Automotive Tools & Equipment\", \"Power & Hand Tools\", \"Handmade Tools\",\"Locks  Hasps\",\"Industrial  Scientific\",\"Hardware Adhesives  Sealers\",\"Shelf Brackets  Supports\",\n",
    "                      \"Test, Measure  Inspect\",\"Power  Hand Tools\",\"Tools  Home Improvement\",\"Power Tools  Hand Tools\",\"Lab  Scientific Products\",\"Electrical Equipment\",\"Uniforms, Work & Safety\",\n",
    "                      \"Hydraulics, Pneumatics  Plumbing\",\"Fasteners\",\"Uniforms, Work  Safety\",\"Occupational Health  Safety Products\",\"Medical Supplies  Equipment\"]\n",
    "\n",
    "    health_wellness_baby = [\"Wellness\", \"Health & Personal Care\", \"Medical Supplies & Equipment\", \n",
    "                       \"Vitamins, Minerals & Supplements\", \"Diet & Nutrition Products\", \n",
    "                       \"Women's Health & Family Planning\", \"Health Care Products\", \"Baby & Child Care Products\",\"Baby  Child Care Products\"\n",
    "                       ,\"Baby\",\"Women's Health  Family Planning\",\"Diet  Nutrition Products\",\"Health  Personal Care\"]\n",
    "\n",
    "    arts_crafts = [\"Arts & Crafts Supplies\", \"Handmade Jewellery\", \"Sewing, Craft & Hobby\", \"Artwork\", \n",
    "                   \"3D Printing & Scanning\", \"Handmade Home Décor\", \"Handmade in Canada\", \n",
    "                   \"Handmade Stationery & Party Supplies\",\"Arts  Crafts Supplies\",\"Sewing, Craft  Hobby\",\"Science Education Supplies\"]\n",
    "    \n",
    "    electronics_tech = [\"Audio/Video Receivers & Amplifiers\", \"Digital Media Devices\", \"Data Storage\", \n",
    "                        \"Televisions & Video\", \"TV Accessories\", \"Satellite Television Equipment\", \n",
    "                        \"Televisions\", \"Computer Components\", \"Electronics\", \"Home Theatre Systems\", \n",
    "                        \"Computer Monitors\", \"Networking Products\", \"Desktop Computers\", \n",
    "                        \"Laptop & Netbook Computer Accessories\", \"Printer Accessories\", \"Printers\", \n",
    "                        \"Game Hardware\", \"Computer Components\", \"Electronics & Gadgets\", \n",
    "                        \"Musical Instruments, Stage & Studio\", \"Vehicle Electronics\", \"Camera & Photo\", \n",
    "                        \"Laptop Computers\", \"Smart Home\", \"Computer Audio & Video Accessories\", \n",
    "                        \"USB Hubs\", \"Computer Cable Adapters\", \"Computer Security Cables\", \n",
    "                        \"Computer Hard Drive Accessories\", \"Keyboards, Mice & Input Devices\", \n",
    "                        \"Computer Uninterrupted Power Supply\", \"Memory Card Accessories\", \"Cables & Accessories\",\"Televisions  Video\",\n",
    "                        \"Laptop  Netbook Computer Accessories\",\"Power Transmission Products\",\"Automotive Tools  Equipment\",\"Camera  Photo\",\"Cables  Accessories\",\"Home  Portable Audio\"]\n",
    "\n",
    "\n",
    "    home_garden = [\"Fresh Flowers & Indoor Plants\", \"Sandboxes & Beach Toys\", \"Outdoor Décor\", \n",
    "                   \"Pools, Hot Tubs & Supplies\", \"Patio Furniture & Accessories\", \n",
    "                   \"Home Brewing & Wine Making\", \"Air Freshener Supplies\", \"Home Storage & Organization\", \n",
    "                   \"Garden Structures & Germination Equipment\", \"Outdoor Heating & Cooling\", \"Plants Seeds & Bulbs\", \n",
    "                   \"Kitchen Storage & Organization\", \"Coffee, Tea & Espresso\", \"Kitchen Knives & Cutlery Accessories\", \n",
    "                   \"Barware\", \"Heating Cooling & Air Quality\", \"Large Appliances\",\"Fresh Flowers  Indoor Plants\",\"Patio, Lawn  Garden\",\"Outdoor Power  Lawn Equipment\",\n",
    "                    \"Outdoor Power & Lawn Equipment\", \"Patio, Lawn & Garden\",\"Home Storage  Organization\",\"Outdoor Cooking\",\"Outdoor Power  Lawn Equipment\",\"Farming  Urban Agriculture\",\n",
    "                    \"Food Service Equipment  Supplies\",\"Furniture\",\"Patio Furniture  Accessories\",\"Garden Structures  Germination Equipment\",\"Nursery Furniture, Bedding Decor\",\n",
    "                    \"Home Storage  Organization\"]\n",
    "    \n",
    "    travel_essentials = [\"Luggage  Travel Gear\"]\n",
    "    Pet_Supplies =[\"Pet Supplies\",\"Dog Supplies\",\"Cat Supplies\"]\n",
    "    Grocery= [\"Grocery\"]\n",
    "    party_officesupply = [\"Office Products\",\"Stationery  Party Supplies\",\"Musical Instruments, Stage  Studio\",\"Office Products\"]\n",
    "\n",
    "    \n",
    "    if category in fashion:\n",
    "        return \"Fashion\"\n",
    "    elif category in home_kitchen:\n",
    "        return \"Home & Kitchen\"\n",
    "    elif category in beauty_personal_care:\n",
    "        return \"Beauty & Personal Care\"\n",
    "    elif category in toys_games:\n",
    "        return \"Toys & Games\"\n",
    "    elif category in automotive:\n",
    "        return \"Automotive\"\n",
    "    elif category in sports_outdoors:\n",
    "        return \"Sports & Outdoors\"\n",
    "    elif category in hardware_tools:\n",
    "        return \"Hardware & Tools\"\n",
    "    elif category in health_wellness_baby:\n",
    "        return \"Health & Wellness & Baby Products\"\n",
    "    elif category in arts_crafts:\n",
    "        return \"Arts & Crafts\"\n",
    "    elif category in electronics_tech:\n",
    "        return \"Electronics & Tech\"\n",
    "    elif category in home_garden:\n",
    "        return \"Home & Garden\"\n",
    "    elif category in travel_essentials:\n",
    "        return \"Travel Essentials\"\n",
    "    elif category in Pet_Supplies:\n",
    "        return \"Pet Supplies\"\n",
    "    elif category in Grocery:\n",
    "        return \"Grocery\"\n",
    "    elif category in party_officesupply:\n",
    "        return \"Party & Sationery & Office Supply\"\n",
    "cleandata.loc[:, 'mainCategory'] = cleandata['categoryName'].apply(categorize_into_main_groups)"
   ]
  },
  {
   "cell_type": "code",
   "execution_count": 136,
   "metadata": {},
   "outputs": [
    {
     "name": "stdout",
     "output_type": "stream",
     "text": [
      "<class 'pandas.core.frame.DataFrame'>\n",
      "RangeIndex: 166649 entries, 0 to 166648\n",
      "Data columns (total 12 columns):\n",
      " #   Column             Non-Null Count   Dtype  \n",
      "---  ------             --------------   -----  \n",
      " 0   asin               166649 non-null  object \n",
      " 1   title              166649 non-null  object \n",
      " 2   imgUrl             166649 non-null  object \n",
      " 3   productURL         166649 non-null  object \n",
      " 4   stars              166649 non-null  float64\n",
      " 5   reviews            166649 non-null  int64  \n",
      " 6   price              166649 non-null  float64\n",
      " 7   listPrice          166649 non-null  float64\n",
      " 8   categoryName       166649 non-null  object \n",
      " 9   isBestSeller       166649 non-null  bool   \n",
      " 10  boughtInLastMonth  166649 non-null  int64  \n",
      " 11  mainCategory       146634 non-null  object \n",
      "dtypes: bool(1), float64(3), int64(2), object(6)\n",
      "memory usage: 14.1+ MB\n"
     ]
    }
   ],
   "source": [
    "cleandata.info()"
   ]
  },
  {
   "cell_type": "code",
   "execution_count": 137,
   "metadata": {},
   "outputs": [
    {
     "name": "stdout",
     "output_type": "stream",
     "text": [
      "DataFrame has been successfully saved to ../data/clean_amazonca_withcategory.csv\n"
     ]
    }
   ],
   "source": [
    "csv_path='../data/clean_amazonca_withcategory.csv'\n",
    "df=pd.DataFrame(cleandata)\n",
    "df.to_csv(csv_path,index=False)\n",
    "print(f'DataFrame has been successfully saved to {csv_path}')"
   ]
  },
  {
   "cell_type": "code",
   "execution_count": 138,
   "metadata": {},
   "outputs": [],
   "source": [
    "datawithcategory=pd.read_csv('../data/clean_amazonca_withcategory.csv')\n",
    "#data.describe()"
   ]
  },
  {
   "cell_type": "code",
   "execution_count": 218,
   "metadata": {},
   "outputs": [
    {
     "data": {
      "text/html": [
       "<div>\n",
       "<style scoped>\n",
       "    .dataframe tbody tr th:only-of-type {\n",
       "        vertical-align: middle;\n",
       "    }\n",
       "\n",
       "    .dataframe tbody tr th {\n",
       "        vertical-align: top;\n",
       "    }\n",
       "\n",
       "    .dataframe thead th {\n",
       "        text-align: right;\n",
       "    }\n",
       "</style>\n",
       "<table border=\"1\" class=\"dataframe\">\n",
       "  <thead>\n",
       "    <tr style=\"text-align: right;\">\n",
       "      <th></th>\n",
       "      <th>asin</th>\n",
       "      <th>title</th>\n",
       "      <th>imgUrl</th>\n",
       "      <th>productURL</th>\n",
       "      <th>stars</th>\n",
       "      <th>reviews</th>\n",
       "      <th>price</th>\n",
       "      <th>listPrice</th>\n",
       "      <th>categoryName</th>\n",
       "      <th>isBestSeller</th>\n",
       "      <th>boughtInLastMonth</th>\n",
       "      <th>mainCategory</th>\n",
       "      <th>avg_products_per_day</th>\n",
       "    </tr>\n",
       "  </thead>\n",
       "  <tbody>\n",
       "    <tr>\n",
       "      <th>10529</th>\n",
       "      <td>B0CGR6M8RY</td>\n",
       "      <td>MAISON ALHAMBRA Porto Neroli Eau de Parfum 80ml</td>\n",
       "      <td>https://m.media-amazon.com/images/I/61vSqauP6T...</td>\n",
       "      <td>https://www.amazon.ca/dp/B0CGR6M8RY</td>\n",
       "      <td>0.0</td>\n",
       "      <td>0</td>\n",
       "      <td>55.65</td>\n",
       "      <td>55.65</td>\n",
       "      <td>Perfume  Cologne</td>\n",
       "      <td>False</td>\n",
       "      <td>0</td>\n",
       "      <td>Fashion</td>\n",
       "      <td>0</td>\n",
       "    </tr>\n",
       "    <tr>\n",
       "      <th>10700</th>\n",
       "      <td>B07G435KSP</td>\n",
       "      <td>Shawn Mendes Shawn Mendes 2 Signature Eau de P...</td>\n",
       "      <td>https://m.media-amazon.com/images/I/5166IinrFY...</td>\n",
       "      <td>https://www.amazon.ca/dp/B07G435KSP</td>\n",
       "      <td>4.6</td>\n",
       "      <td>427</td>\n",
       "      <td>45.00</td>\n",
       "      <td>45.00</td>\n",
       "      <td>Perfume  Cologne</td>\n",
       "      <td>False</td>\n",
       "      <td>0</td>\n",
       "      <td>Fashion</td>\n",
       "      <td>0</td>\n",
       "    </tr>\n",
       "    <tr>\n",
       "      <th>10833</th>\n",
       "      <td>B001BSH4WW</td>\n",
       "      <td>Joop! Go for Men-3.4-Ounce EDT Spray</td>\n",
       "      <td>https://m.media-amazon.com/images/I/613mkMHNVk...</td>\n",
       "      <td>https://www.amazon.ca/dp/B001BSH4WW</td>\n",
       "      <td>4.6</td>\n",
       "      <td>5488</td>\n",
       "      <td>52.00</td>\n",
       "      <td>52.00</td>\n",
       "      <td>Perfume  Cologne</td>\n",
       "      <td>False</td>\n",
       "      <td>0</td>\n",
       "      <td>Fashion</td>\n",
       "      <td>0</td>\n",
       "    </tr>\n",
       "    <tr>\n",
       "      <th>21825</th>\n",
       "      <td>B013L7CA7Y</td>\n",
       "      <td>Benjamins Healing Oil - 2 Oz by Benjamins</td>\n",
       "      <td>https://m.media-amazon.com/images/I/41GrjEacaJ...</td>\n",
       "      <td>https://www.amazon.ca/dp/B013L7CA7Y</td>\n",
       "      <td>5.0</td>\n",
       "      <td>1</td>\n",
       "      <td>16.99</td>\n",
       "      <td>16.99</td>\n",
       "      <td>Bath  Body</td>\n",
       "      <td>False</td>\n",
       "      <td>0</td>\n",
       "      <td>NaN</td>\n",
       "      <td>0</td>\n",
       "    </tr>\n",
       "    <tr>\n",
       "      <th>34480</th>\n",
       "      <td>B01EWVI58G</td>\n",
       "      <td>Vanish Oxi Action Fabric Stain Remover Spray 5...</td>\n",
       "      <td>https://m.media-amazon.com/images/I/71CRbppyTG...</td>\n",
       "      <td>https://www.amazon.ca/dp/B01EWVI58G</td>\n",
       "      <td>4.5</td>\n",
       "      <td>501</td>\n",
       "      <td>26.99</td>\n",
       "      <td>26.99</td>\n",
       "      <td>Laundry Supplies</td>\n",
       "      <td>False</td>\n",
       "      <td>0</td>\n",
       "      <td>Home &amp; Kitchen</td>\n",
       "      <td>0</td>\n",
       "    </tr>\n",
       "    <tr>\n",
       "      <th>40628</th>\n",
       "      <td>B0756WCY3S</td>\n",
       "      <td>Fashion Children School Backpack Soccer Patter...</td>\n",
       "      <td>https://m.media-amazon.com/images/I/61xpRCw9kx...</td>\n",
       "      <td>https://www.amazon.ca/dp/B0756WCY3S</td>\n",
       "      <td>4.6</td>\n",
       "      <td>300</td>\n",
       "      <td>24.89</td>\n",
       "      <td>24.89</td>\n",
       "      <td>Luggage  Travel Gear</td>\n",
       "      <td>False</td>\n",
       "      <td>0</td>\n",
       "      <td>Travel Essentials</td>\n",
       "      <td>0</td>\n",
       "    </tr>\n",
       "    <tr>\n",
       "      <th>51442</th>\n",
       "      <td>B0BWFH12Y1</td>\n",
       "      <td>Wednesday Addams Printed Backpacks Set for Boy...</td>\n",
       "      <td>https://m.media-amazon.com/images/I/61C4VtpedD...</td>\n",
       "      <td>https://www.amazon.ca/dp/B0BWFH12Y1</td>\n",
       "      <td>5.0</td>\n",
       "      <td>2</td>\n",
       "      <td>29.99</td>\n",
       "      <td>29.99</td>\n",
       "      <td>Kitchen Storage  Organization</td>\n",
       "      <td>False</td>\n",
       "      <td>0</td>\n",
       "      <td>NaN</td>\n",
       "      <td>0</td>\n",
       "    </tr>\n",
       "    <tr>\n",
       "      <th>56775</th>\n",
       "      <td>B00PH0OLNA</td>\n",
       "      <td>SEM 38343 Vinyl Prep - 13.3 oz.</td>\n",
       "      <td>https://m.media-amazon.com/images/I/61o+OivN4s...</td>\n",
       "      <td>https://www.amazon.ca/dp/B00PH0OLNA</td>\n",
       "      <td>4.6</td>\n",
       "      <td>17</td>\n",
       "      <td>45.00</td>\n",
       "      <td>45.00</td>\n",
       "      <td>Automotive Care</td>\n",
       "      <td>False</td>\n",
       "      <td>0</td>\n",
       "      <td>Automotive</td>\n",
       "      <td>0</td>\n",
       "    </tr>\n",
       "    <tr>\n",
       "      <th>65313</th>\n",
       "      <td>B085H85YBD</td>\n",
       "      <td>8mm Natural Green Emerald Gemstone Round Beads...</td>\n",
       "      <td>https://m.media-amazon.com/images/I/61PD29GaBC...</td>\n",
       "      <td>https://www.amazon.ca/dp/B085H85YBD</td>\n",
       "      <td>5.0</td>\n",
       "      <td>1</td>\n",
       "      <td>18.99</td>\n",
       "      <td>18.99</td>\n",
       "      <td>Men's Jewelry</td>\n",
       "      <td>False</td>\n",
       "      <td>0</td>\n",
       "      <td>Fashion</td>\n",
       "      <td>0</td>\n",
       "    </tr>\n",
       "    <tr>\n",
       "      <th>81521</th>\n",
       "      <td>B001UO65YK</td>\n",
       "      <td>Goody WoMens Classics Mock Tort Comb, Side, 0....</td>\n",
       "      <td>https://m.media-amazon.com/images/I/81gEejNYnP...</td>\n",
       "      <td>https://www.amazon.ca/dp/B001UO65YK</td>\n",
       "      <td>4.2</td>\n",
       "      <td>271</td>\n",
       "      <td>11.99</td>\n",
       "      <td>11.99</td>\n",
       "      <td>Hair Care</td>\n",
       "      <td>False</td>\n",
       "      <td>0</td>\n",
       "      <td>Beauty &amp; Personal Care</td>\n",
       "      <td>0</td>\n",
       "    </tr>\n",
       "    <tr>\n",
       "      <th>93556</th>\n",
       "      <td>B088JVXV4R</td>\n",
       "      <td>High Waist Yoga Pants for Women Fitness Runnin...</td>\n",
       "      <td>https://m.media-amazon.com/images/I/61vssoODzy...</td>\n",
       "      <td>https://www.amazon.ca/dp/B088JVXV4R</td>\n",
       "      <td>4.3</td>\n",
       "      <td>45</td>\n",
       "      <td>20.04</td>\n",
       "      <td>20.04</td>\n",
       "      <td>Sport Specific Clothing</td>\n",
       "      <td>False</td>\n",
       "      <td>0</td>\n",
       "      <td>Fashion</td>\n",
       "      <td>0</td>\n",
       "    </tr>\n",
       "    <tr>\n",
       "      <th>101496</th>\n",
       "      <td>B09P399F9P</td>\n",
       "      <td>MAIALOT Car Logo Front Grill Emblem Badge Hood...</td>\n",
       "      <td>https://m.media-amazon.com/images/I/41WRICX0h6...</td>\n",
       "      <td>https://www.amazon.ca/dp/B09P399F9P</td>\n",
       "      <td>5.0</td>\n",
       "      <td>1</td>\n",
       "      <td>18.99</td>\n",
       "      <td>18.99</td>\n",
       "      <td>Automotive Exterior Accessories</td>\n",
       "      <td>False</td>\n",
       "      <td>0</td>\n",
       "      <td>Automotive</td>\n",
       "      <td>0</td>\n",
       "    </tr>\n",
       "    <tr>\n",
       "      <th>108298</th>\n",
       "      <td>B0B4V6TW11</td>\n",
       "      <td>Adjustable Belt, Men Women Unisex Punk Belt We...</td>\n",
       "      <td>https://m.media-amazon.com/images/I/71calwK33Y...</td>\n",
       "      <td>https://www.amazon.ca/dp/B0B4V6TW11</td>\n",
       "      <td>3.3</td>\n",
       "      <td>8</td>\n",
       "      <td>31.29</td>\n",
       "      <td>31.29</td>\n",
       "      <td>Men's Accessories</td>\n",
       "      <td>False</td>\n",
       "      <td>0</td>\n",
       "      <td>Fashion</td>\n",
       "      <td>0</td>\n",
       "    </tr>\n",
       "    <tr>\n",
       "      <th>122651</th>\n",
       "      <td>B0BWK56G8X</td>\n",
       "      <td>Neat Freakz Car Restoring Spray,Neat Freakz Mu...</td>\n",
       "      <td>https://m.media-amazon.com/images/I/71VrjbPhpE...</td>\n",
       "      <td>https://www.amazon.ca/dp/B0BWK56G8X</td>\n",
       "      <td>2.9</td>\n",
       "      <td>4</td>\n",
       "      <td>20.50</td>\n",
       "      <td>20.50</td>\n",
       "      <td>Automotive Care</td>\n",
       "      <td>False</td>\n",
       "      <td>0</td>\n",
       "      <td>Automotive</td>\n",
       "      <td>0</td>\n",
       "    </tr>\n",
       "    <tr>\n",
       "      <th>143267</th>\n",
       "      <td>B0C4GY6R35</td>\n",
       "      <td>Mini 10 Strong Speeds Electric Bullet Tool Han...</td>\n",
       "      <td>https://m.media-amazon.com/images/I/21grbmaJ0f...</td>\n",
       "      <td>https://www.amazon.ca/dp/B0C4GY6R35</td>\n",
       "      <td>5.0</td>\n",
       "      <td>1</td>\n",
       "      <td>17.00</td>\n",
       "      <td>17.00</td>\n",
       "      <td>Sex  Sensuality Products</td>\n",
       "      <td>False</td>\n",
       "      <td>0</td>\n",
       "      <td>Beauty &amp; Personal Care</td>\n",
       "      <td>0</td>\n",
       "    </tr>\n",
       "    <tr>\n",
       "      <th>143373</th>\n",
       "      <td>B0CGJ6Q6NR</td>\n",
       "      <td>XBY9- Manual Cup Masturbators MC-01-1fd5t</td>\n",
       "      <td>https://m.media-amazon.com/images/I/31YLsULSdT...</td>\n",
       "      <td>https://www.amazon.ca/dp/B0CGJ6Q6NR</td>\n",
       "      <td>0.0</td>\n",
       "      <td>0</td>\n",
       "      <td>17.00</td>\n",
       "      <td>17.00</td>\n",
       "      <td>Sex  Sensuality Products</td>\n",
       "      <td>False</td>\n",
       "      <td>0</td>\n",
       "      <td>Beauty &amp; Personal Care</td>\n",
       "      <td>0</td>\n",
       "    </tr>\n",
       "    <tr>\n",
       "      <th>143450</th>\n",
       "      <td>B08X6KWTSG</td>\n",
       "      <td>Electric Relaxation Aircraft Decompression Cup...</td>\n",
       "      <td>https://m.media-amazon.com/images/I/51aY8Dr2Zo...</td>\n",
       "      <td>https://www.amazon.ca/dp/B08X6KWTSG</td>\n",
       "      <td>5.0</td>\n",
       "      <td>1</td>\n",
       "      <td>89.00</td>\n",
       "      <td>89.00</td>\n",
       "      <td>Sex  Sensuality Products</td>\n",
       "      <td>False</td>\n",
       "      <td>0</td>\n",
       "      <td>Beauty &amp; Personal Care</td>\n",
       "      <td>0</td>\n",
       "    </tr>\n",
       "    <tr>\n",
       "      <th>143869</th>\n",
       "      <td>B01ITNFL26</td>\n",
       "      <td>Shahnaz Husain Ayurvedic Herbal Hair Touch Up ...</td>\n",
       "      <td>https://m.media-amazon.com/images/I/41nK4nmlTf...</td>\n",
       "      <td>https://www.amazon.ca/dp/B01ITNFL26</td>\n",
       "      <td>3.2</td>\n",
       "      <td>7</td>\n",
       "      <td>20.99</td>\n",
       "      <td>20.99</td>\n",
       "      <td>Wellness</td>\n",
       "      <td>False</td>\n",
       "      <td>0</td>\n",
       "      <td>Health &amp; Wellness &amp; Baby Products</td>\n",
       "      <td>0</td>\n",
       "    </tr>\n",
       "    <tr>\n",
       "      <th>148602</th>\n",
       "      <td>B0B6MX72BC</td>\n",
       "      <td>Women's Color Block Sweatpants Staked Bell Bot...</td>\n",
       "      <td>https://m.media-amazon.com/images/I/516IyNzwvD...</td>\n",
       "      <td>https://www.amazon.ca/dp/B0B6MX72BC</td>\n",
       "      <td>5.0</td>\n",
       "      <td>1</td>\n",
       "      <td>29.58</td>\n",
       "      <td>29.58</td>\n",
       "      <td>Women's Clothing</td>\n",
       "      <td>False</td>\n",
       "      <td>0</td>\n",
       "      <td>Fashion</td>\n",
       "      <td>0</td>\n",
       "    </tr>\n",
       "    <tr>\n",
       "      <th>149557</th>\n",
       "      <td>B0C4HD7CWP</td>\n",
       "      <td>New Spring 2023 Squirrel-Proof Bird Feeder,Squ...</td>\n",
       "      <td>https://m.media-amazon.com/images/I/61osTxx0dc...</td>\n",
       "      <td>https://www.amazon.ca/dp/B0C4HD7CWP</td>\n",
       "      <td>4.0</td>\n",
       "      <td>2</td>\n",
       "      <td>22.99</td>\n",
       "      <td>22.99</td>\n",
       "      <td>Backyard Birding</td>\n",
       "      <td>False</td>\n",
       "      <td>0</td>\n",
       "      <td>NaN</td>\n",
       "      <td>0</td>\n",
       "    </tr>\n",
       "    <tr>\n",
       "      <th>155297</th>\n",
       "      <td>B0C3W3XJ47</td>\n",
       "      <td>Baby Mobile, Baby Rainbow Ball Bed Bell Baby N...</td>\n",
       "      <td>https://m.media-amazon.com/images/I/51Cz8bNm5w...</td>\n",
       "      <td>https://www.amazon.ca/dp/B0C3W3XJ47</td>\n",
       "      <td>5.0</td>\n",
       "      <td>1</td>\n",
       "      <td>29.99</td>\n",
       "      <td>29.99</td>\n",
       "      <td>Nursery Furniture, Bedding Decor</td>\n",
       "      <td>False</td>\n",
       "      <td>0</td>\n",
       "      <td>Home &amp; Garden</td>\n",
       "      <td>0</td>\n",
       "    </tr>\n",
       "    <tr>\n",
       "      <th>160436</th>\n",
       "      <td>B07MW4QC5H</td>\n",
       "      <td>Bic Mini Charcoal Grey Lighters Lot of 4</td>\n",
       "      <td>https://m.media-amazon.com/images/I/51mkN9J+eg...</td>\n",
       "      <td>https://www.amazon.ca/dp/B07MW4QC5H</td>\n",
       "      <td>4.5</td>\n",
       "      <td>41</td>\n",
       "      <td>9.53</td>\n",
       "      <td>9.53</td>\n",
       "      <td>Cigarette Lighters</td>\n",
       "      <td>False</td>\n",
       "      <td>0</td>\n",
       "      <td>NaN</td>\n",
       "      <td>0</td>\n",
       "    </tr>\n",
       "    <tr>\n",
       "      <th>160475</th>\n",
       "      <td>B01KH4B1CO</td>\n",
       "      <td>Lot of 4 Bic Mini Baby Blue Lighters by BIC</td>\n",
       "      <td>https://m.media-amazon.com/images/I/41Q1ByV1Wg...</td>\n",
       "      <td>https://www.amazon.ca/dp/B01KH4B1CO</td>\n",
       "      <td>5.0</td>\n",
       "      <td>1</td>\n",
       "      <td>9.53</td>\n",
       "      <td>9.53</td>\n",
       "      <td>Cigarette Lighters</td>\n",
       "      <td>False</td>\n",
       "      <td>0</td>\n",
       "      <td>NaN</td>\n",
       "      <td>0</td>\n",
       "    </tr>\n",
       "    <tr>\n",
       "      <th>164760</th>\n",
       "      <td>B08DV9Z4YQ</td>\n",
       "      <td>Satisfactory Nation Pack of 2 Follihair 30 Tab...</td>\n",
       "      <td>https://m.media-amazon.com/images/I/71LKl4UAZy...</td>\n",
       "      <td>https://www.amazon.ca/dp/B08DV9Z4YQ</td>\n",
       "      <td>5.0</td>\n",
       "      <td>3</td>\n",
       "      <td>38.98</td>\n",
       "      <td>38.98</td>\n",
       "      <td>Vitamins, Minerals  Supplements</td>\n",
       "      <td>False</td>\n",
       "      <td>0</td>\n",
       "      <td>NaN</td>\n",
       "      <td>0</td>\n",
       "    </tr>\n",
       "  </tbody>\n",
       "</table>\n",
       "</div>"
      ],
      "text/plain": [
       "              asin                                              title  \\\n",
       "10529   B0CGR6M8RY    MAISON ALHAMBRA Porto Neroli Eau de Parfum 80ml   \n",
       "10700   B07G435KSP  Shawn Mendes Shawn Mendes 2 Signature Eau de P...   \n",
       "10833   B001BSH4WW               Joop! Go for Men-3.4-Ounce EDT Spray   \n",
       "21825   B013L7CA7Y          Benjamins Healing Oil - 2 Oz by Benjamins   \n",
       "34480   B01EWVI58G  Vanish Oxi Action Fabric Stain Remover Spray 5...   \n",
       "40628   B0756WCY3S  Fashion Children School Backpack Soccer Patter...   \n",
       "51442   B0BWFH12Y1  Wednesday Addams Printed Backpacks Set for Boy...   \n",
       "56775   B00PH0OLNA                    SEM 38343 Vinyl Prep - 13.3 oz.   \n",
       "65313   B085H85YBD  8mm Natural Green Emerald Gemstone Round Beads...   \n",
       "81521   B001UO65YK  Goody WoMens Classics Mock Tort Comb, Side, 0....   \n",
       "93556   B088JVXV4R  High Waist Yoga Pants for Women Fitness Runnin...   \n",
       "101496  B09P399F9P  MAIALOT Car Logo Front Grill Emblem Badge Hood...   \n",
       "108298  B0B4V6TW11  Adjustable Belt, Men Women Unisex Punk Belt We...   \n",
       "122651  B0BWK56G8X  Neat Freakz Car Restoring Spray,Neat Freakz Mu...   \n",
       "143267  B0C4GY6R35  Mini 10 Strong Speeds Electric Bullet Tool Han...   \n",
       "143373  B0CGJ6Q6NR          XBY9- Manual Cup Masturbators MC-01-1fd5t   \n",
       "143450  B08X6KWTSG  Electric Relaxation Aircraft Decompression Cup...   \n",
       "143869  B01ITNFL26  Shahnaz Husain Ayurvedic Herbal Hair Touch Up ...   \n",
       "148602  B0B6MX72BC  Women's Color Block Sweatpants Staked Bell Bot...   \n",
       "149557  B0C4HD7CWP  New Spring 2023 Squirrel-Proof Bird Feeder,Squ...   \n",
       "155297  B0C3W3XJ47  Baby Mobile, Baby Rainbow Ball Bed Bell Baby N...   \n",
       "160436  B07MW4QC5H           Bic Mini Charcoal Grey Lighters Lot of 4   \n",
       "160475  B01KH4B1CO        Lot of 4 Bic Mini Baby Blue Lighters by BIC   \n",
       "164760  B08DV9Z4YQ  Satisfactory Nation Pack of 2 Follihair 30 Tab...   \n",
       "\n",
       "                                                   imgUrl  \\\n",
       "10529   https://m.media-amazon.com/images/I/61vSqauP6T...   \n",
       "10700   https://m.media-amazon.com/images/I/5166IinrFY...   \n",
       "10833   https://m.media-amazon.com/images/I/613mkMHNVk...   \n",
       "21825   https://m.media-amazon.com/images/I/41GrjEacaJ...   \n",
       "34480   https://m.media-amazon.com/images/I/71CRbppyTG...   \n",
       "40628   https://m.media-amazon.com/images/I/61xpRCw9kx...   \n",
       "51442   https://m.media-amazon.com/images/I/61C4VtpedD...   \n",
       "56775   https://m.media-amazon.com/images/I/61o+OivN4s...   \n",
       "65313   https://m.media-amazon.com/images/I/61PD29GaBC...   \n",
       "81521   https://m.media-amazon.com/images/I/81gEejNYnP...   \n",
       "93556   https://m.media-amazon.com/images/I/61vssoODzy...   \n",
       "101496  https://m.media-amazon.com/images/I/41WRICX0h6...   \n",
       "108298  https://m.media-amazon.com/images/I/71calwK33Y...   \n",
       "122651  https://m.media-amazon.com/images/I/71VrjbPhpE...   \n",
       "143267  https://m.media-amazon.com/images/I/21grbmaJ0f...   \n",
       "143373  https://m.media-amazon.com/images/I/31YLsULSdT...   \n",
       "143450  https://m.media-amazon.com/images/I/51aY8Dr2Zo...   \n",
       "143869  https://m.media-amazon.com/images/I/41nK4nmlTf...   \n",
       "148602  https://m.media-amazon.com/images/I/516IyNzwvD...   \n",
       "149557  https://m.media-amazon.com/images/I/61osTxx0dc...   \n",
       "155297  https://m.media-amazon.com/images/I/51Cz8bNm5w...   \n",
       "160436  https://m.media-amazon.com/images/I/51mkN9J+eg...   \n",
       "160475  https://m.media-amazon.com/images/I/41Q1ByV1Wg...   \n",
       "164760  https://m.media-amazon.com/images/I/71LKl4UAZy...   \n",
       "\n",
       "                                 productURL  stars  reviews  price  listPrice  \\\n",
       "10529   https://www.amazon.ca/dp/B0CGR6M8RY    0.0        0  55.65      55.65   \n",
       "10700   https://www.amazon.ca/dp/B07G435KSP    4.6      427  45.00      45.00   \n",
       "10833   https://www.amazon.ca/dp/B001BSH4WW    4.6     5488  52.00      52.00   \n",
       "21825   https://www.amazon.ca/dp/B013L7CA7Y    5.0        1  16.99      16.99   \n",
       "34480   https://www.amazon.ca/dp/B01EWVI58G    4.5      501  26.99      26.99   \n",
       "40628   https://www.amazon.ca/dp/B0756WCY3S    4.6      300  24.89      24.89   \n",
       "51442   https://www.amazon.ca/dp/B0BWFH12Y1    5.0        2  29.99      29.99   \n",
       "56775   https://www.amazon.ca/dp/B00PH0OLNA    4.6       17  45.00      45.00   \n",
       "65313   https://www.amazon.ca/dp/B085H85YBD    5.0        1  18.99      18.99   \n",
       "81521   https://www.amazon.ca/dp/B001UO65YK    4.2      271  11.99      11.99   \n",
       "93556   https://www.amazon.ca/dp/B088JVXV4R    4.3       45  20.04      20.04   \n",
       "101496  https://www.amazon.ca/dp/B09P399F9P    5.0        1  18.99      18.99   \n",
       "108298  https://www.amazon.ca/dp/B0B4V6TW11    3.3        8  31.29      31.29   \n",
       "122651  https://www.amazon.ca/dp/B0BWK56G8X    2.9        4  20.50      20.50   \n",
       "143267  https://www.amazon.ca/dp/B0C4GY6R35    5.0        1  17.00      17.00   \n",
       "143373  https://www.amazon.ca/dp/B0CGJ6Q6NR    0.0        0  17.00      17.00   \n",
       "143450  https://www.amazon.ca/dp/B08X6KWTSG    5.0        1  89.00      89.00   \n",
       "143869  https://www.amazon.ca/dp/B01ITNFL26    3.2        7  20.99      20.99   \n",
       "148602  https://www.amazon.ca/dp/B0B6MX72BC    5.0        1  29.58      29.58   \n",
       "149557  https://www.amazon.ca/dp/B0C4HD7CWP    4.0        2  22.99      22.99   \n",
       "155297  https://www.amazon.ca/dp/B0C3W3XJ47    5.0        1  29.99      29.99   \n",
       "160436  https://www.amazon.ca/dp/B07MW4QC5H    4.5       41   9.53       9.53   \n",
       "160475  https://www.amazon.ca/dp/B01KH4B1CO    5.0        1   9.53       9.53   \n",
       "164760  https://www.amazon.ca/dp/B08DV9Z4YQ    5.0        3  38.98      38.98   \n",
       "\n",
       "                            categoryName  isBestSeller  boughtInLastMonth  \\\n",
       "10529                   Perfume  Cologne         False                  0   \n",
       "10700                   Perfume  Cologne         False                  0   \n",
       "10833                   Perfume  Cologne         False                  0   \n",
       "21825                         Bath  Body         False                  0   \n",
       "34480                   Laundry Supplies         False                  0   \n",
       "40628               Luggage  Travel Gear         False                  0   \n",
       "51442      Kitchen Storage  Organization         False                  0   \n",
       "56775                    Automotive Care         False                  0   \n",
       "65313                      Men's Jewelry         False                  0   \n",
       "81521                          Hair Care         False                  0   \n",
       "93556            Sport Specific Clothing         False                  0   \n",
       "101496   Automotive Exterior Accessories         False                  0   \n",
       "108298                 Men's Accessories         False                  0   \n",
       "122651                   Automotive Care         False                  0   \n",
       "143267          Sex  Sensuality Products         False                  0   \n",
       "143373          Sex  Sensuality Products         False                  0   \n",
       "143450          Sex  Sensuality Products         False                  0   \n",
       "143869                          Wellness         False                  0   \n",
       "148602                  Women's Clothing         False                  0   \n",
       "149557                  Backyard Birding         False                  0   \n",
       "155297  Nursery Furniture, Bedding Decor         False                  0   \n",
       "160436                Cigarette Lighters         False                  0   \n",
       "160475                Cigarette Lighters         False                  0   \n",
       "164760   Vitamins, Minerals  Supplements         False                  0   \n",
       "\n",
       "                             mainCategory  avg_products_per_day  \n",
       "10529                             Fashion                     0  \n",
       "10700                             Fashion                     0  \n",
       "10833                             Fashion                     0  \n",
       "21825                                 NaN                     0  \n",
       "34480                      Home & Kitchen                     0  \n",
       "40628                   Travel Essentials                     0  \n",
       "51442                                 NaN                     0  \n",
       "56775                          Automotive                     0  \n",
       "65313                             Fashion                     0  \n",
       "81521              Beauty & Personal Care                     0  \n",
       "93556                             Fashion                     0  \n",
       "101496                         Automotive                     0  \n",
       "108298                            Fashion                     0  \n",
       "122651                         Automotive                     0  \n",
       "143267             Beauty & Personal Care                     0  \n",
       "143373             Beauty & Personal Care                     0  \n",
       "143450             Beauty & Personal Care                     0  \n",
       "143869  Health & Wellness & Baby Products                     0  \n",
       "148602                            Fashion                     0  \n",
       "149557                                NaN                     0  \n",
       "155297                      Home & Garden                     0  \n",
       "160436                                NaN                     0  \n",
       "160475                                NaN                     0  \n",
       "164760                                NaN                     0  "
      ]
     },
     "execution_count": 218,
     "metadata": {},
     "output_type": "execute_result"
    }
   ],
   "source": [
    "datawithcategory[datawithcategory['price']>=datawithcategory['listPrice']]"
   ]
  },
  {
   "cell_type": "code",
   "execution_count": 220,
   "metadata": {},
   "outputs": [
    {
     "data": {
      "text/html": [
       "<div>\n",
       "<style scoped>\n",
       "    .dataframe tbody tr th:only-of-type {\n",
       "        vertical-align: middle;\n",
       "    }\n",
       "\n",
       "    .dataframe tbody tr th {\n",
       "        vertical-align: top;\n",
       "    }\n",
       "\n",
       "    .dataframe thead th {\n",
       "        text-align: right;\n",
       "    }\n",
       "</style>\n",
       "<table border=\"1\" class=\"dataframe\">\n",
       "  <thead>\n",
       "    <tr style=\"text-align: right;\">\n",
       "      <th></th>\n",
       "      <th>asin</th>\n",
       "      <th>title</th>\n",
       "      <th>imgUrl</th>\n",
       "      <th>productURL</th>\n",
       "      <th>stars</th>\n",
       "      <th>reviews</th>\n",
       "      <th>price</th>\n",
       "      <th>listPrice</th>\n",
       "      <th>categoryName</th>\n",
       "      <th>isBestSeller</th>\n",
       "      <th>boughtInLastMonth</th>\n",
       "      <th>mainCategory</th>\n",
       "      <th>avg_products_per_day</th>\n",
       "    </tr>\n",
       "  </thead>\n",
       "  <tbody>\n",
       "    <tr>\n",
       "      <th>0</th>\n",
       "      <td>B087P7538J</td>\n",
       "      <td>YaeCCC 19 Pcs Hole Saw Kit 3/4''(19mm)- 6''(15...</td>\n",
       "      <td>https://m.media-amazon.com/images/I/71P+qLFDFc...</td>\n",
       "      <td>https://www.amazon.ca/dp/B087P7538J</td>\n",
       "      <td>4.0</td>\n",
       "      <td>126</td>\n",
       "      <td>25.99</td>\n",
       "      <td>27.99</td>\n",
       "      <td>Industrial  Scientific</td>\n",
       "      <td>False</td>\n",
       "      <td>50</td>\n",
       "      <td>Hardware &amp; Tools</td>\n",
       "      <td>2</td>\n",
       "    </tr>\n",
       "    <tr>\n",
       "      <th>1</th>\n",
       "      <td>B0822FF7YQ</td>\n",
       "      <td>LLPT Butyl Putty Tape White 1 Inch x 33Ft Tigh...</td>\n",
       "      <td>https://m.media-amazon.com/images/I/61wfWLZRn-...</td>\n",
       "      <td>https://www.amazon.ca/dp/B0822FF7YQ</td>\n",
       "      <td>4.5</td>\n",
       "      <td>1936</td>\n",
       "      <td>21.99</td>\n",
       "      <td>30.99</td>\n",
       "      <td>Industrial  Scientific</td>\n",
       "      <td>False</td>\n",
       "      <td>100</td>\n",
       "      <td>Hardware &amp; Tools</td>\n",
       "      <td>3</td>\n",
       "    </tr>\n",
       "    <tr>\n",
       "      <th>2</th>\n",
       "      <td>B07KMT96S2</td>\n",
       "      <td>Knife Sharpening Stone,400/1000.2000/5000 Doub...</td>\n",
       "      <td>https://m.media-amazon.com/images/I/61uWVjhezJ...</td>\n",
       "      <td>https://www.amazon.ca/dp/B07KMT96S2</td>\n",
       "      <td>4.4</td>\n",
       "      <td>366</td>\n",
       "      <td>29.99</td>\n",
       "      <td>35.99</td>\n",
       "      <td>Industrial  Scientific</td>\n",
       "      <td>False</td>\n",
       "      <td>50</td>\n",
       "      <td>Hardware &amp; Tools</td>\n",
       "      <td>2</td>\n",
       "    </tr>\n",
       "    <tr>\n",
       "      <th>3</th>\n",
       "      <td>B08R8T657H</td>\n",
       "      <td>MIXPOWER Extra Long Torx Bit Socket Set, 3.5-i...</td>\n",
       "      <td>https://m.media-amazon.com/images/I/6154LErNL3...</td>\n",
       "      <td>https://www.amazon.ca/dp/B08R8T657H</td>\n",
       "      <td>4.4</td>\n",
       "      <td>82</td>\n",
       "      <td>19.97</td>\n",
       "      <td>21.97</td>\n",
       "      <td>Industrial  Scientific</td>\n",
       "      <td>False</td>\n",
       "      <td>0</td>\n",
       "      <td>Hardware &amp; Tools</td>\n",
       "      <td>0</td>\n",
       "    </tr>\n",
       "    <tr>\n",
       "      <th>4</th>\n",
       "      <td>B088M3JCP2</td>\n",
       "      <td>Heat Insulation Silicone Repair Mat with Scale...</td>\n",
       "      <td>https://m.media-amazon.com/images/I/61nzkHmJSZ...</td>\n",
       "      <td>https://www.amazon.ca/dp/B088M3JCP2</td>\n",
       "      <td>4.7</td>\n",
       "      <td>142</td>\n",
       "      <td>21.99</td>\n",
       "      <td>25.99</td>\n",
       "      <td>Industrial  Scientific</td>\n",
       "      <td>False</td>\n",
       "      <td>50</td>\n",
       "      <td>Hardware &amp; Tools</td>\n",
       "      <td>2</td>\n",
       "    </tr>\n",
       "    <tr>\n",
       "      <th>...</th>\n",
       "      <td>...</td>\n",
       "      <td>...</td>\n",
       "      <td>...</td>\n",
       "      <td>...</td>\n",
       "      <td>...</td>\n",
       "      <td>...</td>\n",
       "      <td>...</td>\n",
       "      <td>...</td>\n",
       "      <td>...</td>\n",
       "      <td>...</td>\n",
       "      <td>...</td>\n",
       "      <td>...</td>\n",
       "      <td>...</td>\n",
       "    </tr>\n",
       "    <tr>\n",
       "      <th>166644</th>\n",
       "      <td>B08L52267L</td>\n",
       "      <td>ꕤ Spinning Heavy Duty Fun Swing</td>\n",
       "      <td>https://m.media-amazon.com/images/I/41vq-Ut7BE...</td>\n",
       "      <td>https://www.amazon.ca/dp/B08L52267L</td>\n",
       "      <td>3.2</td>\n",
       "      <td>3</td>\n",
       "      <td>40.10</td>\n",
       "      <td>54.99</td>\n",
       "      <td>Play Sets  Playground Equipment</td>\n",
       "      <td>False</td>\n",
       "      <td>0</td>\n",
       "      <td>NaN</td>\n",
       "      <td>0</td>\n",
       "    </tr>\n",
       "    <tr>\n",
       "      <th>166645</th>\n",
       "      <td>B0BV7GPLNJ</td>\n",
       "      <td>Children Steering Wheel, Swing Steering Wheel ...</td>\n",
       "      <td>https://m.media-amazon.com/images/I/61-0kk9U5U...</td>\n",
       "      <td>https://www.amazon.ca/dp/B0BV7GPLNJ</td>\n",
       "      <td>0.0</td>\n",
       "      <td>0</td>\n",
       "      <td>21.46</td>\n",
       "      <td>22.84</td>\n",
       "      <td>Play Sets  Playground Equipment</td>\n",
       "      <td>False</td>\n",
       "      <td>0</td>\n",
       "      <td>NaN</td>\n",
       "      <td>0</td>\n",
       "    </tr>\n",
       "    <tr>\n",
       "      <th>166646</th>\n",
       "      <td>B09WZRDX1G</td>\n",
       "      <td>Gicov Swing Set Replacement Tarp Kids Playgrou...</td>\n",
       "      <td>https://m.media-amazon.com/images/I/51UkZoGa0S...</td>\n",
       "      <td>https://www.amazon.ca/dp/B09WZRDX1G</td>\n",
       "      <td>5.0</td>\n",
       "      <td>2</td>\n",
       "      <td>39.85</td>\n",
       "      <td>42.99</td>\n",
       "      <td>Play Sets  Playground Equipment</td>\n",
       "      <td>False</td>\n",
       "      <td>0</td>\n",
       "      <td>NaN</td>\n",
       "      <td>0</td>\n",
       "    </tr>\n",
       "    <tr>\n",
       "      <th>166647</th>\n",
       "      <td>B08ZCNHY47</td>\n",
       "      <td>Costzon Toddler Swing Set, Outdoor Metal Swing...</td>\n",
       "      <td>https://m.media-amazon.com/images/I/61yIEZJgIW...</td>\n",
       "      <td>https://www.amazon.ca/dp/B08ZCNHY47</td>\n",
       "      <td>4.2</td>\n",
       "      <td>85</td>\n",
       "      <td>99.99</td>\n",
       "      <td>109.99</td>\n",
       "      <td>Play Sets  Playground Equipment</td>\n",
       "      <td>False</td>\n",
       "      <td>0</td>\n",
       "      <td>NaN</td>\n",
       "      <td>0</td>\n",
       "    </tr>\n",
       "    <tr>\n",
       "      <th>166648</th>\n",
       "      <td>B07FN4B192</td>\n",
       "      <td>XDP Recreation Deerfield Swing Set,10 Child Ca...</td>\n",
       "      <td>https://m.media-amazon.com/images/I/51-9p3GUwp...</td>\n",
       "      <td>https://www.amazon.ca/dp/B07FN4B192</td>\n",
       "      <td>4.2</td>\n",
       "      <td>68</td>\n",
       "      <td>717.99</td>\n",
       "      <td>799.99</td>\n",
       "      <td>Play Sets  Playground Equipment</td>\n",
       "      <td>False</td>\n",
       "      <td>0</td>\n",
       "      <td>NaN</td>\n",
       "      <td>0</td>\n",
       "    </tr>\n",
       "  </tbody>\n",
       "</table>\n",
       "<p>164487 rows × 13 columns</p>\n",
       "</div>"
      ],
      "text/plain": [
       "              asin                                              title  \\\n",
       "0       B087P7538J  YaeCCC 19 Pcs Hole Saw Kit 3/4''(19mm)- 6''(15...   \n",
       "1       B0822FF7YQ  LLPT Butyl Putty Tape White 1 Inch x 33Ft Tigh...   \n",
       "2       B07KMT96S2  Knife Sharpening Stone,400/1000.2000/5000 Doub...   \n",
       "3       B08R8T657H  MIXPOWER Extra Long Torx Bit Socket Set, 3.5-i...   \n",
       "4       B088M3JCP2  Heat Insulation Silicone Repair Mat with Scale...   \n",
       "...            ...                                                ...   \n",
       "166644  B08L52267L                    ꕤ Spinning Heavy Duty Fun Swing   \n",
       "166645  B0BV7GPLNJ  Children Steering Wheel, Swing Steering Wheel ...   \n",
       "166646  B09WZRDX1G  Gicov Swing Set Replacement Tarp Kids Playgrou...   \n",
       "166647  B08ZCNHY47  Costzon Toddler Swing Set, Outdoor Metal Swing...   \n",
       "166648  B07FN4B192  XDP Recreation Deerfield Swing Set,10 Child Ca...   \n",
       "\n",
       "                                                   imgUrl  \\\n",
       "0       https://m.media-amazon.com/images/I/71P+qLFDFc...   \n",
       "1       https://m.media-amazon.com/images/I/61wfWLZRn-...   \n",
       "2       https://m.media-amazon.com/images/I/61uWVjhezJ...   \n",
       "3       https://m.media-amazon.com/images/I/6154LErNL3...   \n",
       "4       https://m.media-amazon.com/images/I/61nzkHmJSZ...   \n",
       "...                                                   ...   \n",
       "166644  https://m.media-amazon.com/images/I/41vq-Ut7BE...   \n",
       "166645  https://m.media-amazon.com/images/I/61-0kk9U5U...   \n",
       "166646  https://m.media-amazon.com/images/I/51UkZoGa0S...   \n",
       "166647  https://m.media-amazon.com/images/I/61yIEZJgIW...   \n",
       "166648  https://m.media-amazon.com/images/I/51-9p3GUwp...   \n",
       "\n",
       "                                 productURL  stars  reviews   price  \\\n",
       "0       https://www.amazon.ca/dp/B087P7538J    4.0      126   25.99   \n",
       "1       https://www.amazon.ca/dp/B0822FF7YQ    4.5     1936   21.99   \n",
       "2       https://www.amazon.ca/dp/B07KMT96S2    4.4      366   29.99   \n",
       "3       https://www.amazon.ca/dp/B08R8T657H    4.4       82   19.97   \n",
       "4       https://www.amazon.ca/dp/B088M3JCP2    4.7      142   21.99   \n",
       "...                                     ...    ...      ...     ...   \n",
       "166644  https://www.amazon.ca/dp/B08L52267L    3.2        3   40.10   \n",
       "166645  https://www.amazon.ca/dp/B0BV7GPLNJ    0.0        0   21.46   \n",
       "166646  https://www.amazon.ca/dp/B09WZRDX1G    5.0        2   39.85   \n",
       "166647  https://www.amazon.ca/dp/B08ZCNHY47    4.2       85   99.99   \n",
       "166648  https://www.amazon.ca/dp/B07FN4B192    4.2       68  717.99   \n",
       "\n",
       "        listPrice                     categoryName  isBestSeller  \\\n",
       "0           27.99           Industrial  Scientific         False   \n",
       "1           30.99           Industrial  Scientific         False   \n",
       "2           35.99           Industrial  Scientific         False   \n",
       "3           21.97           Industrial  Scientific         False   \n",
       "4           25.99           Industrial  Scientific         False   \n",
       "...           ...                              ...           ...   \n",
       "166644      54.99  Play Sets  Playground Equipment         False   \n",
       "166645      22.84  Play Sets  Playground Equipment         False   \n",
       "166646      42.99  Play Sets  Playground Equipment         False   \n",
       "166647     109.99  Play Sets  Playground Equipment         False   \n",
       "166648     799.99  Play Sets  Playground Equipment         False   \n",
       "\n",
       "        boughtInLastMonth      mainCategory  avg_products_per_day  \n",
       "0                      50  Hardware & Tools                     2  \n",
       "1                     100  Hardware & Tools                     3  \n",
       "2                      50  Hardware & Tools                     2  \n",
       "3                       0  Hardware & Tools                     0  \n",
       "4                      50  Hardware & Tools                     2  \n",
       "...                   ...               ...                   ...  \n",
       "166644                  0               NaN                     0  \n",
       "166645                  0               NaN                     0  \n",
       "166646                  0               NaN                     0  \n",
       "166647                  0               NaN                     0  \n",
       "166648                  0               NaN                     0  \n",
       "\n",
       "[164487 rows x 13 columns]"
      ]
     },
     "execution_count": 220,
     "metadata": {},
     "output_type": "execute_result"
    }
   ],
   "source": [
    "x=datawithcategory[datawithcategory['isBestSeller']==False]\n",
    "atawithcategory[datawithcategory['mainCategory']]"
   ]
  },
  {
   "cell_type": "code",
   "execution_count": 139,
   "metadata": {},
   "outputs": [
    {
     "name": "stdout",
     "output_type": "stream",
     "text": [
      "mainCategory\n",
      "Arts & Crafts                         24\n",
      "Automotive                           183\n",
      "Beauty & Personal Care               108\n",
      "Electronics & Tech                   226\n",
      "Fashion                              251\n",
      "Grocery                               40\n",
      "Hardware & Tools                     216\n",
      "Health & Wellness & Baby Products    107\n",
      "Home & Garden                        152\n",
      "Home & Kitchen                       244\n",
      "Party & Sationery & Office Supply     76\n",
      "Pet Supplies                          99\n",
      "Sports & Outdoors                    351\n",
      "Toys & Games                          60\n",
      "Travel Essentials                     25\n",
      "dtype: int64\n"
     ]
    }
   ],
   "source": [
    "best_sellers = datawithcategory[datawithcategory['isBestSeller'] == True]\n",
    "product_counts_per_category = best_sellers.groupby('mainCategory').size()\n",
    "print(product_counts_per_category)"
   ]
  },
  {
   "cell_type": "markdown",
   "metadata": {},
   "source": [
    "Quick Look of Best-Selling Products"
   ]
  },
  {
   "cell_type": "code",
   "execution_count": 32,
   "metadata": {},
   "outputs": [
    {
     "name": "stdout",
     "output_type": "stream",
     "text": [
      "DataFrame has been successfully saved to ../data/bestseller.csv\n"
     ]
    }
   ],
   "source": [
    "# csv_path='../data/bestseller.csv'\n",
    "# df=pd.DataFrame(best_sellers)\n",
    "# df.to_csv(csv_path,index=False)\n",
    "# print(f'DataFrame has been successfully saved to {csv_path}')"
   ]
  },
  {
   "cell_type": "code",
   "execution_count": 33,
   "metadata": {},
   "outputs": [],
   "source": [
    "# best_sellers=pd.read_csv('../data/bestseller.csv')\n"
   ]
  },
  {
   "cell_type": "code",
   "execution_count": 140,
   "metadata": {},
   "outputs": [
    {
     "data": {
      "text/html": [
       "<div>\n",
       "<style scoped>\n",
       "    .dataframe tbody tr th:only-of-type {\n",
       "        vertical-align: middle;\n",
       "    }\n",
       "\n",
       "    .dataframe tbody tr th {\n",
       "        vertical-align: top;\n",
       "    }\n",
       "\n",
       "    .dataframe thead th {\n",
       "        text-align: right;\n",
       "    }\n",
       "</style>\n",
       "<table border=\"1\" class=\"dataframe\">\n",
       "  <thead>\n",
       "    <tr style=\"text-align: right;\">\n",
       "      <th></th>\n",
       "      <th>asin</th>\n",
       "      <th>title</th>\n",
       "      <th>imgUrl</th>\n",
       "      <th>productURL</th>\n",
       "      <th>stars</th>\n",
       "      <th>reviews</th>\n",
       "      <th>price</th>\n",
       "      <th>listPrice</th>\n",
       "      <th>categoryName</th>\n",
       "      <th>isBestSeller</th>\n",
       "      <th>boughtInLastMonth</th>\n",
       "      <th>mainCategory</th>\n",
       "    </tr>\n",
       "  </thead>\n",
       "  <tbody>\n",
       "    <tr>\n",
       "      <th>59</th>\n",
       "      <td>B00VHVNXN2</td>\n",
       "      <td>E-TING 4pcs Hand Tool Toggle Clamp Red Plast H...</td>\n",
       "      <td>https://m.media-amazon.com/images/I/51m3lnaFtg...</td>\n",
       "      <td>https://www.amazon.ca/dp/B00VHVNXN2</td>\n",
       "      <td>4.3</td>\n",
       "      <td>1372</td>\n",
       "      <td>16.99</td>\n",
       "      <td>18.99</td>\n",
       "      <td>Industrial  Scientific</td>\n",
       "      <td>True</td>\n",
       "      <td>50</td>\n",
       "      <td>Hardware &amp; Tools</td>\n",
       "    </tr>\n",
       "    <tr>\n",
       "      <th>150</th>\n",
       "      <td>B00VEA2904</td>\n",
       "      <td>DEWALT 20V MAX* Portable Band Saw, Deep Cut, T...</td>\n",
       "      <td>https://m.media-amazon.com/images/I/71Gp5A9Pnp...</td>\n",
       "      <td>https://www.amazon.ca/dp/B00VEA2904</td>\n",
       "      <td>4.8</td>\n",
       "      <td>1336</td>\n",
       "      <td>399.00</td>\n",
       "      <td>519.00</td>\n",
       "      <td>Industrial  Scientific</td>\n",
       "      <td>True</td>\n",
       "      <td>50</td>\n",
       "      <td>Hardware &amp; Tools</td>\n",
       "    </tr>\n",
       "    <tr>\n",
       "      <th>173</th>\n",
       "      <td>B0B7W54V3V</td>\n",
       "      <td>Periodic Table with Real Elements Inside, Acry...</td>\n",
       "      <td>https://m.media-amazon.com/images/I/71fnnB7EZm...</td>\n",
       "      <td>https://www.amazon.ca/dp/B0B7W54V3V</td>\n",
       "      <td>4.5</td>\n",
       "      <td>116</td>\n",
       "      <td>39.88</td>\n",
       "      <td>59.99</td>\n",
       "      <td>Industrial  Scientific</td>\n",
       "      <td>True</td>\n",
       "      <td>50</td>\n",
       "      <td>Hardware &amp; Tools</td>\n",
       "    </tr>\n",
       "    <tr>\n",
       "      <th>193</th>\n",
       "      <td>B0089FMXN0</td>\n",
       "      <td>Neoprene Rubber Black Self-Adhesive Sponge Str...</td>\n",
       "      <td>https://m.media-amazon.com/images/I/61TgKSfDLJ...</td>\n",
       "      <td>https://www.amazon.ca/dp/B0089FMXN0</td>\n",
       "      <td>4.2</td>\n",
       "      <td>176</td>\n",
       "      <td>12.88</td>\n",
       "      <td>13.88</td>\n",
       "      <td>Industrial  Scientific</td>\n",
       "      <td>True</td>\n",
       "      <td>0</td>\n",
       "      <td>Hardware &amp; Tools</td>\n",
       "    </tr>\n",
       "    <tr>\n",
       "      <th>210</th>\n",
       "      <td>B01MRYMRF7</td>\n",
       "      <td>meite 22G71S38 22 Gauge 71 Series 3/8\" Crown W...</td>\n",
       "      <td>https://m.media-amazon.com/images/I/71bJTiaqXw...</td>\n",
       "      <td>https://www.amazon.ca/dp/B01MRYMRF7</td>\n",
       "      <td>4.6</td>\n",
       "      <td>226</td>\n",
       "      <td>19.99</td>\n",
       "      <td>21.99</td>\n",
       "      <td>Industrial  Scientific</td>\n",
       "      <td>True</td>\n",
       "      <td>50</td>\n",
       "      <td>Hardware &amp; Tools</td>\n",
       "    </tr>\n",
       "  </tbody>\n",
       "</table>\n",
       "</div>"
      ],
      "text/plain": [
       "           asin                                              title  \\\n",
       "59   B00VHVNXN2  E-TING 4pcs Hand Tool Toggle Clamp Red Plast H...   \n",
       "150  B00VEA2904  DEWALT 20V MAX* Portable Band Saw, Deep Cut, T...   \n",
       "173  B0B7W54V3V  Periodic Table with Real Elements Inside, Acry...   \n",
       "193  B0089FMXN0  Neoprene Rubber Black Self-Adhesive Sponge Str...   \n",
       "210  B01MRYMRF7  meite 22G71S38 22 Gauge 71 Series 3/8\" Crown W...   \n",
       "\n",
       "                                                imgUrl  \\\n",
       "59   https://m.media-amazon.com/images/I/51m3lnaFtg...   \n",
       "150  https://m.media-amazon.com/images/I/71Gp5A9Pnp...   \n",
       "173  https://m.media-amazon.com/images/I/71fnnB7EZm...   \n",
       "193  https://m.media-amazon.com/images/I/61TgKSfDLJ...   \n",
       "210  https://m.media-amazon.com/images/I/71bJTiaqXw...   \n",
       "\n",
       "                              productURL  stars  reviews   price  listPrice  \\\n",
       "59   https://www.amazon.ca/dp/B00VHVNXN2    4.3     1372   16.99      18.99   \n",
       "150  https://www.amazon.ca/dp/B00VEA2904    4.8     1336  399.00     519.00   \n",
       "173  https://www.amazon.ca/dp/B0B7W54V3V    4.5      116   39.88      59.99   \n",
       "193  https://www.amazon.ca/dp/B0089FMXN0    4.2      176   12.88      13.88   \n",
       "210  https://www.amazon.ca/dp/B01MRYMRF7    4.6      226   19.99      21.99   \n",
       "\n",
       "               categoryName  isBestSeller  boughtInLastMonth      mainCategory  \n",
       "59   Industrial  Scientific          True                 50  Hardware & Tools  \n",
       "150  Industrial  Scientific          True                 50  Hardware & Tools  \n",
       "173  Industrial  Scientific          True                 50  Hardware & Tools  \n",
       "193  Industrial  Scientific          True                  0  Hardware & Tools  \n",
       "210  Industrial  Scientific          True                 50  Hardware & Tools  "
      ]
     },
     "execution_count": 140,
     "metadata": {},
     "output_type": "execute_result"
    }
   ],
   "source": [
    "best_sellers.head()"
   ]
  },
  {
   "cell_type": "code",
   "execution_count": 141,
   "metadata": {},
   "outputs": [
    {
     "data": {
      "text/html": [
       "<div>\n",
       "<style scoped>\n",
       "    .dataframe tbody tr th:only-of-type {\n",
       "        vertical-align: middle;\n",
       "    }\n",
       "\n",
       "    .dataframe tbody tr th {\n",
       "        vertical-align: top;\n",
       "    }\n",
       "\n",
       "    .dataframe thead th {\n",
       "        text-align: right;\n",
       "    }\n",
       "</style>\n",
       "<table border=\"1\" class=\"dataframe\">\n",
       "  <thead>\n",
       "    <tr style=\"text-align: right;\">\n",
       "      <th></th>\n",
       "      <th>asin</th>\n",
       "      <th>title</th>\n",
       "      <th>imgUrl</th>\n",
       "      <th>productURL</th>\n",
       "      <th>stars</th>\n",
       "      <th>reviews</th>\n",
       "      <th>price</th>\n",
       "      <th>listPrice</th>\n",
       "      <th>categoryName</th>\n",
       "      <th>isBestSeller</th>\n",
       "      <th>boughtInLastMonth</th>\n",
       "      <th>mainCategory</th>\n",
       "    </tr>\n",
       "  </thead>\n",
       "  <tbody>\n",
       "    <tr>\n",
       "      <th>163209</th>\n",
       "      <td>B0C98WFFMW</td>\n",
       "      <td>Halloween Party Invitations - Kids Halloween B...</td>\n",
       "      <td>https://m.media-amazon.com/images/I/71Oev2MLYg...</td>\n",
       "      <td>https://www.amazon.ca/dp/B0C98WFFMW</td>\n",
       "      <td>5.0</td>\n",
       "      <td>1</td>\n",
       "      <td>11.99</td>\n",
       "      <td>13.99</td>\n",
       "      <td>Stationery  Party Supplies</td>\n",
       "      <td>True</td>\n",
       "      <td>0</td>\n",
       "      <td>Party &amp; Sationery &amp; Office Supply</td>\n",
       "    </tr>\n",
       "    <tr>\n",
       "      <th>163212</th>\n",
       "      <td>B09CWLB7WT</td>\n",
       "      <td>[50 Count] 12 oz. Disposable Coffee Cups with ...</td>\n",
       "      <td>https://m.media-amazon.com/images/I/71nWnLCplW...</td>\n",
       "      <td>https://www.amazon.ca/dp/B09CWLB7WT</td>\n",
       "      <td>4.6</td>\n",
       "      <td>473</td>\n",
       "      <td>24.11</td>\n",
       "      <td>26.99</td>\n",
       "      <td>Stationery  Party Supplies</td>\n",
       "      <td>True</td>\n",
       "      <td>100</td>\n",
       "      <td>Party &amp; Sationery &amp; Office Supply</td>\n",
       "    </tr>\n",
       "    <tr>\n",
       "      <th>163289</th>\n",
       "      <td>B00S9BX3B0</td>\n",
       "      <td>Talking Tables Tea Party | Vintage Floral Pape...</td>\n",
       "      <td>https://m.media-amazon.com/images/I/91s5OgZ4I2...</td>\n",
       "      <td>https://www.amazon.ca/dp/B00S9BX3B0</td>\n",
       "      <td>4.7</td>\n",
       "      <td>1897</td>\n",
       "      <td>9.49</td>\n",
       "      <td>11.66</td>\n",
       "      <td>Stationery  Party Supplies</td>\n",
       "      <td>True</td>\n",
       "      <td>0</td>\n",
       "      <td>Party &amp; Sationery &amp; Office Supply</td>\n",
       "    </tr>\n",
       "    <tr>\n",
       "      <th>163317</th>\n",
       "      <td>B08W8TDP72</td>\n",
       "      <td>Kate Aspen Woodland Baby Shower, One Size, Fav...</td>\n",
       "      <td>https://m.media-amazon.com/images/I/71aEImH-Ir...</td>\n",
       "      <td>https://www.amazon.ca/dp/B08W8TDP72</td>\n",
       "      <td>4.7</td>\n",
       "      <td>477</td>\n",
       "      <td>20.09</td>\n",
       "      <td>22.84</td>\n",
       "      <td>Stationery  Party Supplies</td>\n",
       "      <td>True</td>\n",
       "      <td>0</td>\n",
       "      <td>Party &amp; Sationery &amp; Office Supply</td>\n",
       "    </tr>\n",
       "    <tr>\n",
       "      <th>166361</th>\n",
       "      <td>B010CMW6S4</td>\n",
       "      <td>CableDeconn Mini SAS 36 SFF-8087 to (4) SFF-84...</td>\n",
       "      <td>https://m.media-amazon.com/images/I/71pIq+vlCo...</td>\n",
       "      <td>https://www.amazon.ca/dp/B010CMW6S4</td>\n",
       "      <td>4.5</td>\n",
       "      <td>319</td>\n",
       "      <td>23.99</td>\n",
       "      <td>25.99</td>\n",
       "      <td>Cables  Accessories</td>\n",
       "      <td>True</td>\n",
       "      <td>0</td>\n",
       "      <td>Electronics &amp; Tech</td>\n",
       "    </tr>\n",
       "  </tbody>\n",
       "</table>\n",
       "</div>"
      ],
      "text/plain": [
       "              asin                                              title  \\\n",
       "163209  B0C98WFFMW  Halloween Party Invitations - Kids Halloween B...   \n",
       "163212  B09CWLB7WT  [50 Count] 12 oz. Disposable Coffee Cups with ...   \n",
       "163289  B00S9BX3B0  Talking Tables Tea Party | Vintage Floral Pape...   \n",
       "163317  B08W8TDP72  Kate Aspen Woodland Baby Shower, One Size, Fav...   \n",
       "166361  B010CMW6S4  CableDeconn Mini SAS 36 SFF-8087 to (4) SFF-84...   \n",
       "\n",
       "                                                   imgUrl  \\\n",
       "163209  https://m.media-amazon.com/images/I/71Oev2MLYg...   \n",
       "163212  https://m.media-amazon.com/images/I/71nWnLCplW...   \n",
       "163289  https://m.media-amazon.com/images/I/91s5OgZ4I2...   \n",
       "163317  https://m.media-amazon.com/images/I/71aEImH-Ir...   \n",
       "166361  https://m.media-amazon.com/images/I/71pIq+vlCo...   \n",
       "\n",
       "                                 productURL  stars  reviews  price  listPrice  \\\n",
       "163209  https://www.amazon.ca/dp/B0C98WFFMW    5.0        1  11.99      13.99   \n",
       "163212  https://www.amazon.ca/dp/B09CWLB7WT    4.6      473  24.11      26.99   \n",
       "163289  https://www.amazon.ca/dp/B00S9BX3B0    4.7     1897   9.49      11.66   \n",
       "163317  https://www.amazon.ca/dp/B08W8TDP72    4.7      477  20.09      22.84   \n",
       "166361  https://www.amazon.ca/dp/B010CMW6S4    4.5      319  23.99      25.99   \n",
       "\n",
       "                      categoryName  isBestSeller  boughtInLastMonth  \\\n",
       "163209  Stationery  Party Supplies          True                  0   \n",
       "163212  Stationery  Party Supplies          True                100   \n",
       "163289  Stationery  Party Supplies          True                  0   \n",
       "163317  Stationery  Party Supplies          True                  0   \n",
       "166361         Cables  Accessories          True                  0   \n",
       "\n",
       "                             mainCategory  \n",
       "163209  Party & Sationery & Office Supply  \n",
       "163212  Party & Sationery & Office Supply  \n",
       "163289  Party & Sationery & Office Supply  \n",
       "163317  Party & Sationery & Office Supply  \n",
       "166361                 Electronics & Tech  "
      ]
     },
     "execution_count": 141,
     "metadata": {},
     "output_type": "execute_result"
    }
   ],
   "source": [
    "best_sellers.tail()"
   ]
  },
  {
   "cell_type": "code",
   "execution_count": 142,
   "metadata": {},
   "outputs": [
    {
     "data": {
      "text/plain": [
       "(2162, 12)"
      ]
     },
     "execution_count": 142,
     "metadata": {},
     "output_type": "execute_result"
    }
   ],
   "source": [
    "best_sellers.shape"
   ]
  },
  {
   "cell_type": "code",
   "execution_count": 235,
   "metadata": {},
   "outputs": [
    {
     "data": {
      "text/html": [
       "<div>\n",
       "<style scoped>\n",
       "    .dataframe tbody tr th:only-of-type {\n",
       "        vertical-align: middle;\n",
       "    }\n",
       "\n",
       "    .dataframe tbody tr th {\n",
       "        vertical-align: top;\n",
       "    }\n",
       "\n",
       "    .dataframe thead th {\n",
       "        text-align: right;\n",
       "    }\n",
       "</style>\n",
       "<table border=\"1\" class=\"dataframe\">\n",
       "  <thead>\n",
       "    <tr style=\"text-align: right;\">\n",
       "      <th></th>\n",
       "      <th>asin</th>\n",
       "      <th>title</th>\n",
       "      <th>imgUrl</th>\n",
       "      <th>productURL</th>\n",
       "      <th>stars</th>\n",
       "      <th>reviews</th>\n",
       "      <th>price</th>\n",
       "      <th>listPrice</th>\n",
       "      <th>categoryName</th>\n",
       "      <th>isBestSeller</th>\n",
       "      <th>boughtInLastMonth</th>\n",
       "      <th>mainCategory</th>\n",
       "      <th>discount_amount</th>\n",
       "      <th>discount_percent</th>\n",
       "    </tr>\n",
       "  </thead>\n",
       "  <tbody>\n",
       "    <tr>\n",
       "      <th>1989</th>\n",
       "      <td>B01L1593L4</td>\n",
       "      <td>Explore Land Cotton Military Shemagh Tactical ...</td>\n",
       "      <td>https://m.media-amazon.com/images/I/71c9cGjvO0...</td>\n",
       "      <td>https://www.amazon.ca/dp/B01L1593L4</td>\n",
       "      <td>4.4</td>\n",
       "      <td>23323</td>\n",
       "      <td>18.99</td>\n",
       "      <td>28.99</td>\n",
       "      <td>Sports  Outdoors</td>\n",
       "      <td>True</td>\n",
       "      <td>50</td>\n",
       "      <td>Sports &amp; Outdoors</td>\n",
       "      <td>10.00</td>\n",
       "      <td>34.494653</td>\n",
       "    </tr>\n",
       "    <tr>\n",
       "      <th>2031</th>\n",
       "      <td>B073TW4BV6</td>\n",
       "      <td>Men's 3 Pieces Suit Elegant Solid One Button S...</td>\n",
       "      <td>https://m.media-amazon.com/images/I/61Ysy6IFE3...</td>\n",
       "      <td>https://www.amazon.ca/dp/B073TW4BV6</td>\n",
       "      <td>4.0</td>\n",
       "      <td>7762</td>\n",
       "      <td>119.99</td>\n",
       "      <td>150.00</td>\n",
       "      <td>Men's Clothing</td>\n",
       "      <td>True</td>\n",
       "      <td>50</td>\n",
       "      <td>Fashion</td>\n",
       "      <td>30.01</td>\n",
       "      <td>20.006667</td>\n",
       "    </tr>\n",
       "    <tr>\n",
       "      <th>2035</th>\n",
       "      <td>B07XYTP2FR</td>\n",
       "      <td>Women's Breathable Seamless Thong Panties No S...</td>\n",
       "      <td>https://m.media-amazon.com/images/I/81Go14KyeE...</td>\n",
       "      <td>https://www.amazon.ca/dp/B07XYTP2FR</td>\n",
       "      <td>4.5</td>\n",
       "      <td>18465</td>\n",
       "      <td>35.98</td>\n",
       "      <td>42.98</td>\n",
       "      <td>Women's Clothing</td>\n",
       "      <td>True</td>\n",
       "      <td>100</td>\n",
       "      <td>Fashion</td>\n",
       "      <td>7.00</td>\n",
       "      <td>16.286645</td>\n",
       "    </tr>\n",
       "    <tr>\n",
       "      <th>2037</th>\n",
       "      <td>B01BSYBGV8</td>\n",
       "      <td>Women's BOBS Plush - Peace &amp; Love Slip-Ons</td>\n",
       "      <td>https://m.media-amazon.com/images/I/61mx85-BOj...</td>\n",
       "      <td>https://www.amazon.ca/dp/B01BSYBGV8</td>\n",
       "      <td>4.2</td>\n",
       "      <td>12092</td>\n",
       "      <td>35.98</td>\n",
       "      <td>41.98</td>\n",
       "      <td>Women's Clothing</td>\n",
       "      <td>True</td>\n",
       "      <td>0</td>\n",
       "      <td>Fashion</td>\n",
       "      <td>6.00</td>\n",
       "      <td>14.292520</td>\n",
       "    </tr>\n",
       "    <tr>\n",
       "      <th>2038</th>\n",
       "      <td>B0B75PLR9Y</td>\n",
       "      <td>Women Trench Coats Double-Breasted Spring and ...</td>\n",
       "      <td>https://m.media-amazon.com/images/I/61LA52GPtU...</td>\n",
       "      <td>https://www.amazon.ca/dp/B0B75PLR9Y</td>\n",
       "      <td>3.7</td>\n",
       "      <td>360</td>\n",
       "      <td>64.98</td>\n",
       "      <td>89.98</td>\n",
       "      <td>Women's Clothing</td>\n",
       "      <td>True</td>\n",
       "      <td>0</td>\n",
       "      <td>Fashion</td>\n",
       "      <td>25.00</td>\n",
       "      <td>27.783952</td>\n",
       "    </tr>\n",
       "    <tr>\n",
       "      <th>2039</th>\n",
       "      <td>B096VCW31P</td>\n",
       "      <td>Women's Bikini Sets Two Piece Swimsuits Twist ...</td>\n",
       "      <td>https://m.media-amazon.com/images/I/71WlPhx38a...</td>\n",
       "      <td>https://www.amazon.ca/dp/B096VCW31P</td>\n",
       "      <td>4.2</td>\n",
       "      <td>7601</td>\n",
       "      <td>42.99</td>\n",
       "      <td>59.99</td>\n",
       "      <td>Women's Clothing</td>\n",
       "      <td>True</td>\n",
       "      <td>0</td>\n",
       "      <td>Fashion</td>\n",
       "      <td>17.00</td>\n",
       "      <td>28.338056</td>\n",
       "    </tr>\n",
       "    <tr>\n",
       "      <th>2040</th>\n",
       "      <td>B07S84HVYH</td>\n",
       "      <td>Womens Safari Shirts UPF 50+ UV Sun Protection...</td>\n",
       "      <td>https://m.media-amazon.com/images/I/61hxcf1TdF...</td>\n",
       "      <td>https://www.amazon.ca/dp/B07S84HVYH</td>\n",
       "      <td>3.9</td>\n",
       "      <td>226</td>\n",
       "      <td>20.99</td>\n",
       "      <td>22.99</td>\n",
       "      <td>Women's Clothing</td>\n",
       "      <td>True</td>\n",
       "      <td>0</td>\n",
       "      <td>Fashion</td>\n",
       "      <td>2.00</td>\n",
       "      <td>8.699435</td>\n",
       "    </tr>\n",
       "    <tr>\n",
       "      <th>2042</th>\n",
       "      <td>B0BR724H3W</td>\n",
       "      <td>Womens Safari Shirts UPF 50+ UV Sun Protection...</td>\n",
       "      <td>https://m.media-amazon.com/images/I/71VgV9e+9Y...</td>\n",
       "      <td>https://www.amazon.ca/dp/B0BR724H3W</td>\n",
       "      <td>3.9</td>\n",
       "      <td>226</td>\n",
       "      <td>20.97</td>\n",
       "      <td>22.99</td>\n",
       "      <td>Women's Clothing</td>\n",
       "      <td>True</td>\n",
       "      <td>0</td>\n",
       "      <td>Fashion</td>\n",
       "      <td>2.02</td>\n",
       "      <td>8.786429</td>\n",
       "    </tr>\n",
       "    <tr>\n",
       "      <th>2043</th>\n",
       "      <td>B08D8FPBQV</td>\n",
       "      <td>Women's Breathable Seamless Thong Panties No S...</td>\n",
       "      <td>https://m.media-amazon.com/images/I/617eqhfdzK...</td>\n",
       "      <td>https://www.amazon.ca/dp/B08D8FPBQV</td>\n",
       "      <td>4.5</td>\n",
       "      <td>18465</td>\n",
       "      <td>35.98</td>\n",
       "      <td>42.98</td>\n",
       "      <td>Women's Clothing</td>\n",
       "      <td>True</td>\n",
       "      <td>200</td>\n",
       "      <td>Fashion</td>\n",
       "      <td>7.00</td>\n",
       "      <td>16.286645</td>\n",
       "    </tr>\n",
       "    <tr>\n",
       "      <th>2048</th>\n",
       "      <td>B074P44WM5</td>\n",
       "      <td>OutdoorMaster Kelvin Ski Helmet - Snowboard He...</td>\n",
       "      <td>https://m.media-amazon.com/images/I/51JQM0U7l0...</td>\n",
       "      <td>https://www.amazon.ca/dp/B074P44WM5</td>\n",
       "      <td>4.5</td>\n",
       "      <td>8547</td>\n",
       "      <td>58.99</td>\n",
       "      <td>65.99</td>\n",
       "      <td>Snow  Ice Sports</td>\n",
       "      <td>True</td>\n",
       "      <td>0</td>\n",
       "      <td>Sports &amp; Outdoors</td>\n",
       "      <td>7.00</td>\n",
       "      <td>10.607668</td>\n",
       "    </tr>\n",
       "    <tr>\n",
       "      <th>2049</th>\n",
       "      <td>B0788LG9Z5</td>\n",
       "      <td>CRYSULLY Men's Military Tactical Sport Warm Fl...</td>\n",
       "      <td>https://m.media-amazon.com/images/I/61YvKNLpCJ...</td>\n",
       "      <td>https://www.amazon.ca/dp/B0788LG9Z5</td>\n",
       "      <td>4.3</td>\n",
       "      <td>5696</td>\n",
       "      <td>76.96</td>\n",
       "      <td>99.99</td>\n",
       "      <td>Snow  Ice Sports</td>\n",
       "      <td>True</td>\n",
       "      <td>0</td>\n",
       "      <td>Sports &amp; Outdoors</td>\n",
       "      <td>23.03</td>\n",
       "      <td>23.032303</td>\n",
       "    </tr>\n",
       "    <tr>\n",
       "      <th>2052</th>\n",
       "      <td>B07B78R78Y</td>\n",
       "      <td>Wantdo Men's Leather Jacket with Removable Hood</td>\n",
       "      <td>https://m.media-amazon.com/images/I/81lrj4DrNW...</td>\n",
       "      <td>https://www.amazon.ca/dp/B07B78R78Y</td>\n",
       "      <td>4.3</td>\n",
       "      <td>7198</td>\n",
       "      <td>79.99</td>\n",
       "      <td>115.59</td>\n",
       "      <td>Motorcycle Accessories  Parts</td>\n",
       "      <td>True</td>\n",
       "      <td>0</td>\n",
       "      <td>Automotive</td>\n",
       "      <td>35.60</td>\n",
       "      <td>30.798512</td>\n",
       "    </tr>\n",
       "    <tr>\n",
       "      <th>2098</th>\n",
       "      <td>B091XY5KRV</td>\n",
       "      <td>Lixada Fishing Suit Whole Body Jacket Mesh Hoo...</td>\n",
       "      <td>https://m.media-amazon.com/images/I/71qae9taIU...</td>\n",
       "      <td>https://www.amazon.ca/dp/B091XY5KRV</td>\n",
       "      <td>4.0</td>\n",
       "      <td>357</td>\n",
       "      <td>19.99</td>\n",
       "      <td>31.99</td>\n",
       "      <td>Outdoor Gear</td>\n",
       "      <td>True</td>\n",
       "      <td>0</td>\n",
       "      <td>Sports &amp; Outdoors</td>\n",
       "      <td>12.00</td>\n",
       "      <td>37.511722</td>\n",
       "    </tr>\n",
       "    <tr>\n",
       "      <th>2111</th>\n",
       "      <td>B0CC55944K</td>\n",
       "      <td>FISHEAL Kids UPF 50+ Fishing Shirt - Boys Girl...</td>\n",
       "      <td>https://m.media-amazon.com/images/I/71oF2zZy+2...</td>\n",
       "      <td>https://www.amazon.ca/dp/B0CC55944K</td>\n",
       "      <td>4.9</td>\n",
       "      <td>30</td>\n",
       "      <td>16.77</td>\n",
       "      <td>36.99</td>\n",
       "      <td>Boating  Watersports</td>\n",
       "      <td>True</td>\n",
       "      <td>0</td>\n",
       "      <td>Sports &amp; Outdoors</td>\n",
       "      <td>20.22</td>\n",
       "      <td>54.663423</td>\n",
       "    </tr>\n",
       "    <tr>\n",
       "      <th>2116</th>\n",
       "      <td>B09GG6KW6N</td>\n",
       "      <td>Women Lingerie Fishnet Teddy Sparkle Rhineston...</td>\n",
       "      <td>https://m.media-amazon.com/images/I/81PpRnGzoz...</td>\n",
       "      <td>https://www.amazon.ca/dp/B09GG6KW6N</td>\n",
       "      <td>4.2</td>\n",
       "      <td>4110</td>\n",
       "      <td>16.99</td>\n",
       "      <td>24.99</td>\n",
       "      <td>Women</td>\n",
       "      <td>True</td>\n",
       "      <td>50</td>\n",
       "      <td>Fashion</td>\n",
       "      <td>8.00</td>\n",
       "      <td>32.012805</td>\n",
       "    </tr>\n",
       "    <tr>\n",
       "      <th>2118</th>\n",
       "      <td>B0BGMSZSQR</td>\n",
       "      <td>Seasons Mens Winter Puffer Jacket - Padded Coat</td>\n",
       "      <td>https://m.media-amazon.com/images/I/61qowUG9oe...</td>\n",
       "      <td>https://www.amazon.ca/dp/B0BGMSZSQR</td>\n",
       "      <td>4.3</td>\n",
       "      <td>55</td>\n",
       "      <td>69.99</td>\n",
       "      <td>74.99</td>\n",
       "      <td>Men</td>\n",
       "      <td>True</td>\n",
       "      <td>50</td>\n",
       "      <td>Fashion</td>\n",
       "      <td>5.00</td>\n",
       "      <td>6.667556</td>\n",
       "    </tr>\n",
       "    <tr>\n",
       "      <th>2119</th>\n",
       "      <td>B079D2LX4N</td>\n",
       "      <td>Mens Expandable Waist Classic-fit Flat-Front D...</td>\n",
       "      <td>https://m.media-amazon.com/images/I/71plx8JULm...</td>\n",
       "      <td>https://www.amazon.ca/dp/B079D2LX4N</td>\n",
       "      <td>4.3</td>\n",
       "      <td>17519</td>\n",
       "      <td>36.70</td>\n",
       "      <td>39.40</td>\n",
       "      <td>Men</td>\n",
       "      <td>True</td>\n",
       "      <td>50</td>\n",
       "      <td>Fashion</td>\n",
       "      <td>2.70</td>\n",
       "      <td>6.852792</td>\n",
       "    </tr>\n",
       "    <tr>\n",
       "      <th>2123</th>\n",
       "      <td>B07PBG4CFK</td>\n",
       "      <td>Men's Waterproof Hiking Boots Outdoor Mid Trek...</td>\n",
       "      <td>https://m.media-amazon.com/images/I/71dEhxpTD6...</td>\n",
       "      <td>https://www.amazon.ca/dp/B07PBG4CFK</td>\n",
       "      <td>4.3</td>\n",
       "      <td>18659</td>\n",
       "      <td>82.99</td>\n",
       "      <td>99.99</td>\n",
       "      <td>Men</td>\n",
       "      <td>True</td>\n",
       "      <td>0</td>\n",
       "      <td>Fashion</td>\n",
       "      <td>17.00</td>\n",
       "      <td>17.001700</td>\n",
       "    </tr>\n",
       "    <tr>\n",
       "      <th>2125</th>\n",
       "      <td>B07P6ZXYVQ</td>\n",
       "      <td>Men's Waterproof Hiking Boots Outdoor Mid Trek...</td>\n",
       "      <td>https://m.media-amazon.com/images/I/81hU0DgMSb...</td>\n",
       "      <td>https://www.amazon.ca/dp/B07P6ZXYVQ</td>\n",
       "      <td>4.3</td>\n",
       "      <td>18659</td>\n",
       "      <td>82.99</td>\n",
       "      <td>99.99</td>\n",
       "      <td>Men</td>\n",
       "      <td>True</td>\n",
       "      <td>0</td>\n",
       "      <td>Fashion</td>\n",
       "      <td>17.00</td>\n",
       "      <td>17.001700</td>\n",
       "    </tr>\n",
       "    <tr>\n",
       "      <th>2127</th>\n",
       "      <td>B07RWN6F4K</td>\n",
       "      <td>Men's Summer Quick Dry Cargo Shorts Outdoor Ca...</td>\n",
       "      <td>https://m.media-amazon.com/images/I/61QzU4bElb...</td>\n",
       "      <td>https://www.amazon.ca/dp/B07RWN6F4K</td>\n",
       "      <td>4.4</td>\n",
       "      <td>1923</td>\n",
       "      <td>44.98</td>\n",
       "      <td>49.99</td>\n",
       "      <td>Men</td>\n",
       "      <td>True</td>\n",
       "      <td>0</td>\n",
       "      <td>Fashion</td>\n",
       "      <td>5.01</td>\n",
       "      <td>10.022004</td>\n",
       "    </tr>\n",
       "  </tbody>\n",
       "</table>\n",
       "</div>"
      ],
      "text/plain": [
       "            asin                                              title  \\\n",
       "1989  B01L1593L4  Explore Land Cotton Military Shemagh Tactical ...   \n",
       "2031  B073TW4BV6  Men's 3 Pieces Suit Elegant Solid One Button S...   \n",
       "2035  B07XYTP2FR  Women's Breathable Seamless Thong Panties No S...   \n",
       "2037  B01BSYBGV8         Women's BOBS Plush - Peace & Love Slip-Ons   \n",
       "2038  B0B75PLR9Y  Women Trench Coats Double-Breasted Spring and ...   \n",
       "2039  B096VCW31P  Women's Bikini Sets Two Piece Swimsuits Twist ...   \n",
       "2040  B07S84HVYH  Womens Safari Shirts UPF 50+ UV Sun Protection...   \n",
       "2042  B0BR724H3W  Womens Safari Shirts UPF 50+ UV Sun Protection...   \n",
       "2043  B08D8FPBQV  Women's Breathable Seamless Thong Panties No S...   \n",
       "2048  B074P44WM5  OutdoorMaster Kelvin Ski Helmet - Snowboard He...   \n",
       "2049  B0788LG9Z5  CRYSULLY Men's Military Tactical Sport Warm Fl...   \n",
       "2052  B07B78R78Y    Wantdo Men's Leather Jacket with Removable Hood   \n",
       "2098  B091XY5KRV  Lixada Fishing Suit Whole Body Jacket Mesh Hoo...   \n",
       "2111  B0CC55944K  FISHEAL Kids UPF 50+ Fishing Shirt - Boys Girl...   \n",
       "2116  B09GG6KW6N  Women Lingerie Fishnet Teddy Sparkle Rhineston...   \n",
       "2118  B0BGMSZSQR    Seasons Mens Winter Puffer Jacket - Padded Coat   \n",
       "2119  B079D2LX4N  Mens Expandable Waist Classic-fit Flat-Front D...   \n",
       "2123  B07PBG4CFK  Men's Waterproof Hiking Boots Outdoor Mid Trek...   \n",
       "2125  B07P6ZXYVQ  Men's Waterproof Hiking Boots Outdoor Mid Trek...   \n",
       "2127  B07RWN6F4K  Men's Summer Quick Dry Cargo Shorts Outdoor Ca...   \n",
       "\n",
       "                                                 imgUrl  \\\n",
       "1989  https://m.media-amazon.com/images/I/71c9cGjvO0...   \n",
       "2031  https://m.media-amazon.com/images/I/61Ysy6IFE3...   \n",
       "2035  https://m.media-amazon.com/images/I/81Go14KyeE...   \n",
       "2037  https://m.media-amazon.com/images/I/61mx85-BOj...   \n",
       "2038  https://m.media-amazon.com/images/I/61LA52GPtU...   \n",
       "2039  https://m.media-amazon.com/images/I/71WlPhx38a...   \n",
       "2040  https://m.media-amazon.com/images/I/61hxcf1TdF...   \n",
       "2042  https://m.media-amazon.com/images/I/71VgV9e+9Y...   \n",
       "2043  https://m.media-amazon.com/images/I/617eqhfdzK...   \n",
       "2048  https://m.media-amazon.com/images/I/51JQM0U7l0...   \n",
       "2049  https://m.media-amazon.com/images/I/61YvKNLpCJ...   \n",
       "2052  https://m.media-amazon.com/images/I/81lrj4DrNW...   \n",
       "2098  https://m.media-amazon.com/images/I/71qae9taIU...   \n",
       "2111  https://m.media-amazon.com/images/I/71oF2zZy+2...   \n",
       "2116  https://m.media-amazon.com/images/I/81PpRnGzoz...   \n",
       "2118  https://m.media-amazon.com/images/I/61qowUG9oe...   \n",
       "2119  https://m.media-amazon.com/images/I/71plx8JULm...   \n",
       "2123  https://m.media-amazon.com/images/I/71dEhxpTD6...   \n",
       "2125  https://m.media-amazon.com/images/I/81hU0DgMSb...   \n",
       "2127  https://m.media-amazon.com/images/I/61QzU4bElb...   \n",
       "\n",
       "                               productURL  stars  reviews   price  listPrice  \\\n",
       "1989  https://www.amazon.ca/dp/B01L1593L4    4.4    23323   18.99      28.99   \n",
       "2031  https://www.amazon.ca/dp/B073TW4BV6    4.0     7762  119.99     150.00   \n",
       "2035  https://www.amazon.ca/dp/B07XYTP2FR    4.5    18465   35.98      42.98   \n",
       "2037  https://www.amazon.ca/dp/B01BSYBGV8    4.2    12092   35.98      41.98   \n",
       "2038  https://www.amazon.ca/dp/B0B75PLR9Y    3.7      360   64.98      89.98   \n",
       "2039  https://www.amazon.ca/dp/B096VCW31P    4.2     7601   42.99      59.99   \n",
       "2040  https://www.amazon.ca/dp/B07S84HVYH    3.9      226   20.99      22.99   \n",
       "2042  https://www.amazon.ca/dp/B0BR724H3W    3.9      226   20.97      22.99   \n",
       "2043  https://www.amazon.ca/dp/B08D8FPBQV    4.5    18465   35.98      42.98   \n",
       "2048  https://www.amazon.ca/dp/B074P44WM5    4.5     8547   58.99      65.99   \n",
       "2049  https://www.amazon.ca/dp/B0788LG9Z5    4.3     5696   76.96      99.99   \n",
       "2052  https://www.amazon.ca/dp/B07B78R78Y    4.3     7198   79.99     115.59   \n",
       "2098  https://www.amazon.ca/dp/B091XY5KRV    4.0      357   19.99      31.99   \n",
       "2111  https://www.amazon.ca/dp/B0CC55944K    4.9       30   16.77      36.99   \n",
       "2116  https://www.amazon.ca/dp/B09GG6KW6N    4.2     4110   16.99      24.99   \n",
       "2118  https://www.amazon.ca/dp/B0BGMSZSQR    4.3       55   69.99      74.99   \n",
       "2119  https://www.amazon.ca/dp/B079D2LX4N    4.3    17519   36.70      39.40   \n",
       "2123  https://www.amazon.ca/dp/B07PBG4CFK    4.3    18659   82.99      99.99   \n",
       "2125  https://www.amazon.ca/dp/B07P6ZXYVQ    4.3    18659   82.99      99.99   \n",
       "2127  https://www.amazon.ca/dp/B07RWN6F4K    4.4     1923   44.98      49.99   \n",
       "\n",
       "                       categoryName  isBestSeller  boughtInLastMonth  \\\n",
       "1989               Sports  Outdoors          True                 50   \n",
       "2031                 Men's Clothing          True                 50   \n",
       "2035               Women's Clothing          True                100   \n",
       "2037               Women's Clothing          True                  0   \n",
       "2038               Women's Clothing          True                  0   \n",
       "2039               Women's Clothing          True                  0   \n",
       "2040               Women's Clothing          True                  0   \n",
       "2042               Women's Clothing          True                  0   \n",
       "2043               Women's Clothing          True                200   \n",
       "2048               Snow  Ice Sports          True                  0   \n",
       "2049               Snow  Ice Sports          True                  0   \n",
       "2052  Motorcycle Accessories  Parts          True                  0   \n",
       "2098                   Outdoor Gear          True                  0   \n",
       "2111           Boating  Watersports          True                  0   \n",
       "2116                          Women          True                 50   \n",
       "2118                            Men          True                 50   \n",
       "2119                            Men          True                 50   \n",
       "2123                            Men          True                  0   \n",
       "2125                            Men          True                  0   \n",
       "2127                            Men          True                  0   \n",
       "\n",
       "           mainCategory  discount_amount  discount_percent  \n",
       "1989  Sports & Outdoors            10.00         34.494653  \n",
       "2031            Fashion            30.01         20.006667  \n",
       "2035            Fashion             7.00         16.286645  \n",
       "2037            Fashion             6.00         14.292520  \n",
       "2038            Fashion            25.00         27.783952  \n",
       "2039            Fashion            17.00         28.338056  \n",
       "2040            Fashion             2.00          8.699435  \n",
       "2042            Fashion             2.02          8.786429  \n",
       "2043            Fashion             7.00         16.286645  \n",
       "2048  Sports & Outdoors             7.00         10.607668  \n",
       "2049  Sports & Outdoors            23.03         23.032303  \n",
       "2052         Automotive            35.60         30.798512  \n",
       "2098  Sports & Outdoors            12.00         37.511722  \n",
       "2111  Sports & Outdoors            20.22         54.663423  \n",
       "2116            Fashion             8.00         32.012805  \n",
       "2118            Fashion             5.00          6.667556  \n",
       "2119            Fashion             2.70          6.852792  \n",
       "2123            Fashion            17.00         17.001700  \n",
       "2125            Fashion            17.00         17.001700  \n",
       "2127            Fashion             5.01         10.022004  "
      ]
     },
     "execution_count": 235,
     "metadata": {},
     "output_type": "execute_result"
    }
   ],
   "source": [
    "# unique_title_count=best_sellers['title'].nunique()\n",
    "# x=best_sellers[best_sellers['title'].unique]\n",
    "# Create a boolean mask to identify non-unique titles\n",
    "non_unique_mask = best_sellers.duplicated(subset='title', keep=False)\n",
    "\n",
    "# Use the mask to filter the DataFrame\n",
    "non_unique_rows = best_sellers[non_unique_mask]\n",
    "\n",
    "# Display the resulting DataFrame\n",
    "non_unique_rows.tail(20)"
   ]
  },
  {
   "cell_type": "code",
   "execution_count": null,
   "metadata": {},
   "outputs": [
    {
     "name": "stdout",
     "output_type": "stream",
     "text": [
      "<class 'pandas.core.frame.DataFrame'>\n",
      "Index: 2162 entries, 59 to 166361\n",
      "Data columns (total 12 columns):\n",
      " #   Column             Non-Null Count  Dtype  \n",
      "---  ------             --------------  -----  \n",
      " 0   asin               2162 non-null   object \n",
      " 1   title              2162 non-null   object \n",
      " 2   imgUrl             2162 non-null   object \n",
      " 3   productURL         2162 non-null   object \n",
      " 4   stars              2162 non-null   float64\n",
      " 5   reviews            2162 non-null   int64  \n",
      " 6   price              2162 non-null   float64\n",
      " 7   listPrice          2162 non-null   float64\n",
      " 8   categoryName       2162 non-null   object \n",
      " 9   isBestSeller       2162 non-null   bool   \n",
      " 10  boughtInLastMonth  2162 non-null   int64  \n",
      " 11  mainCategory       2162 non-null   object \n",
      "dtypes: bool(1), float64(3), int64(2), object(6)\n",
      "memory usage: 204.8+ KB\n"
     ]
    }
   ],
   "source": [
    "best_sellers.info()"
   ]
  },
  {
   "cell_type": "code",
   "execution_count": 144,
   "metadata": {},
   "outputs": [
    {
     "data": {
      "text/html": [
       "<div>\n",
       "<style scoped>\n",
       "    .dataframe tbody tr th:only-of-type {\n",
       "        vertical-align: middle;\n",
       "    }\n",
       "\n",
       "    .dataframe tbody tr th {\n",
       "        vertical-align: top;\n",
       "    }\n",
       "\n",
       "    .dataframe thead th {\n",
       "        text-align: right;\n",
       "    }\n",
       "</style>\n",
       "<table border=\"1\" class=\"dataframe\">\n",
       "  <thead>\n",
       "    <tr style=\"text-align: right;\">\n",
       "      <th></th>\n",
       "      <th>stars</th>\n",
       "      <th>reviews</th>\n",
       "      <th>price</th>\n",
       "      <th>listPrice</th>\n",
       "      <th>boughtInLastMonth</th>\n",
       "    </tr>\n",
       "  </thead>\n",
       "  <tbody>\n",
       "    <tr>\n",
       "      <th>count</th>\n",
       "      <td>2162.000000</td>\n",
       "      <td>2162.000000</td>\n",
       "      <td>2162.000000</td>\n",
       "      <td>2162.000000</td>\n",
       "      <td>2162.000000</td>\n",
       "    </tr>\n",
       "    <tr>\n",
       "      <th>mean</th>\n",
       "      <td>4.383811</td>\n",
       "      <td>9735.244681</td>\n",
       "      <td>47.301309</td>\n",
       "      <td>58.336119</td>\n",
       "      <td>462.395930</td>\n",
       "    </tr>\n",
       "    <tr>\n",
       "      <th>std</th>\n",
       "      <td>0.407185</td>\n",
       "      <td>22081.178078</td>\n",
       "      <td>79.047891</td>\n",
       "      <td>91.978468</td>\n",
       "      <td>1085.799294</td>\n",
       "    </tr>\n",
       "    <tr>\n",
       "      <th>min</th>\n",
       "      <td>0.000000</td>\n",
       "      <td>0.000000</td>\n",
       "      <td>1.770000</td>\n",
       "      <td>2.770000</td>\n",
       "      <td>0.000000</td>\n",
       "    </tr>\n",
       "    <tr>\n",
       "      <th>25%</th>\n",
       "      <td>4.300000</td>\n",
       "      <td>428.250000</td>\n",
       "      <td>15.990000</td>\n",
       "      <td>19.990000</td>\n",
       "      <td>0.000000</td>\n",
       "    </tr>\n",
       "    <tr>\n",
       "      <th>50%</th>\n",
       "      <td>4.400000</td>\n",
       "      <td>2277.000000</td>\n",
       "      <td>25.950000</td>\n",
       "      <td>32.950000</td>\n",
       "      <td>100.000000</td>\n",
       "    </tr>\n",
       "    <tr>\n",
       "      <th>75%</th>\n",
       "      <td>4.600000</td>\n",
       "      <td>8382.500000</td>\n",
       "      <td>44.980000</td>\n",
       "      <td>56.505000</td>\n",
       "      <td>400.000000</td>\n",
       "    </tr>\n",
       "    <tr>\n",
       "      <th>max</th>\n",
       "      <td>5.000000</td>\n",
       "      <td>287780.000000</td>\n",
       "      <td>894.980000</td>\n",
       "      <td>999.990000</td>\n",
       "      <td>10000.000000</td>\n",
       "    </tr>\n",
       "  </tbody>\n",
       "</table>\n",
       "</div>"
      ],
      "text/plain": [
       "             stars        reviews        price    listPrice  boughtInLastMonth\n",
       "count  2162.000000    2162.000000  2162.000000  2162.000000        2162.000000\n",
       "mean      4.383811    9735.244681    47.301309    58.336119         462.395930\n",
       "std       0.407185   22081.178078    79.047891    91.978468        1085.799294\n",
       "min       0.000000       0.000000     1.770000     2.770000           0.000000\n",
       "25%       4.300000     428.250000    15.990000    19.990000           0.000000\n",
       "50%       4.400000    2277.000000    25.950000    32.950000         100.000000\n",
       "75%       4.600000    8382.500000    44.980000    56.505000         400.000000\n",
       "max       5.000000  287780.000000   894.980000   999.990000       10000.000000"
      ]
     },
     "execution_count": 144,
     "metadata": {},
     "output_type": "execute_result"
    }
   ],
   "source": [
    "best_sellers.describe()"
   ]
  },
  {
   "cell_type": "code",
   "execution_count": 145,
   "metadata": {},
   "outputs": [],
   "source": [
    "import seaborn as sns\n",
    "#import scikit-learn\n",
    "#from sklearn.model_selection import train_test_split\n",
    "# from sklearn.linear_model import LinearRegression\n",
    "# from sklearn.metrics import mean_squared_error\n",
    "# correlation_matrix = best_sellers.corr()\n",
    "# sns.heatmap(correlation_matrix, annot=True, cmap='coolwarm')"
   ]
  },
  {
   "cell_type": "code",
   "execution_count": 216,
   "metadata": {},
   "outputs": [
    {
     "data": {
      "image/png": "[encoded data removed]",
      "text/plain": [
       "<Figure size 640x480 with 2 Axes>"
      ]
     },
     "metadata": {},
     "output_type": "display_data"
    }
   ],
   "source": [
    "\n",
    "subset_columns = ['stars', 'reviews', 'price','listPrice','boughtInLastMonth']\n",
    "dat=datawithcategory[subset_columns]\n",
    "correlation_matrix = dat.corr()\n",
    "sns.heatmap(correlation_matrix, annot=True, cmap='viridis', fmt=\".1f\", linewidths=.5)\n",
    "plt.show()"
   ]
  },
  {
   "cell_type": "code",
   "execution_count": 147,
   "metadata": {},
   "outputs": [],
   "source": [
    "datawithcategory=pd.read_csv('../data/clean_amazonca_withcategory.csv')\n",
    "#data.describe()"
   ]
  },
  {
   "cell_type": "markdown",
   "metadata": {},
   "source": [
    "This method makes an assumption about the uniform distribution of sales, and it might not accurately reflect the true pattern of sales over time. If I later obtain date information, I can refine your analysis and visualization.\n",
    "\n",
    "Remember to replace 'someColumn' with the appropriate column in your DataFrame that might represent days.\n",
    "\n",
    "Please note that without a specific date column, the analysis is somewhat simplified, and the results may not capture variations in sales over time.\n",
    "\n",
    "\n",
    "\n",
    "\n",
    "\n"
   ]
  },
  {
   "cell_type": "code",
   "execution_count": 148,
   "metadata": {},
   "outputs": [],
   "source": [
    "# Replace 'someColumn' with the appropriate column that might represent days\n",
    "#total_days = df['someColumn'].nunique()\n",
    "total_days =31\n",
    "\n",
    "# Calculate average products sold per day\n",
    "datawithcategory['avg_products_per_day'] = round(datawithcategory['boughtInLastMonth'] / total_days).astype(int)\n",
    "\n"
   ]
  },
  {
   "cell_type": "code",
   "execution_count": null,
   "metadata": {},
   "outputs": [],
   "source": []
  },
  {
   "cell_type": "code",
   "execution_count": 149,
   "metadata": {},
   "outputs": [
    {
     "data": {
      "text/plain": [
       "(166649, 13)"
      ]
     },
     "execution_count": 149,
     "metadata": {},
     "output_type": "execute_result"
    }
   ],
   "source": [
    "datawithcategory.shape"
   ]
  },
  {
   "cell_type": "code",
   "execution_count": 150,
   "metadata": {},
   "outputs": [
    {
     "name": "stdout",
     "output_type": "stream",
     "text": [
      "<class 'pandas.core.frame.DataFrame'>\n",
      "RangeIndex: 166649 entries, 0 to 166648\n",
      "Data columns (total 13 columns):\n",
      " #   Column                Non-Null Count   Dtype  \n",
      "---  ------                --------------   -----  \n",
      " 0   asin                  166649 non-null  object \n",
      " 1   title                 166649 non-null  object \n",
      " 2   imgUrl                166649 non-null  object \n",
      " 3   productURL            166649 non-null  object \n",
      " 4   stars                 166649 non-null  float64\n",
      " 5   reviews               166649 non-null  int64  \n",
      " 6   price                 166649 non-null  float64\n",
      " 7   listPrice             166649 non-null  float64\n",
      " 8   categoryName          166649 non-null  object \n",
      " 9   isBestSeller          166649 non-null  bool   \n",
      " 10  boughtInLastMonth     166649 non-null  int64  \n",
      " 11  mainCategory          146634 non-null  object \n",
      " 12  avg_products_per_day  166649 non-null  int64  \n",
      "dtypes: bool(1), float64(3), int64(3), object(6)\n",
      "memory usage: 15.4+ MB\n"
     ]
    }
   ],
   "source": [
    "datawithcategory.info()"
   ]
  },
  {
   "cell_type": "code",
   "execution_count": 151,
   "metadata": {},
   "outputs": [
    {
     "data": {
      "text/html": [
       "<div>\n",
       "<style scoped>\n",
       "    .dataframe tbody tr th:only-of-type {\n",
       "        vertical-align: middle;\n",
       "    }\n",
       "\n",
       "    .dataframe tbody tr th {\n",
       "        vertical-align: top;\n",
       "    }\n",
       "\n",
       "    .dataframe thead th {\n",
       "        text-align: right;\n",
       "    }\n",
       "</style>\n",
       "<table border=\"1\" class=\"dataframe\">\n",
       "  <thead>\n",
       "    <tr style=\"text-align: right;\">\n",
       "      <th></th>\n",
       "      <th>stars</th>\n",
       "      <th>reviews</th>\n",
       "      <th>price</th>\n",
       "      <th>listPrice</th>\n",
       "      <th>boughtInLastMonth</th>\n",
       "      <th>avg_products_per_day</th>\n",
       "    </tr>\n",
       "  </thead>\n",
       "  <tbody>\n",
       "    <tr>\n",
       "      <th>count</th>\n",
       "      <td>166649.000000</td>\n",
       "      <td>166649.000000</td>\n",
       "      <td>166649.000000</td>\n",
       "      <td>166649.000000</td>\n",
       "      <td>166649.000000</td>\n",
       "      <td>166649.000000</td>\n",
       "    </tr>\n",
       "    <tr>\n",
       "      <th>mean</th>\n",
       "      <td>4.059658</td>\n",
       "      <td>1538.714268</td>\n",
       "      <td>50.421619</td>\n",
       "      <td>60.453717</td>\n",
       "      <td>32.154708</td>\n",
       "      <td>1.047573</td>\n",
       "    </tr>\n",
       "    <tr>\n",
       "      <th>std</th>\n",
       "      <td>1.095613</td>\n",
       "      <td>8205.360235</td>\n",
       "      <td>76.992933</td>\n",
       "      <td>90.567272</td>\n",
       "      <td>215.280538</td>\n",
       "      <td>6.946579</td>\n",
       "    </tr>\n",
       "    <tr>\n",
       "      <th>min</th>\n",
       "      <td>0.000000</td>\n",
       "      <td>0.000000</td>\n",
       "      <td>0.010000</td>\n",
       "      <td>1.690000</td>\n",
       "      <td>0.000000</td>\n",
       "      <td>0.000000</td>\n",
       "    </tr>\n",
       "    <tr>\n",
       "      <th>25%</th>\n",
       "      <td>4.000000</td>\n",
       "      <td>15.000000</td>\n",
       "      <td>15.990000</td>\n",
       "      <td>19.680000</td>\n",
       "      <td>0.000000</td>\n",
       "      <td>0.000000</td>\n",
       "    </tr>\n",
       "    <tr>\n",
       "      <th>50%</th>\n",
       "      <td>4.400000</td>\n",
       "      <td>117.000000</td>\n",
       "      <td>25.950000</td>\n",
       "      <td>30.990000</td>\n",
       "      <td>0.000000</td>\n",
       "      <td>0.000000</td>\n",
       "    </tr>\n",
       "    <tr>\n",
       "      <th>75%</th>\n",
       "      <td>4.600000</td>\n",
       "      <td>718.000000</td>\n",
       "      <td>49.950000</td>\n",
       "      <td>59.980000</td>\n",
       "      <td>0.000000</td>\n",
       "      <td>0.000000</td>\n",
       "    </tr>\n",
       "    <tr>\n",
       "      <th>max</th>\n",
       "      <td>5.000000</td>\n",
       "      <td>868865.000000</td>\n",
       "      <td>950.000000</td>\n",
       "      <td>999.990000</td>\n",
       "      <td>20000.000000</td>\n",
       "      <td>645.000000</td>\n",
       "    </tr>\n",
       "  </tbody>\n",
       "</table>\n",
       "</div>"
      ],
      "text/plain": [
       "               stars        reviews          price      listPrice  \\\n",
       "count  166649.000000  166649.000000  166649.000000  166649.000000   \n",
       "mean        4.059658    1538.714268      50.421619      60.453717   \n",
       "std         1.095613    8205.360235      76.992933      90.567272   \n",
       "min         0.000000       0.000000       0.010000       1.690000   \n",
       "25%         4.000000      15.000000      15.990000      19.680000   \n",
       "50%         4.400000     117.000000      25.950000      30.990000   \n",
       "75%         4.600000     718.000000      49.950000      59.980000   \n",
       "max         5.000000  868865.000000     950.000000     999.990000   \n",
       "\n",
       "       boughtInLastMonth  avg_products_per_day  \n",
       "count      166649.000000         166649.000000  \n",
       "mean           32.154708              1.047573  \n",
       "std           215.280538              6.946579  \n",
       "min             0.000000              0.000000  \n",
       "25%             0.000000              0.000000  \n",
       "50%             0.000000              0.000000  \n",
       "75%             0.000000              0.000000  \n",
       "max         20000.000000            645.000000  "
      ]
     },
     "execution_count": 151,
     "metadata": {},
     "output_type": "execute_result"
    }
   ],
   "source": [
    "datawithcategory.describe()"
   ]
  },
  {
   "cell_type": "code",
   "execution_count": 152,
   "metadata": {},
   "outputs": [
    {
     "data": {
      "text/html": [
       "<div>\n",
       "<style scoped>\n",
       "    .dataframe tbody tr th:only-of-type {\n",
       "        vertical-align: middle;\n",
       "    }\n",
       "\n",
       "    .dataframe tbody tr th {\n",
       "        vertical-align: top;\n",
       "    }\n",
       "\n",
       "    .dataframe thead th {\n",
       "        text-align: right;\n",
       "    }\n",
       "</style>\n",
       "<table border=\"1\" class=\"dataframe\">\n",
       "  <thead>\n",
       "    <tr style=\"text-align: right;\">\n",
       "      <th></th>\n",
       "      <th>asin</th>\n",
       "      <th>title</th>\n",
       "      <th>imgUrl</th>\n",
       "      <th>productURL</th>\n",
       "      <th>stars</th>\n",
       "      <th>reviews</th>\n",
       "      <th>price</th>\n",
       "      <th>listPrice</th>\n",
       "      <th>categoryName</th>\n",
       "      <th>isBestSeller</th>\n",
       "      <th>boughtInLastMonth</th>\n",
       "      <th>mainCategory</th>\n",
       "      <th>avg_products_per_day</th>\n",
       "    </tr>\n",
       "  </thead>\n",
       "  <tbody>\n",
       "    <tr>\n",
       "      <th>18</th>\n",
       "      <td>B0BLCB57TT</td>\n",
       "      <td>Foam Only 1 pair used earplug you will get.</td>\n",
       "      <td>https://m.media-amazon.com/images/I/31ktXCXORs...</td>\n",
       "      <td>https://www.amazon.ca/dp/B0BLCB57TT</td>\n",
       "      <td>4.1</td>\n",
       "      <td>149</td>\n",
       "      <td>10.99</td>\n",
       "      <td>13.99</td>\n",
       "      <td>Industrial  Scientific</td>\n",
       "      <td>False</td>\n",
       "      <td>200</td>\n",
       "      <td>Hardware &amp; Tools</td>\n",
       "      <td>6</td>\n",
       "    </tr>\n",
       "    <tr>\n",
       "      <th>47</th>\n",
       "      <td>B07QLTDQ3W</td>\n",
       "      <td>CRAFTSMAN 20 Oz Hammer, Alloy Steel Smooth Hea...</td>\n",
       "      <td>https://m.media-amazon.com/images/I/415wp45Zcd...</td>\n",
       "      <td>https://www.amazon.ca/dp/B07QLTDQ3W</td>\n",
       "      <td>4.7</td>\n",
       "      <td>763</td>\n",
       "      <td>19.99</td>\n",
       "      <td>36.99</td>\n",
       "      <td>Industrial  Scientific</td>\n",
       "      <td>False</td>\n",
       "      <td>200</td>\n",
       "      <td>Hardware &amp; Tools</td>\n",
       "      <td>6</td>\n",
       "    </tr>\n",
       "    <tr>\n",
       "      <th>641</th>\n",
       "      <td>B008BV7NN2</td>\n",
       "      <td>WD-40 Multi-Use Product 155g Can - Drives Out ...</td>\n",
       "      <td>https://m.media-amazon.com/images/I/812FMoXbZ9...</td>\n",
       "      <td>https://www.amazon.ca/dp/B008BV7NN2</td>\n",
       "      <td>4.7</td>\n",
       "      <td>215</td>\n",
       "      <td>5.98</td>\n",
       "      <td>6.99</td>\n",
       "      <td>Motorcycle Accessories  Parts</td>\n",
       "      <td>True</td>\n",
       "      <td>900</td>\n",
       "      <td>Automotive</td>\n",
       "      <td>29</td>\n",
       "    </tr>\n",
       "    <tr>\n",
       "      <th>642</th>\n",
       "      <td>B071DQSZB8</td>\n",
       "      <td>Hydration Bladder, 2L Water Bladder for Hiking...</td>\n",
       "      <td>https://m.media-amazon.com/images/I/71qfMx9o+3...</td>\n",
       "      <td>https://www.amazon.ca/dp/B071DQSZB8</td>\n",
       "      <td>4.3</td>\n",
       "      <td>17381</td>\n",
       "      <td>12.99</td>\n",
       "      <td>16.79</td>\n",
       "      <td>Motorcycle Accessories  Parts</td>\n",
       "      <td>True</td>\n",
       "      <td>900</td>\n",
       "      <td>Automotive</td>\n",
       "      <td>29</td>\n",
       "    </tr>\n",
       "    <tr>\n",
       "      <th>643</th>\n",
       "      <td>B0CJF4ZT4G</td>\n",
       "      <td>2pcs Bikenda Electromagnetic Molecular Interfe...</td>\n",
       "      <td>https://m.media-amazon.com/images/I/71Nar5MW-V...</td>\n",
       "      <td>https://www.amazon.ca/dp/B0CJF4ZT4G</td>\n",
       "      <td>5.0</td>\n",
       "      <td>1</td>\n",
       "      <td>21.69</td>\n",
       "      <td>35.91</td>\n",
       "      <td>Motorcycle Accessories  Parts</td>\n",
       "      <td>True</td>\n",
       "      <td>200</td>\n",
       "      <td>Automotive</td>\n",
       "      <td>6</td>\n",
       "    </tr>\n",
       "    <tr>\n",
       "      <th>...</th>\n",
       "      <td>...</td>\n",
       "      <td>...</td>\n",
       "      <td>...</td>\n",
       "      <td>...</td>\n",
       "      <td>...</td>\n",
       "      <td>...</td>\n",
       "      <td>...</td>\n",
       "      <td>...</td>\n",
       "      <td>...</td>\n",
       "      <td>...</td>\n",
       "      <td>...</td>\n",
       "      <td>...</td>\n",
       "      <td>...</td>\n",
       "    </tr>\n",
       "    <tr>\n",
       "      <th>164071</th>\n",
       "      <td>B07C1D578J</td>\n",
       "      <td>BioSteel 100% Whey Protein Powder, rBGH Hormon...</td>\n",
       "      <td>https://m.media-amazon.com/images/I/71JlTd1Kg3...</td>\n",
       "      <td>https://www.amazon.ca/dp/B07C1D578J</td>\n",
       "      <td>4.2</td>\n",
       "      <td>1084</td>\n",
       "      <td>41.56</td>\n",
       "      <td>49.99</td>\n",
       "      <td>Vitamins, Minerals  Supplements</td>\n",
       "      <td>False</td>\n",
       "      <td>500</td>\n",
       "      <td>NaN</td>\n",
       "      <td>16</td>\n",
       "    </tr>\n",
       "    <tr>\n",
       "      <th>164072</th>\n",
       "      <td>B005TYMZTQ</td>\n",
       "      <td>ALLMAX Isoflex Vanilla, 5 Pound</td>\n",
       "      <td>https://m.media-amazon.com/images/I/61k6KdITSj...</td>\n",
       "      <td>https://www.amazon.ca/dp/B005TYMZTQ</td>\n",
       "      <td>4.4</td>\n",
       "      <td>3455</td>\n",
       "      <td>87.99</td>\n",
       "      <td>93.99</td>\n",
       "      <td>Vitamins, Minerals  Supplements</td>\n",
       "      <td>False</td>\n",
       "      <td>400</td>\n",
       "      <td>NaN</td>\n",
       "      <td>13</td>\n",
       "    </tr>\n",
       "    <tr>\n",
       "      <th>164073</th>\n",
       "      <td>B001181M16</td>\n",
       "      <td>EFX Sports Kre-Alkalyn | PH-Correct Creatine M...</td>\n",
       "      <td>https://m.media-amazon.com/images/I/61ObTuusVF...</td>\n",
       "      <td>https://www.amazon.ca/dp/B001181M16</td>\n",
       "      <td>4.4</td>\n",
       "      <td>2506</td>\n",
       "      <td>37.99</td>\n",
       "      <td>39.99</td>\n",
       "      <td>Vitamins, Minerals  Supplements</td>\n",
       "      <td>False</td>\n",
       "      <td>400</td>\n",
       "      <td>NaN</td>\n",
       "      <td>13</td>\n",
       "    </tr>\n",
       "    <tr>\n",
       "      <th>164074</th>\n",
       "      <td>B09Y2LJ7PK</td>\n",
       "      <td>LEANFIT Sport Grass-Fed 100% WHEY ISOLATE Prot...</td>\n",
       "      <td>https://m.media-amazon.com/images/I/71hWKkcVdq...</td>\n",
       "      <td>https://www.amazon.ca/dp/B09Y2LJ7PK</td>\n",
       "      <td>4.1</td>\n",
       "      <td>112</td>\n",
       "      <td>66.66</td>\n",
       "      <td>69.99</td>\n",
       "      <td>Vitamins, Minerals  Supplements</td>\n",
       "      <td>False</td>\n",
       "      <td>200</td>\n",
       "      <td>NaN</td>\n",
       "      <td>6</td>\n",
       "    </tr>\n",
       "    <tr>\n",
       "      <th>164112</th>\n",
       "      <td>B01475W8DU</td>\n",
       "      <td>SISU U-Cubes Multivitamin 120 Gummies (Pack of 1)</td>\n",
       "      <td>https://m.media-amazon.com/images/I/61WmCwxptd...</td>\n",
       "      <td>https://www.amazon.ca/dp/B01475W8DU</td>\n",
       "      <td>4.7</td>\n",
       "      <td>162</td>\n",
       "      <td>22.39</td>\n",
       "      <td>27.95</td>\n",
       "      <td>Vitamins, Minerals  Supplements</td>\n",
       "      <td>False</td>\n",
       "      <td>200</td>\n",
       "      <td>NaN</td>\n",
       "      <td>6</td>\n",
       "    </tr>\n",
       "  </tbody>\n",
       "</table>\n",
       "<p>7152 rows × 13 columns</p>\n",
       "</div>"
      ],
      "text/plain": [
       "              asin                                              title  \\\n",
       "18      B0BLCB57TT        Foam Only 1 pair used earplug you will get.   \n",
       "47      B07QLTDQ3W  CRAFTSMAN 20 Oz Hammer, Alloy Steel Smooth Hea...   \n",
       "641     B008BV7NN2  WD-40 Multi-Use Product 155g Can - Drives Out ...   \n",
       "642     B071DQSZB8  Hydration Bladder, 2L Water Bladder for Hiking...   \n",
       "643     B0CJF4ZT4G  2pcs Bikenda Electromagnetic Molecular Interfe...   \n",
       "...            ...                                                ...   \n",
       "164071  B07C1D578J  BioSteel 100% Whey Protein Powder, rBGH Hormon...   \n",
       "164072  B005TYMZTQ                    ALLMAX Isoflex Vanilla, 5 Pound   \n",
       "164073  B001181M16  EFX Sports Kre-Alkalyn | PH-Correct Creatine M...   \n",
       "164074  B09Y2LJ7PK  LEANFIT Sport Grass-Fed 100% WHEY ISOLATE Prot...   \n",
       "164112  B01475W8DU  SISU U-Cubes Multivitamin 120 Gummies (Pack of 1)   \n",
       "\n",
       "                                                   imgUrl  \\\n",
       "18      https://m.media-amazon.com/images/I/31ktXCXORs...   \n",
       "47      https://m.media-amazon.com/images/I/415wp45Zcd...   \n",
       "641     https://m.media-amazon.com/images/I/812FMoXbZ9...   \n",
       "642     https://m.media-amazon.com/images/I/71qfMx9o+3...   \n",
       "643     https://m.media-amazon.com/images/I/71Nar5MW-V...   \n",
       "...                                                   ...   \n",
       "164071  https://m.media-amazon.com/images/I/71JlTd1Kg3...   \n",
       "164072  https://m.media-amazon.com/images/I/61k6KdITSj...   \n",
       "164073  https://m.media-amazon.com/images/I/61ObTuusVF...   \n",
       "164074  https://m.media-amazon.com/images/I/71hWKkcVdq...   \n",
       "164112  https://m.media-amazon.com/images/I/61WmCwxptd...   \n",
       "\n",
       "                                 productURL  stars  reviews  price  listPrice  \\\n",
       "18      https://www.amazon.ca/dp/B0BLCB57TT    4.1      149  10.99      13.99   \n",
       "47      https://www.amazon.ca/dp/B07QLTDQ3W    4.7      763  19.99      36.99   \n",
       "641     https://www.amazon.ca/dp/B008BV7NN2    4.7      215   5.98       6.99   \n",
       "642     https://www.amazon.ca/dp/B071DQSZB8    4.3    17381  12.99      16.79   \n",
       "643     https://www.amazon.ca/dp/B0CJF4ZT4G    5.0        1  21.69      35.91   \n",
       "...                                     ...    ...      ...    ...        ...   \n",
       "164071  https://www.amazon.ca/dp/B07C1D578J    4.2     1084  41.56      49.99   \n",
       "164072  https://www.amazon.ca/dp/B005TYMZTQ    4.4     3455  87.99      93.99   \n",
       "164073  https://www.amazon.ca/dp/B001181M16    4.4     2506  37.99      39.99   \n",
       "164074  https://www.amazon.ca/dp/B09Y2LJ7PK    4.1      112  66.66      69.99   \n",
       "164112  https://www.amazon.ca/dp/B01475W8DU    4.7      162  22.39      27.95   \n",
       "\n",
       "                           categoryName  isBestSeller  boughtInLastMonth  \\\n",
       "18               Industrial  Scientific         False                200   \n",
       "47               Industrial  Scientific         False                200   \n",
       "641       Motorcycle Accessories  Parts          True                900   \n",
       "642       Motorcycle Accessories  Parts          True                900   \n",
       "643       Motorcycle Accessories  Parts          True                200   \n",
       "...                                 ...           ...                ...   \n",
       "164071  Vitamins, Minerals  Supplements         False                500   \n",
       "164072  Vitamins, Minerals  Supplements         False                400   \n",
       "164073  Vitamins, Minerals  Supplements         False                400   \n",
       "164074  Vitamins, Minerals  Supplements         False                200   \n",
       "164112  Vitamins, Minerals  Supplements         False                200   \n",
       "\n",
       "            mainCategory  avg_products_per_day  \n",
       "18      Hardware & Tools                     6  \n",
       "47      Hardware & Tools                     6  \n",
       "641           Automotive                    29  \n",
       "642           Automotive                    29  \n",
       "643           Automotive                     6  \n",
       "...                  ...                   ...  \n",
       "164071               NaN                    16  \n",
       "164072               NaN                    13  \n",
       "164073               NaN                    13  \n",
       "164074               NaN                     6  \n",
       "164112               NaN                     6  \n",
       "\n",
       "[7152 rows x 13 columns]"
      ]
     },
     "execution_count": 152,
     "metadata": {},
     "output_type": "execute_result"
    }
   ],
   "source": [
    "result=datawithcategory[datawithcategory['boughtInLastMonth']>100]\n",
    "result"
   ]
  },
  {
   "cell_type": "code",
   "execution_count": 215,
   "metadata": {},
   "outputs": [
    {
     "name": "stdout",
     "output_type": "stream",
     "text": [
      "Main Category: Hardware & Tools\n",
      "\n",
      "Lowest Priced Product in Hardware & Tools - Safety 1st HS2700300 OutSmart Multi-Use Lock, White\n",
      "Price: 4.97 CAD\n",
      "Rating: 4.6 stars\n",
      "Reviews: 1791 reviews\n",
      "Discount: 44.72%\n",
      "second Discount: 44.72%\n"
     ]
    },
    {
     "data": {
      "text/html": [
       "<img src=\"https://m.media-amazon.com/images/I/41mgCmeaq8L._AC_UL320_.jpg\" width=\"200\" class=\"unconfined\"/>"
      ],
      "text/plain": [
       "<IPython.core.display.Image object>"
      ]
     },
     "metadata": {},
     "output_type": "display_data"
    },
    {
     "name": "stdout",
     "output_type": "stream",
     "text": [
      "--------------------------------------------------\n",
      "Highest Priced Product in Hardware & Tools - DEWALT 20V MAX* Portable Band Saw, Deep Cut, Tool Only (DCS374B)\n",
      "Price: 399.0 CAD\n",
      "Rating: 4.8 stars\n",
      "Reviews: 1336 reviews\n",
      "Discount: 23.12%\n",
      "second Discount: 23.12%\n"
     ]
    },
    {
     "data": {
      "text/html": [
       "<img src=\"https://m.media-amazon.com/images/I/71Gp5A9PnpL._AC_UL320_.jpg\" width=\"200\" class=\"unconfined\"/>"
      ],
      "text/plain": [
       "<IPython.core.display.Image object>"
      ]
     },
     "metadata": {},
     "output_type": "display_data"
    },
    {
     "name": "stdout",
     "output_type": "stream",
     "text": [
      "--------------------------------------------------\n",
      "Product with Highest Discount in Hardware & Tools - DEWALT Miter Saw, Double-Bevel, Compound, 12-Inch, 15-Amp (DWS716)\n",
      "Price: 399.0 CAD\n",
      "Rating: 4.7 stars\n",
      "Reviews: 339 reviews\n",
      "Discount: 32.26%\n",
      "second Discount: 32.26%\n"
     ]
    },
    {
     "data": {
      "text/html": [
       "<img src=\"https://m.media-amazon.com/images/I/61pP5Sq9mfS._AC_UL320_.jpg\" width=\"200\" class=\"unconfined\"/>"
      ],
      "text/plain": [
       "<IPython.core.display.Image object>"
      ]
     },
     "metadata": {},
     "output_type": "display_data"
    },
    {
     "name": "stdout",
     "output_type": "stream",
     "text": [
      "--------------------------------------------------\n",
      "Main Category: Automotive\n",
      "\n",
      "Lowest Priced Product in Automotive - 8pcs Screw Rotor Brake Disc Retaining 93600-06014-0H - Set is Best Replacement for Honda, Acura, Hyundai, Kia, Mazda - Front and Rear Stainless Steel Retaining Screws by Automajor\n",
      "Price: 4.99 CAD\n",
      "Rating: 4.4 stars\n",
      "Reviews: 708 reviews\n",
      "Discount: 33.56%\n",
      "second Discount: 33.56%\n"
     ]
    },
    {
     "data": {
      "text/html": [
       "<img src=\"https://m.media-amazon.com/images/I/71T0m0x4sgL._AC_UL320_.jpg\" width=\"200\" class=\"unconfined\"/>"
      ],
      "text/plain": [
       "<IPython.core.display.Image object>"
      ]
     },
     "metadata": {},
     "output_type": "display_data"
    },
    {
     "name": "stdout",
     "output_type": "stream",
     "text": [
      "--------------------------------------------------\n",
      "Highest Priced Product in Automotive - LiTime 12V 100Ah MINI LiFePO4 Lithium Battery, Upgraded 100A BMS, 10-Year Lifespan with Up to 15000 Cycles, Max. 1280Wh Energy LiFePO4 Battery in Small Size, Perfect for RV, Solar, Trolling Motor\n",
      "Price: 449.99 CAD\n",
      "Rating: 4.7 stars\n",
      "Reviews: 2785 reviews\n",
      "Discount: 10.0%\n",
      "second Discount: 10.0%\n"
     ]
    },
    {
     "data": {
      "text/html": [
       "<img src=\"https://m.media-amazon.com/images/I/61w55sK8H6L._AC_UL320_.jpg\" width=\"200\" class=\"unconfined\"/>"
      ],
      "text/plain": [
       "<IPython.core.display.Image object>"
      ]
     },
     "metadata": {},
     "output_type": "display_data"
    },
    {
     "name": "stdout",
     "output_type": "stream",
     "text": [
      "--------------------------------------------------\n",
      "Product with Highest Discount in Automotive - G-PLUS Fender Flares, Compatible with 2007-2013 Chevy Silverado 1500/2007-2014 Silverado 2500HD 3500HD, 78.0\"/97.6\" Long Bed(for Regular Cab and Extended Cab), Textured Rivet 4pcs\n",
      "Price: 250.74 CAD\n",
      "Rating: 4.0 stars\n",
      "Reviews: 1130 reviews\n",
      "Discount: 23.23%\n",
      "second Discount: 23.23%\n"
     ]
    },
    {
     "data": {
      "text/html": [
       "<img src=\"https://m.media-amazon.com/images/I/51nzIvbdK4L._AC_UL320_.jpg\" width=\"200\" class=\"unconfined\"/>"
      ],
      "text/plain": [
       "<IPython.core.display.Image object>"
      ]
     },
     "metadata": {},
     "output_type": "display_data"
    },
    {
     "name": "stdout",
     "output_type": "stream",
     "text": [
      "--------------------------------------------------\n",
      "Main Category: Home & Kitchen\n",
      "\n",
      "Lowest Priced Product in Home & Kitchen - Dawn Ultra Dish Soap, EZ-Squeeze Dishwashing Liquid, Original Scent, 650 mL\n",
      "Price: 3.97 CAD\n",
      "Rating: 4.8 stars\n",
      "Reviews: 1442 reviews\n",
      "Discount: 20.44%\n",
      "second Discount: 20.44%\n"
     ]
    },
    {
     "data": {
      "text/html": [
       "<img src=\"https://m.media-amazon.com/images/I/71zBZnQJiBL._AC_UL320_.jpg\" width=\"200\" class=\"unconfined\"/>"
      ],
      "text/plain": [
       "<IPython.core.display.Image object>"
      ]
     },
     "metadata": {},
     "output_type": "display_data"
    },
    {
     "name": "stdout",
     "output_type": "stream",
     "text": [
      "--------------------------------------------------\n",
      "Highest Priced Product in Home & Kitchen - Breville Barista Express Espresso Machine, Brushed Stainless Steel, BES870XL\n",
      "Price: 799.97 CAD\n",
      "Rating: 4.5 stars\n",
      "Reviews: 22226 reviews\n",
      "Discount: 20.0%\n",
      "second Discount: 20.0%\n"
     ]
    },
    {
     "data": {
      "text/html": [
       "<img src=\"https://m.media-amazon.com/images/I/71BvCt6eAFL._AC_UY218_.jpg\" width=\"200\" class=\"unconfined\"/>"
      ],
      "text/plain": [
       "<IPython.core.display.Image object>"
      ]
     },
     "metadata": {},
     "output_type": "display_data"
    },
    {
     "name": "stdout",
     "output_type": "stream",
     "text": [
      "--------------------------------------------------\n",
      "Product with Highest Discount in Home & Kitchen - Breville Barista Express Espresso Machine, Brushed Stainless Steel, BES870XL\n",
      "Price: 799.97 CAD\n",
      "Rating: 4.5 stars\n",
      "Reviews: 22226 reviews\n",
      "Discount: 20.0%\n",
      "second Discount: 20.0%\n"
     ]
    },
    {
     "data": {
      "text/html": [
       "<img src=\"https://m.media-amazon.com/images/I/71BvCt6eAFL._AC_UY218_.jpg\" width=\"200\" class=\"unconfined\"/>"
      ],
      "text/plain": [
       "<IPython.core.display.Image object>"
      ]
     },
     "metadata": {},
     "output_type": "display_data"
    },
    {
     "name": "stdout",
     "output_type": "stream",
     "text": [
      "--------------------------------------------------\n",
      "Main Category: Arts & Crafts\n",
      "\n",
      "Lowest Priced Product in Arts & Crafts - Crayola 10 59ml Paint Jars Assorted Classic Colours Arts & Crafts\n",
      "Price: 6.97 CAD\n",
      "Rating: 4.7 stars\n",
      "Reviews: 6721 reviews\n",
      "Discount: 22.38%\n",
      "second Discount: 22.38%\n"
     ]
    },
    {
     "data": {
      "text/html": [
       "<img src=\"https://m.media-amazon.com/images/I/71cgC-s1jZL._AC_UL320_.jpg\" width=\"200\" class=\"unconfined\"/>"
      ],
      "text/plain": [
       "<IPython.core.display.Image object>"
      ]
     },
     "metadata": {},
     "output_type": "display_data"
    },
    {
     "name": "stdout",
     "output_type": "stream",
     "text": [
      "--------------------------------------------------\n",
      "Highest Priced Product in Arts & Crafts - Melissa and Doug Deluxe Double-Sided Tabletop Easel (Arts and Crafts, Sturdy Wooden Construction, 42 Pieces, 44.45 cm H x 52.705 cm W x 6.985 cm L)\n",
      "Price: 56.24 CAD\n",
      "Rating: 4.6 stars\n",
      "Reviews: 6554 reviews\n",
      "Discount: 24.42%\n",
      "second Discount: 24.42%\n"
     ]
    },
    {
     "data": {
      "text/html": [
       "<img src=\"https://m.media-amazon.com/images/I/81GDJ5jBxTL._AC_UL320_.jpg\" width=\"200\" class=\"unconfined\"/>"
      ],
      "text/plain": [
       "<IPython.core.display.Image object>"
      ]
     },
     "metadata": {},
     "output_type": "display_data"
    },
    {
     "name": "stdout",
     "output_type": "stream",
     "text": [
      "--------------------------------------------------\n",
      "Product with Highest Discount in Arts & Crafts - Melissa and Doug Deluxe Double-Sided Tabletop Easel (Arts and Crafts, Sturdy Wooden Construction, 42 Pieces, 44.45 cm H x 52.705 cm W x 6.985 cm L)\n",
      "Price: 56.24 CAD\n",
      "Rating: 4.6 stars\n",
      "Reviews: 6554 reviews\n",
      "Discount: 24.42%\n",
      "second Discount: 24.42%\n"
     ]
    },
    {
     "data": {
      "text/html": [
       "<img src=\"https://m.media-amazon.com/images/I/81GDJ5jBxTL._AC_UL320_.jpg\" width=\"200\" class=\"unconfined\"/>"
      ],
      "text/plain": [
       "<IPython.core.display.Image object>"
      ]
     },
     "metadata": {},
     "output_type": "display_data"
    },
    {
     "name": "stdout",
     "output_type": "stream",
     "text": [
      "--------------------------------------------------\n",
      "Main Category: Fashion\n",
      "\n",
      "Lowest Priced Product in Fashion - Dr. Scholl's ULTRA AIR-PILLO Insoles. Cushioning Molds to Your Foot and Absorbs Shock for All-Day Comfort (One Size fits Men's 7-13 & Women's 5-10)\n",
      "Price: 4.77 CAD\n",
      "Rating: 4.3 stars\n",
      "Reviews: 421 reviews\n",
      "Discount: 23.43%\n",
      "second Discount: 23.43%\n"
     ]
    },
    {
     "data": {
      "text/html": [
       "<img src=\"https://m.media-amazon.com/images/I/71v-ugDskTL._AC_UL320_.jpg\" width=\"200\" class=\"unconfined\"/>"
      ],
      "text/plain": [
       "<IPython.core.display.Image object>"
      ]
     },
     "metadata": {},
     "output_type": "display_data"
    },
    {
     "name": "stdout",
     "output_type": "stream",
     "text": [
      "--------------------------------------------------\n",
      "Highest Priced Product in Fashion - Heated Jacket with 12V Battery Pack Winter Outdoor Soft Shell Electric Heating Coat\n",
      "Price: 189.99 CAD\n",
      "Rating: 4.2 stars\n",
      "Reviews: 7188 reviews\n",
      "Discount: 13.64%\n",
      "second Discount: 13.64%\n"
     ]
    },
    {
     "data": {
      "text/html": [
       "<img src=\"https://m.media-amazon.com/images/I/61jUHqKfJ4L._AC_UL320_.jpg\" width=\"200\" class=\"unconfined\"/>"
      ],
      "text/plain": [
       "<IPython.core.display.Image object>"
      ]
     },
     "metadata": {},
     "output_type": "display_data"
    },
    {
     "name": "stdout",
     "output_type": "stream",
     "text": [
      "--------------------------------------------------\n",
      "Product with Highest Discount in Fashion - Jackets for Women Long Sleeve Open Front Casual Jackets Fashion Fall Oversized Party Cardigan Coat Outerwear\n",
      "Price: 22.29 CAD\n",
      "Rating: 5.0 stars\n",
      "Reviews: 4 reviews\n",
      "Discount: 81.42%\n",
      "second Discount: 81.42%\n"
     ]
    },
    {
     "data": {
      "text/html": [
       "<img src=\"https://m.media-amazon.com/images/I/61OSCl4gqHL._AC_UL320_.jpg\" width=\"200\" class=\"unconfined\"/>"
      ],
      "text/plain": [
       "<IPython.core.display.Image object>"
      ]
     },
     "metadata": {},
     "output_type": "display_data"
    },
    {
     "name": "stdout",
     "output_type": "stream",
     "text": [
      "--------------------------------------------------\n",
      "Main Category: Home & Garden\n",
      "\n",
      "Lowest Priced Product in Home & Garden - TERRO Ant Killer Liquid Baits T300CAN\n",
      "Price: 5.0 CAD\n",
      "Rating: 4.2 stars\n",
      "Reviews: 6601 reviews\n",
      "Discount: 37.34%\n",
      "second Discount: 37.34%\n"
     ]
    },
    {
     "data": {
      "text/html": [
       "<img src=\"https://m.media-amazon.com/images/I/91RyGU7+kNL._AC_UL320_.jpg\" width=\"200\" class=\"unconfined\"/>"
      ],
      "text/plain": [
       "<IPython.core.display.Image object>"
      ]
     },
     "metadata": {},
     "output_type": "display_data"
    },
    {
     "name": "stdout",
     "output_type": "stream",
     "text": [
      "--------------------------------------------------\n",
      "Highest Priced Product in Home & Garden - Giantex Rocking Chair Upholstered Living Room Chair with Padded Back and Seat, Wood Base, Rocking Chair for Nursery (Gray)\n",
      "Price: 399.99 CAD\n",
      "Rating: 4.2 stars\n",
      "Reviews: 110 reviews\n",
      "Discount: 9.09%\n",
      "second Discount: 9.09%\n"
     ]
    },
    {
     "data": {
      "text/html": [
       "<img src=\"https://m.media-amazon.com/images/I/71LU58eG75L._AC_UY218_.jpg\" width=\"200\" class=\"unconfined\"/>"
      ],
      "text/plain": [
       "<IPython.core.display.Image object>"
      ]
     },
     "metadata": {},
     "output_type": "display_data"
    },
    {
     "name": "stdout",
     "output_type": "stream",
     "text": [
      "--------------------------------------------------\n",
      "Product with Highest Discount in Home & Garden - Snow Joe 24V-X2-SB18 18-Inch 48-Volt 4-Ah Cordless Snow Blower, (2 x 4.0Ah Batteries and Charger) Blue\n",
      "Price: 398.0 CAD\n",
      "Rating: 3.8 stars\n",
      "Reviews: 4288 reviews\n",
      "Discount: 26.57%\n",
      "second Discount: 26.57%\n"
     ]
    },
    {
     "data": {
      "text/html": [
       "<img src=\"https://m.media-amazon.com/images/I/81JAK2+2MrL._AC_UL320_.jpg\" width=\"200\" class=\"unconfined\"/>"
      ],
      "text/plain": [
       "<IPython.core.display.Image object>"
      ]
     },
     "metadata": {},
     "output_type": "display_data"
    },
    {
     "name": "stdout",
     "output_type": "stream",
     "text": [
      "--------------------------------------------------\n",
      "Main Category: Sports & Outdoors\n",
      "\n",
      "Lowest Priced Product in Sports & Outdoors - Super Stroke Golf- 2017 Cross Comfort Standard Grip\n",
      "Price: 4.87 CAD\n",
      "Rating: 4.4 stars\n",
      "Reviews: 654 reviews\n",
      "Discount: 38.9%\n",
      "second Discount: 38.9%\n"
     ]
    },
    {
     "data": {
      "text/html": [
       "<img src=\"https://m.media-amazon.com/images/I/51u+M-YfzLL._AC_UL320_.jpg\" width=\"200\" class=\"unconfined\"/>"
      ],
      "text/plain": [
       "<IPython.core.display.Image object>"
      ]
     },
     "metadata": {},
     "output_type": "display_data"
    },
    {
     "name": "stdout",
     "output_type": "stream",
     "text": [
      "--------------------------------------------------\n",
      "Highest Priced Product in Sports & Outdoors - Shearwater Research Peregrine Dive Computer\n",
      "Price: 636.2 CAD\n",
      "Rating: 4.8 stars\n",
      "Reviews: 256 reviews\n",
      "Discount: 10.24%\n",
      "second Discount: 10.24%\n"
     ]
    },
    {
     "data": {
      "text/html": [
       "<img src=\"https://m.media-amazon.com/images/I/61j15pfCY5L._AC_UL320_.jpg\" width=\"200\" class=\"unconfined\"/>"
      ],
      "text/plain": [
       "<IPython.core.display.Image object>"
      ]
     },
     "metadata": {},
     "output_type": "display_data"
    },
    {
     "name": "stdout",
     "output_type": "stream",
     "text": [
      "--------------------------------------------------\n",
      "Product with Highest Discount in Sports & Outdoors - SWONDER Towable Floater PRO, Watersports Towable Ball with Heavy Duty Full Nylon Cover, 60ft Tow Rope for 1-4 Rider Towable Tubes\n",
      "Price: 69.99 CAD\n",
      "Rating: 4.4 stars\n",
      "Reviews: 31 reviews\n",
      "Discount: 56.25%\n",
      "second Discount: 56.25%\n"
     ]
    },
    {
     "data": {
      "text/html": [
       "<img src=\"https://m.media-amazon.com/images/I/71SZWVo8uBL._AC_UL320_.jpg\" width=\"200\" class=\"unconfined\"/>"
      ],
      "text/plain": [
       "<IPython.core.display.Image object>"
      ]
     },
     "metadata": {},
     "output_type": "display_data"
    },
    {
     "name": "stdout",
     "output_type": "stream",
     "text": [
      "--------------------------------------------------\n",
      "Main Category: Electronics & Tech\n",
      "\n",
      "Lowest Priced Product in Electronics & Tech - M.2 Screw Kit,NVMe Screw m.2 SSD Mounting Kit\n",
      "Price: 6.99 CAD\n",
      "Rating: 4.5 stars\n",
      "Reviews: 7114 reviews\n",
      "Discount: 41.7%\n",
      "second Discount: 41.7%\n"
     ]
    },
    {
     "data": {
      "text/html": [
       "<img src=\"https://m.media-amazon.com/images/I/61k1Bt8SmGL._AC_UL320_.jpg\" width=\"200\" class=\"unconfined\"/>"
      ],
      "text/plain": [
       "<IPython.core.display.Image object>"
      ]
     },
     "metadata": {},
     "output_type": "display_data"
    },
    {
     "name": "stdout",
     "output_type": "stream",
     "text": [
      "--------------------------------------------------\n",
      "Highest Priced Product in Electronics & Tech - All-New Blink Outdoor 4 (4th Gen) + Blink Mini – Smart security camera, two-way talk, HD live view, motion detection, set up in minutes, Works with Alexa – 8 camera system + Mini (black)\n",
      "Price: 894.98 CAD\n",
      "Rating: 3.4 stars\n",
      "Reviews: 41 reviews\n",
      "Discount: 5.29%\n",
      "second Discount: 5.29%\n"
     ]
    },
    {
     "data": {
      "text/html": [
       "<img src=\"https://m.media-amazon.com/images/I/311fJWJGTlL._AC_UL320_.jpg\" width=\"200\" class=\"unconfined\"/>"
      ],
      "text/plain": [
       "<IPython.core.display.Image object>"
      ]
     },
     "metadata": {},
     "output_type": "display_data"
    },
    {
     "name": "stdout",
     "output_type": "stream",
     "text": [
      "--------------------------------------------------\n",
      "Product with Highest Discount in Electronics & Tech - Garmin Edge 1030 Plus, Gps Cycling/bike Computer, On-device Workout Suggestions, Climbpro Pacing Guidance and More\n",
      "Price: 593.4 CAD\n",
      "Rating: 4.7 stars\n",
      "Reviews: 760 reviews\n",
      "Discount: 31.79%\n",
      "second Discount: 31.79%\n"
     ]
    },
    {
     "data": {
      "text/html": [
       "<img src=\"https://m.media-amazon.com/images/I/61xGQa3bfSL._AC_UL320_.jpg\" width=\"200\" class=\"unconfined\"/>"
      ],
      "text/plain": [
       "<IPython.core.display.Image object>"
      ]
     },
     "metadata": {},
     "output_type": "display_data"
    },
    {
     "name": "stdout",
     "output_type": "stream",
     "text": [
      "--------------------------------------------------\n",
      "Main Category: Beauty & Personal Care\n",
      "\n",
      "Lowest Priced Product in Beauty & Personal Care - GUM Proxabrush Go-Betweens Interdental Brushes, Ultra-Tight, Plaque Removal, Red , 8 Count\n",
      "Price: 3.99 CAD\n",
      "Rating: 4.6 stars\n",
      "Reviews: 2913 reviews\n",
      "Discount: 27.32%\n",
      "second Discount: 27.32%\n"
     ]
    },
    {
     "data": {
      "text/html": [
       "<img src=\"https://m.media-amazon.com/images/I/81r-qx6TZ+L._AC_UL320_.jpg\" width=\"200\" class=\"unconfined\"/>"
      ],
      "text/plain": [
       "<IPython.core.display.Image object>"
      ]
     },
     "metadata": {},
     "output_type": "display_data"
    },
    {
     "name": "stdout",
     "output_type": "stream",
     "text": [
      "--------------------------------------------------\n",
      "Highest Priced Product in Beauty & Personal Care - Revlon RVDR5222F One-Step Volumizer and Ionic Hair Dryer with Advanced Ionic Technology, Hot Air Brush, Less Frizz, 3 Heat/ 2 Speed Settings, Black\n",
      "Price: 63.74 CAD\n",
      "Rating: 4.5 stars\n",
      "Reviews: 49838 reviews\n",
      "Discount: 8.93%\n",
      "second Discount: 8.93%\n"
     ]
    },
    {
     "data": {
      "text/html": [
       "<img src=\"https://m.media-amazon.com/images/I/71Uv3VOrCAL._AC_UL320_.jpg\" width=\"200\" class=\"unconfined\"/>"
      ],
      "text/plain": [
       "<IPython.core.display.Image object>"
      ]
     },
     "metadata": {},
     "output_type": "display_data"
    },
    {
     "name": "stdout",
     "output_type": "stream",
     "text": [
      "--------------------------------------------------\n",
      "Product with Highest Discount in Beauty & Personal Care - Under Eye Mask - Reduce Dark Circles, Puffy Eyes, Undereye Bags, Wrinkles - Gel Under Eye Patches, Vegan Cruelty-Free Self Care by grace and stella (24 Pairs, Gold)\n",
      "Price: 25.95 CAD\n",
      "Rating: 4.4 stars\n",
      "Reviews: 17028 reviews\n",
      "Discount: 54.91%\n",
      "second Discount: 54.91%\n"
     ]
    },
    {
     "data": {
      "text/html": [
       "<img src=\"https://m.media-amazon.com/images/I/716aAlijGdL._AC_UL320_.jpg\" width=\"200\" class=\"unconfined\"/>"
      ],
      "text/plain": [
       "<IPython.core.display.Image object>"
      ]
     },
     "metadata": {},
     "output_type": "display_data"
    },
    {
     "name": "stdout",
     "output_type": "stream",
     "text": [
      "--------------------------------------------------\n",
      "Main Category: Travel Essentials\n",
      "\n",
      "Lowest Priced Product in Travel Essentials - Womens RFID Blocking Small Compact Bifold Luxury Genuine Leather Pocket Wallet Ladies Mini Purse with ID Window (01 ReNapa Black)\n",
      "Price: 12.3 CAD\n",
      "Rating: 4.4 stars\n",
      "Reviews: 34553 reviews\n",
      "Discount: 8.82%\n",
      "second Discount: 8.82%\n"
     ]
    },
    {
     "data": {
      "text/html": [
       "<img src=\"https://m.media-amazon.com/images/I/711Gea8W+2L._AC_UL320_.jpg\" width=\"200\" class=\"unconfined\"/>"
      ],
      "text/plain": [
       "<IPython.core.display.Image object>"
      ]
     },
     "metadata": {},
     "output_type": "display_data"
    },
    {
     "name": "stdout",
     "output_type": "stream",
     "text": [
      "--------------------------------------------------\n",
      "Highest Priced Product in Travel Essentials - Luggage Sets Expandable PC+ABS Durable Suitcase Sets Double Wheels TSA Lock 4 Piece Luggage Set Sky Blue\n",
      "Price: 294.49 CAD\n",
      "Rating: 4.5 stars\n",
      "Reviews: 4262 reviews\n",
      "Discount: 10.76%\n",
      "second Discount: 10.76%\n"
     ]
    },
    {
     "data": {
      "text/html": [
       "<img src=\"https://m.media-amazon.com/images/I/71sS1TORdIL._AC_UL320_.jpg\" width=\"200\" class=\"unconfined\"/>"
      ],
      "text/plain": [
       "<IPython.core.display.Image object>"
      ]
     },
     "metadata": {},
     "output_type": "display_data"
    },
    {
     "name": "stdout",
     "output_type": "stream",
     "text": [
      "--------------------------------------------------\n",
      "Product with Highest Discount in Travel Essentials - Unisex-Adult SWISSGEAR 28 inch Hardside Expandable Luggage Luggage- Suitcase\n",
      "Price: 97.24 CAD\n",
      "Rating: 4.5 stars\n",
      "Reviews: 72 reviews\n",
      "Discount: 30.52%\n",
      "second Discount: 30.52%\n"
     ]
    },
    {
     "data": {
      "text/html": [
       "<img src=\"https://m.media-amazon.com/images/I/61I8Lx88WSL._AC_UL320_.jpg\" width=\"200\" class=\"unconfined\"/>"
      ],
      "text/plain": [
       "<IPython.core.display.Image object>"
      ]
     },
     "metadata": {},
     "output_type": "display_data"
    },
    {
     "name": "stdout",
     "output_type": "stream",
     "text": [
      "--------------------------------------------------\n",
      "Main Category: Party & Sationery & Office Supply\n",
      "\n",
      "Lowest Priced Product in Party & Sationery & Office Supply - D'Addario Set Banjo Phos Bronze Med (EJ55)\n",
      "Price: 6.5 CAD\n",
      "Rating: 4.5 stars\n",
      "Reviews: 4618 reviews\n",
      "Discount: 49.96%\n",
      "second Discount: 49.96%\n"
     ]
    },
    {
     "data": {
      "text/html": [
       "<img src=\"https://m.media-amazon.com/images/I/81JKTMaJ6SL._AC_UL320_.jpg\" width=\"200\" class=\"unconfined\"/>"
      ],
      "text/plain": [
       "<IPython.core.display.Image object>"
      ]
     },
     "metadata": {},
     "output_type": "display_data"
    },
    {
     "name": "stdout",
     "output_type": "stream",
     "text": [
      "--------------------------------------------------\n",
      "Highest Priced Product in Party & Sationery & Office Supply - SHW 55-Inch Large Electric Height Adjustable Standing Desk, 140 x 71 cm, Maple\n",
      "Price: 299.87 CAD\n",
      "Rating: 4.5 stars\n",
      "Reviews: 19410 reviews\n",
      "Discount: 9.13%\n",
      "second Discount: 9.13%\n"
     ]
    },
    {
     "data": {
      "text/html": [
       "<img src=\"https://m.media-amazon.com/images/I/71Y8O3ZBq9L._AC_UL320_.jpg\" width=\"200\" class=\"unconfined\"/>"
      ],
      "text/plain": [
       "<IPython.core.display.Image object>"
      ]
     },
     "metadata": {},
     "output_type": "display_data"
    },
    {
     "name": "stdout",
     "output_type": "stream",
     "text": [
      "--------------------------------------------------\n",
      "Product with Highest Discount in Party & Sationery & Office Supply - GERTTRONY Ergonomic Office Chair Chaise Task with Lumbar Support Mesh Computer Flip up Armrests Swivel Executive Desk for Home Conference Room (Black/Black)\n",
      "Price: 98.95 CAD\n",
      "Rating: 4.1 stars\n",
      "Reviews: 734 reviews\n",
      "Discount: 50.52%\n",
      "second Discount: 50.52%\n"
     ]
    },
    {
     "data": {
      "text/html": [
       "<img src=\"https://m.media-amazon.com/images/I/51bB+8xR-jL._AC_UL320_.jpg\" width=\"200\" class=\"unconfined\"/>"
      ],
      "text/plain": [
       "<IPython.core.display.Image object>"
      ]
     },
     "metadata": {},
     "output_type": "display_data"
    },
    {
     "name": "stdout",
     "output_type": "stream",
     "text": [
      "--------------------------------------------------\n",
      "Main Category: Pet Supplies\n",
      "\n",
      "Lowest Priced Product in Pet Supplies - FELINE GREENIES Cat Treats SMARTBITES Healthy Indoor Natural Dental Care, Chicken Flavour, 2.1oz Pouch\n",
      "Price: 2.98 CAD\n",
      "Rating: 4.7 stars\n",
      "Reviews: 6414 reviews\n",
      "Discount: 33.63%\n",
      "second Discount: 33.63%\n"
     ]
    },
    {
     "data": {
      "text/html": [
       "<img src=\"https://m.media-amazon.com/images/I/81MdV+RYCLL._AC_UL320_.jpg\" width=\"200\" class=\"unconfined\"/>"
      ],
      "text/plain": [
       "<IPython.core.display.Image object>"
      ]
     },
     "metadata": {},
     "output_type": "display_data"
    },
    {
     "name": "stdout",
     "output_type": "stream",
     "text": [
      "--------------------------------------------------\n",
      "Highest Priced Product in Pet Supplies - VIVOHOME 53 Inch Wrought Iron Large Bird Cage with Rolling Stand for Parrots Conures Lovebird Cockatiel Parakeets\n",
      "Price: 169.99 CAD\n",
      "Rating: 4.6 stars\n",
      "Reviews: 836 reviews\n",
      "Discount: 15.0%\n",
      "second Discount: 15.0%\n"
     ]
    },
    {
     "data": {
      "text/html": [
       "<img src=\"https://m.media-amazon.com/images/I/713uA9GDRfL._AC_UL320_.jpg\" width=\"200\" class=\"unconfined\"/>"
      ],
      "text/plain": [
       "<IPython.core.display.Image object>"
      ]
     },
     "metadata": {},
     "output_type": "display_data"
    },
    {
     "name": "stdout",
     "output_type": "stream",
     "text": [
      "--------------------------------------------------\n",
      "Product with Highest Discount in Pet Supplies - 44 lb Seiryu Rock Stone for Aquariums, Landscaping Model,Tank Decoration\n",
      "Price: 70.99 CAD\n",
      "Rating: 4.8 stars\n",
      "Reviews: 7 reviews\n",
      "Discount: 41.81%\n",
      "second Discount: 41.81%\n"
     ]
    },
    {
     "data": {
      "text/html": [
       "<img src=\"https://m.media-amazon.com/images/I/912fS3RRMXL._AC_UL320_.jpg\" width=\"200\" class=\"unconfined\"/>"
      ],
      "text/plain": [
       "<IPython.core.display.Image object>"
      ]
     },
     "metadata": {},
     "output_type": "display_data"
    },
    {
     "name": "stdout",
     "output_type": "stream",
     "text": [
      "--------------------------------------------------\n",
      "Main Category: Health & Wellness & Baby Products\n",
      "\n",
      "Lowest Priced Product in Health & Wellness & Baby Products - Baby Gourmet Oatmeal Cereal, 1-Pack\n",
      "Price: 4.47 CAD\n",
      "Rating: 4.6 stars\n",
      "Reviews: 405 reviews\n",
      "Discount: 18.58%\n",
      "second Discount: 18.58%\n"
     ]
    },
    {
     "data": {
      "text/html": [
       "<img src=\"https://m.media-amazon.com/images/I/61UJujuD0mL._AC_UL320_.jpg\" width=\"200\" class=\"unconfined\"/>"
      ],
      "text/plain": [
       "<IPython.core.display.Image object>"
      ]
     },
     "metadata": {},
     "output_type": "display_data"
    },
    {
     "name": "stdout",
     "output_type": "stream",
     "text": [
      "--------------------------------------------------\n",
      "Highest Priced Product in Health & Wellness & Baby Products - Evenflo Revolve360 Slim 2-in-1 Rotational Car Seat - Canton\n",
      "Price: 429.99 CAD\n",
      "Rating: 4.2 stars\n",
      "Reviews: 17 reviews\n",
      "Discount: 28.33%\n",
      "second Discount: 28.33%\n"
     ]
    },
    {
     "data": {
      "text/html": [
       "<img src=\"https://m.media-amazon.com/images/I/714c2LawS9L._AC_UL320_.jpg\" width=\"200\" class=\"unconfined\"/>"
      ],
      "text/plain": [
       "<IPython.core.display.Image object>"
      ]
     },
     "metadata": {},
     "output_type": "display_data"
    },
    {
     "name": "stdout",
     "output_type": "stream",
     "text": [
      "--------------------------------------------------\n",
      "Product with Highest Discount in Health & Wellness & Baby Products - Evenflo Revolve360 Slim 2-in-1 Rotational Car Seat - Canton\n",
      "Price: 429.99 CAD\n",
      "Rating: 4.2 stars\n",
      "Reviews: 17 reviews\n",
      "Discount: 28.33%\n",
      "second Discount: 28.33%\n"
     ]
    },
    {
     "data": {
      "text/html": [
       "<img src=\"https://m.media-amazon.com/images/I/714c2LawS9L._AC_UL320_.jpg\" width=\"200\" class=\"unconfined\"/>"
      ],
      "text/plain": [
       "<IPython.core.display.Image object>"
      ]
     },
     "metadata": {},
     "output_type": "display_data"
    },
    {
     "name": "stdout",
     "output_type": "stream",
     "text": [
      "--------------------------------------------------\n",
      "Main Category: Toys & Games\n",
      "\n",
      "Lowest Priced Product in Toys & Games - Metal Original Slinky in Box, Single Item, Silver\n",
      "Price: 4.99 CAD\n",
      "Rating: 4.1 stars\n",
      "Reviews: 37036 reviews\n",
      "Discount: 16.69%\n",
      "second Discount: 16.69%\n"
     ]
    },
    {
     "data": {
      "text/html": [
       "<img src=\"https://m.media-amazon.com/images/I/91jLIfnfDnL._AC_UL320_.jpg\" width=\"200\" class=\"unconfined\"/>"
      ],
      "text/plain": [
       "<IPython.core.display.Image object>"
      ]
     },
     "metadata": {},
     "output_type": "display_data"
    },
    {
     "name": "stdout",
     "output_type": "stream",
     "text": [
      "--------------------------------------------------\n",
      "Highest Priced Product in Toys & Games - Radio Flyer 3-In-1 EZ Folding, Outdoor Collapsible Wagon for Kids & Cargo, Red\n",
      "Price: 212.47 CAD\n",
      "Rating: 4.6 stars\n",
      "Reviews: 17847 reviews\n",
      "Discount: 15.01%\n",
      "second Discount: 15.01%\n"
     ]
    },
    {
     "data": {
      "text/html": [
       "<img src=\"https://m.media-amazon.com/images/I/81uMtS8WQFS._AC_UL320_.jpg\" width=\"200\" class=\"unconfined\"/>"
      ],
      "text/plain": [
       "<IPython.core.display.Image object>"
      ]
     },
     "metadata": {},
     "output_type": "display_data"
    },
    {
     "name": "stdout",
     "output_type": "stream",
     "text": [
      "--------------------------------------------------\n",
      "Product with Highest Discount in Toys & Games - Puzzle Board with Drawers & Cover Mat - Wooden Jigsaw Puzzle Table for 1000 Pieces - 24”x30” Portable Puzzle Table for Adults & Children - Colorful Puzzle Trays for Sorting - by Puzzle Ready\n",
      "Price: 108.99 CAD\n",
      "Rating: 4.4 stars\n",
      "Reviews: 4630 reviews\n",
      "Discount: 27.34%\n",
      "second Discount: 27.34%\n"
     ]
    },
    {
     "data": {
      "text/html": [
       "<img src=\"https://m.media-amazon.com/images/I/71IlncHSDiL._AC_UL320_.jpg\" width=\"200\" class=\"unconfined\"/>"
      ],
      "text/plain": [
       "<IPython.core.display.Image object>"
      ]
     },
     "metadata": {},
     "output_type": "display_data"
    },
    {
     "name": "stdout",
     "output_type": "stream",
     "text": [
      "--------------------------------------------------\n",
      "Main Category: Grocery\n",
      "\n",
      "Lowest Priced Product in Grocery - Betty Crocker Butter and Herb Mashed Potato, 215 Gram\n",
      "Price: 1.77 CAD\n",
      "Rating: 4.6 stars\n",
      "Reviews: 3115 reviews\n",
      "Discount: 36.1%\n",
      "second Discount: 36.1%\n"
     ]
    },
    {
     "data": {
      "text/html": [
       "<img src=\"https://m.media-amazon.com/images/I/71Lgqr4tcfL._AC_UL320_.jpg\" width=\"200\" class=\"unconfined\"/>"
      ],
      "text/plain": [
       "<IPython.core.display.Image object>"
      ]
     },
     "metadata": {},
     "output_type": "display_data"
    },
    {
     "name": "stdout",
     "output_type": "stream",
     "text": [
      "--------------------------------------------------\n",
      "Highest Priced Product in Grocery - VAHDAM, High Mountain Oolong Tea Leaves From Himalayas - 340g/12oz (170 Cups) High Elevation Grown | Vacuum Sealed | Brew Hot, Iced Or Kombucha Tea | Loose Leaf Tea\n",
      "Price: 39.99 CAD\n",
      "Rating: 4.4 stars\n",
      "Reviews: 9191 reviews\n",
      "Discount: 20.0%\n",
      "second Discount: 20.0%\n"
     ]
    },
    {
     "data": {
      "text/html": [
       "<img src=\"https://m.media-amazon.com/images/I/81kRbpq6IqL._AC_UL320_.jpg\" width=\"200\" class=\"unconfined\"/>"
      ],
      "text/plain": [
       "<IPython.core.display.Image object>"
      ]
     },
     "metadata": {},
     "output_type": "display_data"
    },
    {
     "name": "stdout",
     "output_type": "stream",
     "text": [
      "--------------------------------------------------\n",
      "Product with Highest Discount in Grocery - VAHDAM, High Mountain Oolong Tea Leaves From Himalayas - 340g/12oz (170 Cups) High Elevation Grown | Vacuum Sealed | Brew Hot, Iced Or Kombucha Tea | Loose Leaf Tea\n",
      "Price: 39.99 CAD\n",
      "Rating: 4.4 stars\n",
      "Reviews: 9191 reviews\n",
      "Discount: 20.0%\n",
      "second Discount: 20.0%\n"
     ]
    },
    {
     "data": {
      "text/html": [
       "<img src=\"https://m.media-amazon.com/images/I/81kRbpq6IqL._AC_UL320_.jpg\" width=\"200\" class=\"unconfined\"/>"
      ],
      "text/plain": [
       "<IPython.core.display.Image object>"
      ]
     },
     "metadata": {},
     "output_type": "display_data"
    },
    {
     "name": "stdout",
     "output_type": "stream",
     "text": [
      "--------------------------------------------------\n"
     ]
    }
   ],
   "source": [
    "from IPython.display import display, HTML, Image\n",
    "best_sellers['discount_amount'] = best_sellers['listPrice'] - best_sellers['price']\n",
    "\n",
    "def display_images(main_category, df, label):\n",
    "    for index, row in df.iterrows():\n",
    "        print(f\"{label} in {main_category} - {row['title']}\")\n",
    "        print(f\"Price: {row['price']} CAD\")\n",
    "        print(f\"Rating: {row['stars']} stars\")\n",
    "        print(f\"Reviews: {row['reviews']} reviews\")\n",
    "        if row['listPrice'] > 0:\n",
    "            print(f\"Discount: {round((row['listPrice'] - row['price']) / row['listPrice'] * 100, 2)}%\")\n",
    "            print(f\"second Discount: {round((row['listPrice'] - row['price'])*100 / row['listPrice'] , 2)}%\")\n",
    "        display(Image(url=row['imgUrl'], width=200, unconfined=True))\n",
    "        print(\"-\"*50)\n",
    "\n",
    "for main_category in best_sellers['mainCategory'].unique():\n",
    "    print(f\"Main Category: {main_category}\\n\")\n",
    "    min_price_product = best_sellers[best_sellers['mainCategory'] == main_category].nsmallest(1, 'price')\n",
    "    max_price_product = best_sellers[best_sellers['mainCategory'] == main_category].nlargest(1, 'price')\n",
    "    \n",
    "    # Correct the reference to 'discount_amount' here\n",
    "    max_discount_product = best_sellers[best_sellers['mainCategory'] == main_category].nlargest(1, 'discount_amount')\n",
    "\n",
    "    display_images(main_category, min_price_product, \"Lowest Priced Product\")\n",
    "    display_images(main_category, max_price_product, \"Highest Priced Product\")\n",
    "    display_images(main_category, max_discount_product, \"Product with Highest Discount\")"
   ]
  },
  {
   "cell_type": "code",
   "execution_count": 204,
   "metadata": {},
   "outputs": [
    {
     "data": {
      "text/html": [
       "<div>\n",
       "<style scoped>\n",
       "    .dataframe tbody tr th:only-of-type {\n",
       "        vertical-align: middle;\n",
       "    }\n",
       "\n",
       "    .dataframe tbody tr th {\n",
       "        vertical-align: top;\n",
       "    }\n",
       "\n",
       "    .dataframe thead th {\n",
       "        text-align: right;\n",
       "    }\n",
       "</style>\n",
       "<table border=\"1\" class=\"dataframe\">\n",
       "  <thead>\n",
       "    <tr style=\"text-align: right;\">\n",
       "      <th></th>\n",
       "      <th>asin</th>\n",
       "      <th>title</th>\n",
       "      <th>imgUrl</th>\n",
       "      <th>productURL</th>\n",
       "      <th>stars</th>\n",
       "      <th>reviews</th>\n",
       "      <th>price</th>\n",
       "      <th>listPrice</th>\n",
       "      <th>categoryName</th>\n",
       "      <th>isBestSeller</th>\n",
       "      <th>boughtInLastMonth</th>\n",
       "      <th>mainCategory</th>\n",
       "      <th>discount_amount</th>\n",
       "      <th>discount_percent</th>\n",
       "    </tr>\n",
       "  </thead>\n",
       "  <tbody>\n",
       "    <tr>\n",
       "      <th>0</th>\n",
       "      <td>B00VHVNXN2</td>\n",
       "      <td>E-TING 4pcs Hand Tool Toggle Clamp Red Plast H...</td>\n",
       "      <td>https://m.media-amazon.com/images/I/51m3lnaFtg...</td>\n",
       "      <td>https://www.amazon.ca/dp/B00VHVNXN2</td>\n",
       "      <td>4.3</td>\n",
       "      <td>1372</td>\n",
       "      <td>16.99</td>\n",
       "      <td>18.99</td>\n",
       "      <td>Industrial  Scientific</td>\n",
       "      <td>True</td>\n",
       "      <td>50</td>\n",
       "      <td>Hardware &amp; Tools</td>\n",
       "      <td>2.00</td>\n",
       "      <td>10.531859</td>\n",
       "    </tr>\n",
       "    <tr>\n",
       "      <th>1</th>\n",
       "      <td>B00VEA2904</td>\n",
       "      <td>DEWALT 20V MAX* Portable Band Saw, Deep Cut, T...</td>\n",
       "      <td>https://m.media-amazon.com/images/I/71Gp5A9Pnp...</td>\n",
       "      <td>https://www.amazon.ca/dp/B00VEA2904</td>\n",
       "      <td>4.8</td>\n",
       "      <td>1336</td>\n",
       "      <td>399.00</td>\n",
       "      <td>519.00</td>\n",
       "      <td>Industrial  Scientific</td>\n",
       "      <td>True</td>\n",
       "      <td>50</td>\n",
       "      <td>Hardware &amp; Tools</td>\n",
       "      <td>120.00</td>\n",
       "      <td>23.121387</td>\n",
       "    </tr>\n",
       "    <tr>\n",
       "      <th>2</th>\n",
       "      <td>B0B7W54V3V</td>\n",
       "      <td>Periodic Table with Real Elements Inside, Acry...</td>\n",
       "      <td>https://m.media-amazon.com/images/I/71fnnB7EZm...</td>\n",
       "      <td>https://www.amazon.ca/dp/B0B7W54V3V</td>\n",
       "      <td>4.5</td>\n",
       "      <td>116</td>\n",
       "      <td>39.88</td>\n",
       "      <td>59.99</td>\n",
       "      <td>Industrial  Scientific</td>\n",
       "      <td>True</td>\n",
       "      <td>50</td>\n",
       "      <td>Hardware &amp; Tools</td>\n",
       "      <td>20.11</td>\n",
       "      <td>33.522254</td>\n",
       "    </tr>\n",
       "    <tr>\n",
       "      <th>3</th>\n",
       "      <td>B0089FMXN0</td>\n",
       "      <td>Neoprene Rubber Black Self-Adhesive Sponge Str...</td>\n",
       "      <td>https://m.media-amazon.com/images/I/61TgKSfDLJ...</td>\n",
       "      <td>https://www.amazon.ca/dp/B0089FMXN0</td>\n",
       "      <td>4.2</td>\n",
       "      <td>176</td>\n",
       "      <td>12.88</td>\n",
       "      <td>13.88</td>\n",
       "      <td>Industrial  Scientific</td>\n",
       "      <td>True</td>\n",
       "      <td>0</td>\n",
       "      <td>Hardware &amp; Tools</td>\n",
       "      <td>1.00</td>\n",
       "      <td>7.204611</td>\n",
       "    </tr>\n",
       "    <tr>\n",
       "      <th>4</th>\n",
       "      <td>B01MRYMRF7</td>\n",
       "      <td>meite 22G71S38 22 Gauge 71 Series 3/8\" Crown W...</td>\n",
       "      <td>https://m.media-amazon.com/images/I/71bJTiaqXw...</td>\n",
       "      <td>https://www.amazon.ca/dp/B01MRYMRF7</td>\n",
       "      <td>4.6</td>\n",
       "      <td>226</td>\n",
       "      <td>19.99</td>\n",
       "      <td>21.99</td>\n",
       "      <td>Industrial  Scientific</td>\n",
       "      <td>True</td>\n",
       "      <td>50</td>\n",
       "      <td>Hardware &amp; Tools</td>\n",
       "      <td>2.00</td>\n",
       "      <td>9.095043</td>\n",
       "    </tr>\n",
       "  </tbody>\n",
       "</table>\n",
       "</div>"
      ],
      "text/plain": [
       "         asin                                              title  \\\n",
       "0  B00VHVNXN2  E-TING 4pcs Hand Tool Toggle Clamp Red Plast H...   \n",
       "1  B00VEA2904  DEWALT 20V MAX* Portable Band Saw, Deep Cut, T...   \n",
       "2  B0B7W54V3V  Periodic Table with Real Elements Inside, Acry...   \n",
       "3  B0089FMXN0  Neoprene Rubber Black Self-Adhesive Sponge Str...   \n",
       "4  B01MRYMRF7  meite 22G71S38 22 Gauge 71 Series 3/8\" Crown W...   \n",
       "\n",
       "                                              imgUrl  \\\n",
       "0  https://m.media-amazon.com/images/I/51m3lnaFtg...   \n",
       "1  https://m.media-amazon.com/images/I/71Gp5A9Pnp...   \n",
       "2  https://m.media-amazon.com/images/I/71fnnB7EZm...   \n",
       "3  https://m.media-amazon.com/images/I/61TgKSfDLJ...   \n",
       "4  https://m.media-amazon.com/images/I/71bJTiaqXw...   \n",
       "\n",
       "                            productURL  stars  reviews   price  listPrice  \\\n",
       "0  https://www.amazon.ca/dp/B00VHVNXN2    4.3     1372   16.99      18.99   \n",
       "1  https://www.amazon.ca/dp/B00VEA2904    4.8     1336  399.00     519.00   \n",
       "2  https://www.amazon.ca/dp/B0B7W54V3V    4.5      116   39.88      59.99   \n",
       "3  https://www.amazon.ca/dp/B0089FMXN0    4.2      176   12.88      13.88   \n",
       "4  https://www.amazon.ca/dp/B01MRYMRF7    4.6      226   19.99      21.99   \n",
       "\n",
       "             categoryName  isBestSeller  boughtInLastMonth      mainCategory  \\\n",
       "0  Industrial  Scientific          True                 50  Hardware & Tools   \n",
       "1  Industrial  Scientific          True                 50  Hardware & Tools   \n",
       "2  Industrial  Scientific          True                 50  Hardware & Tools   \n",
       "3  Industrial  Scientific          True                  0  Hardware & Tools   \n",
       "4  Industrial  Scientific          True                 50  Hardware & Tools   \n",
       "\n",
       "   discount_amount  discount_percent  \n",
       "0             2.00         10.531859  \n",
       "1           120.00         23.121387  \n",
       "2            20.11         33.522254  \n",
       "3             1.00          7.204611  \n",
       "4             2.00          9.095043  "
      ]
     },
     "execution_count": 204,
     "metadata": {},
     "output_type": "execute_result"
    }
   ],
   "source": [
    "best_sellers.head()"
   ]
  },
  {
   "cell_type": "code",
   "execution_count": 205,
   "metadata": {},
   "outputs": [
    {
     "data": {
      "text/plain": [
       "Series([], Name: count, dtype: int64)"
      ]
     },
     "execution_count": 205,
     "metadata": {},
     "output_type": "execute_result"
    }
   ],
   "source": [
    "best_sellers_outlier=best_sellers[(best_sellers['price']> best_sellers['listPrice'])].value_counts()\n",
    "best_sellers_outlier"
   ]
  },
  {
   "cell_type": "markdown",
   "metadata": {},
   "source": [
    "Price Distribution"
   ]
  },
  {
   "cell_type": "code",
   "execution_count": 206,
   "metadata": {},
   "outputs": [
    {
     "data": {
      "image/png": "[encoded data removed]",
      "text/plain": [
       "<Figure size 1500x800 with 1 Axes>"
      ]
     },
     "metadata": {},
     "output_type": "display_data"
    }
   ],
   "source": [
    "plt.figure(figsize=(15,8))\n",
    "sns.boxplot(x=best_sellers['mainCategory'], y=best_sellers['price'])\n",
    "plt.xticks(rotation=90)  \n",
    "plt.title('Price Distribution of Best-Selling Products Across Main Categories', fontsize=16)\n",
    "plt.xlabel('Main Category', fontsize=14)\n",
    "plt.ylabel('Price (CAD)', fontsize=14)\n",
    "plt.tight_layout()\n",
    "plt.show()\n",
    "\n",
    "\n",
    "\n"
   ]
  },
  {
   "cell_type": "markdown",
   "metadata": {},
   "source": [
    "This box plot shows us the price distribution of best-selling products across various main categories. Here's a brief interpretation:\n",
    "\n",
    "\"Electronics\" and \"Health & Wellness\" have a wide price range, with some high-priced outliers, indicating a diverse product range from low to high-end.\n",
    "\"Home & Kitchen\" has a higher median price, suggesting that its best-sellers tend to be on the pricier side.\n",
    "On the other hand, \"Fashion\" and \"Hardware & Tools\" have lower median prices, indicating that their best-sellers are more affordable.\n",
    "\"Fashion,\" and \"Hardware & Tools\" show a tight price distribution, meaning there's less variability in the prices of their best-selling products.\n"
   ]
  },
  {
   "cell_type": "markdown",
   "metadata": {},
   "source": [
    "Distribution of Star Ratings"
   ]
  },
  {
   "cell_type": "code",
   "execution_count": 207,
   "metadata": {},
   "outputs": [
    {
     "data": {
      "image/png": "[encoded data removed]",
      "text/plain": [
       "<Figure size 1200x600 with 1 Axes>"
      ]
     },
     "metadata": {},
     "output_type": "display_data"
    }
   ],
   "source": [
    "plt.figure(figsize=(12,6))\n",
    "sns.histplot(best_sellers['stars'], kde=False, bins=30)\n",
    "plt.title('Distribution of Star Ratings for Best-Selling Products', fontsize=16)\n",
    "plt.xlabel('Star Ratings', fontsize=14)\n",
    "plt.ylabel('Number of Products', fontsize=14)\n",
    "plt.show()"
   ]
  },
  {
   "cell_type": "markdown",
   "metadata": {},
   "source": [
    " Distribution of Review Counts"
   ]
  },
  {
   "cell_type": "code",
   "execution_count": 208,
   "metadata": {},
   "outputs": [
    {
     "data": {
      "image/png": "[encoded data removed]",
      "text/plain": [
       "<Figure size 1200x600 with 1 Axes>"
      ]
     },
     "metadata": {},
     "output_type": "display_data"
    }
   ],
   "source": [
    "plt.figure(figsize=(12,6))\n",
    "sns.histplot(best_sellers['reviews'], kde=False, bins=50)\n",
    "plt.title('Distribution of Review Counts for Best-Selling Products', fontsize=16)\n",
    "plt.xlabel('Number of Reviews', fontsize=14)\n",
    "plt.ylabel('Number of Products', fontsize=14)\n",
    "plt.show()"
   ]
  },
  {
   "cell_type": "markdown",
   "metadata": {},
   "source": [
    "Average Discount Amount by Main Category"
   ]
  },
  {
   "cell_type": "code",
   "execution_count": 209,
   "metadata": {},
   "outputs": [
    {
     "name": "stderr",
     "output_type": "stream",
     "text": [
      "/var/folders/gb/dkdpjd856zn4txpk1klt_x600000gn/T/ipykernel_44226/827295963.py:6: FutureWarning: \n",
      "\n",
      "Passing `palette` without assigning `hue` is deprecated and will be removed in v0.14.0. Assign the `x` variable to `hue` and set `legend=False` for the same effect.\n",
      "\n",
      "  sns.barplot(x=average_discounts.index, y=average_discounts.values, palette=\"viridis\")\n"
     ]
    },
    {
     "data": {
      "image/png": "[encoded data removed]",
      "text/plain": [
       "<Figure size 1200x800 with 1 Axes>"
      ]
     },
     "metadata": {},
     "output_type": "display_data"
    }
   ],
   "source": [
    "# Computing average discount amount by category\n",
    "average_discounts = best_sellers.groupby('mainCategory')['discount_amount'].mean().sort_values(ascending=False)\n",
    "\n",
    "# Visualizing using a bar graph\n",
    "plt.figure(figsize=(12, 8))\n",
    "sns.barplot(x=average_discounts.index, y=average_discounts.values, palette=\"viridis\")\n",
    "plt.xticks(rotation=45)\n",
    "plt.ylabel('Average Discount Amount (CAD)')\n",
    "plt.xlabel('Main Category')\n",
    "plt.title('Average Discount Amount by Category')\n",
    "plt.tight_layout()\n",
    "plt.show()"
   ]
  },
  {
   "cell_type": "markdown",
   "metadata": {},
   "source": [
    "We can derive a few observations:\n",
    "\n",
    "Electronics & Tech category offers the highest average discount amount among all the categories. This might be due to the competitive nature of the tech industry or the higher original price points which allows for larger discounts in absolute dollar amounts.\n",
    "The second and third highest average discount amounts are in the Fashion and Sports & Outdoors categories respectively.\n",
    "Home & Kitchen offers the least discount on average, which might suggest that these products either have a lower markup or are less frequently on promotion compared to other categories."
   ]
  },
  {
   "cell_type": "markdown",
   "metadata": {},
   "source": [
    "average Rating by Main Category"
   ]
  },
  {
   "cell_type": "code",
   "execution_count": 210,
   "metadata": {},
   "outputs": [
    {
     "data": {
      "image/png": "[encoded data removed]",
      "text/plain": [
       "<Figure size 1200x800 with 1 Axes>"
      ]
     },
     "metadata": {},
     "output_type": "display_data"
    }
   ],
   "source": [
    "# Grouping by 'mainCategory' and calculating the mean for 'stars' column\n",
    "avg_ratings = best_sellers.groupby('mainCategory')['stars'].mean().sort_values(ascending=False)\n",
    "\n",
    "# Plotting\n",
    "plt.figure(figsize=(12,8))\n",
    "avg_ratings.plot(kind='bar', color='skyblue')\n",
    "plt.title('Average Rating by Main Category')\n",
    "plt.xlabel('Main Category')\n",
    "plt.ylabel('Average Rating')\n",
    "plt.xticks(rotation=45)\n",
    "plt.tight_layout()\n",
    "plt.show()"
   ]
  },
  {
   "cell_type": "markdown",
   "metadata": {},
   "source": [
    "This graph depicts a very consistent average rating across different main categories. Here's a brief interpretation:\n",
    "\n",
    "Consistent Quality Across Categories: One possible interpretation is that the products across these main categories have a consistently good quality, leading to similar average ratings. It could suggest that the sellers or brands under these categories maintain a consistent standard of quality.\n",
    "Customer Expectations: Another perspective is that customer expectations might be aligned well with what is being delivered in these categories. If there were a significant discrepancy between expectations and actual product quality, we would likely see more variance in the ratings.\n",
    "Review Bias: People tend to review products when they have strong feelings, either very positive or very negative. A consistent average could suggest that there isn't a predominant bias in the type of reviews being left (i.e., more people aren't just leaving positive or just negative reviews).\n",
    "Data Skewness: If there's a preponderance of products with very few reviews, the average rating might be skewed. It might be worth looking into the distribution of reviews. For example, a product with a single 5-star review will have an average rating of 5, but it might not be as trustworthy as a product with hundreds of reviews averaging 4.5 stars.\n",
    "Further Exploration:\n",
    "\n",
    "Distribution of Ratings: Instead of just the average, we should look at the distribution of ratings for each category. This would show if a category has a lot of extreme ratings (either 1s or 5s) versus another that might have more ratings clustered around the mean.\n",
    "Review Count Analysis: Also we can analyze the number of reviews for products. Categories with products that have many reviews might be more trustworthy in their average rating than those with fewer reviews."
   ]
  },
  {
   "cell_type": "markdown",
   "metadata": {},
   "source": [
    "Distribution of Ratings"
   ]
  },
  {
   "cell_type": "code",
   "execution_count": 211,
   "metadata": {},
   "outputs": [
    {
     "data": {
      "image/png": "[encoded data removed]",
      "text/plain": [
       "<Figure size 1000x600 with 1 Axes>"
      ]
     },
     "metadata": {},
     "output_type": "display_data"
    }
   ],
   "source": [
    "# Grouping by mainCategory and stars and counting the number of occurrences\n",
    "rating_distribution = best_sellers.groupby(['mainCategory', 'stars']).size().unstack()\n",
    "\n",
    "# Plotting\n",
    "rating_distribution.plot(kind='bar', stacked=True, figsize=(10, 6))\n",
    "plt.title('Distribution of Ratings by Main Category')\n",
    "plt.ylabel('Number of Reviews')\n",
    "plt.xlabel('Main Category')\n",
    "plt.show()"
   ]
  },
  {
   "cell_type": "markdown",
   "metadata": {},
   "source": [
    "This chart displays the distribution of product ratings across various categories:\n",
    "\n",
    "Electronics & Tech has a concentration of products with ratings from 4.6 to 4.8, showing high satisfaction.\n",
    "Fashion predominantly falls within the 4.0 to 4.7 range.\n",
    "Automotive has a broader spread, with peaks at ratings of 3.6 and 4.6.\n",
    "Categories like Health & Wellness, Home & Kitchen, and Sports & Outdoors have fewer reviews!\n",
    "Outliers are observed in Sports & Outdoors and Automotive, with some products rated as low as 1.0."
   ]
  },
  {
   "cell_type": "markdown",
   "metadata": {},
   "source": [
    "Total Number of Reviews"
   ]
  },
  {
   "cell_type": "code",
   "execution_count": 212,
   "metadata": {},
   "outputs": [
    {
     "name": "stderr",
     "output_type": "stream",
     "text": [
      "/var/folders/gb/dkdpjd856zn4txpk1klt_x600000gn/T/ipykernel_44226/3748978380.py:9: FutureWarning: \n",
      "\n",
      "Passing `palette` without assigning `hue` is deprecated and will be removed in v0.14.0. Assign the `y` variable to `hue` and set `legend=False` for the same effect.\n",
      "\n",
      "  sns.barplot(x='reviews', y='mainCategory', data=reviews_by_category, palette='viridis')\n"
     ]
    },
    {
     "data": {
      "image/png": "[encoded data removed]",
      "text/plain": [
       "<Figure size 1200x800 with 1 Axes>"
      ]
     },
     "metadata": {},
     "output_type": "display_data"
    }
   ],
   "source": [
    "# Grouping by mainCategory and summing the reviews\n",
    "reviews_by_category = best_sellers.groupby('mainCategory')['reviews'].sum().reset_index()\n",
    "\n",
    "# Sorting the data for better visualization\n",
    "reviews_by_category = reviews_by_category.sort_values(by='reviews', ascending=False)\n",
    "\n",
    "# Plotting\n",
    "plt.figure(figsize=(12, 8))\n",
    "sns.barplot(x='reviews', y='mainCategory', data=reviews_by_category, palette='viridis')\n",
    "plt.title('Total Number of Reviews by Main Category')\n",
    "plt.xlabel('Total Number of Reviews')\n",
    "plt.ylabel('Main Category')\n",
    "plt.tight_layout()\n",
    "plt.show()"
   ]
  },
  {
   "cell_type": "markdown",
   "metadata": {},
   "source": [
    "Based on this visualization, the \"Electronics & Tech\", \"Beauty & Personal Care\", and \"Home & Kitchen\" categories have a higher number of reviews, suggesting that their star ratings might be more reliable. However, it's important to note that this could be related to the number of products in each category. To get a clearer picture, we should examine the average number of reviews per product in these categories.\n",
    "\n"
   ]
  },
  {
   "cell_type": "markdown",
   "metadata": {},
   "source": [
    " Average Reviews per Product"
   ]
  },
  {
   "cell_type": "code",
   "execution_count": 213,
   "metadata": {},
   "outputs": [
    {
     "name": "stdout",
     "output_type": "stream",
     "text": [
      "                                   avg_reviews_per_product\n",
      "mainCategory                                              \n",
      "Beauty & Personal Care                        17876.990741\n",
      "Home & Kitchen                                16742.823770\n",
      "Electronics & Tech                            16736.035398\n",
      "Pet Supplies                                  16037.898990\n",
      "Travel Essentials                              9649.320000\n",
      "Health & Wellness & Baby Products              8758.803738\n",
      "Party & Sationery & Office Supply              7996.105263\n",
      "Fashion                                        7850.450199\n",
      "Toys & Games                                   7691.033333\n",
      "Hardware & Tools                               7505.481481\n",
      "Automotive                                     6002.918033\n",
      "Home & Garden                                  5889.789474\n",
      "Sports & Outdoors                              4643.706553\n",
      "Arts & Crafts                                  3415.750000\n",
      "Grocery                                        2915.000000\n"
     ]
    }
   ],
   "source": [
    "# Group by mainCategory and calculate the total number of reviews and unique product count\n",
    "grouped = best_sellers.groupby('mainCategory').agg(total_reviews=('reviews', 'sum'), \n",
    "                                                  total_products=('asin', 'nunique'))\n",
    "\n",
    "# Calculate the average number of reviews per product\n",
    "grouped['avg_reviews_per_product'] = grouped['total_reviews'] / grouped['total_products']\n",
    "\n",
    "# Sort the categories based on the average number of reviews per product\n",
    "sorted_categories = grouped.sort_values(by='avg_reviews_per_product', ascending=False)\n",
    "\n",
    "print(sorted_categories[['avg_reviews_per_product']])"
   ]
  },
  {
   "cell_type": "markdown",
   "metadata": {},
   "source": [
    "From the bar chart:\n",
    "\n",
    "\"Electronics & Tech\", \"Beauty & Personal Care\", and \"Home & Kitchen\" have the highest total number of reviews. This suggests that products in these categories generally attract a larger audience or have been on the market for a longer period, leading to more reviews.\n",
    "From the table:\n",
    "\n",
    "\"Home & Kitchen\" products receive about 27,694 reviews on average.\n",
    "\"Beauty & Personal Care\" products get an average of 18,897 reviews.\n",
    "\"Electronics & Tech\" items average around 18,411 reviews.\n",
    "Combining these insights:\n",
    "\n",
    "\"Home & Kitchen\" not only has a high total number of reviews but also tops the list with the highest average reviews per product. This implies that not only are there many products in this category that are reviewed, but each individual product also tends to receive a large number of reviews, indicating strong consumer engagement or satisfaction.\n",
    "\"Electronics & Tech\" has the highest total reviews, but when considering the average reviews per product, it's slightly behind \"Beauty & Personal Care\". This might suggest that while the Electronics & Tech category has some very popular products attracting a lot of reviews, it might also have a wide variety of products with varying popularity.\n",
    "\"Beauty & Personal Care\" stands out as a category with both a high total number of reviews and a high average number of reviews per product. This can be indicative of a consistently engaged consumer base that actively reviews products.\n",
    "On the other end of the spectrum, categories like \"Sports & Outdoors\" have lower total reviews and a lower average number of reviews per product. This could be due to fewer products in these categories, the products being niche, or the audience being less inclined to leave reviews.\n",
    "Overall, while the total number of reviews provides an understanding of the overall popularity of a category, the average reviews per product offer a more nuanced insight into consumer engagement with individual products in that category."
   ]
  },
  {
   "cell_type": "markdown",
   "metadata": {},
   "source": [
    "5. Summary"
   ]
  },
  {
   "cell_type": "markdown",
   "metadata": {},
   "source": [
    "Here's a concise summary of the key findings:\n",
    "\n",
    "Price Distribution\n",
    "\n",
    "\"Electronics\" and \"Health & Wellness\" feature a wide price range, indicating diverse products from low to high-end.\n",
    "\"Home & Kitchen\" best-sellers lean towards higher prices.\n",
    "\"Fashion\" and \"Hardware & Tools\" best-sellers are generally more affordable.\n",
    "Discount Amounts\n",
    "\n",
    "The \"Electronics & Tech\" category offers the highest average discounts, possibly due to industry competition or higher original prices.\n",
    "\"Fashion\" and \"Sports & Outdoors\" follow with the second and third highest discounts.\n",
    "\"Home & Kitchen\" products generally have smaller discounts, suggesting lower markups or fewer promotions.\n",
    "Product Ratings\n",
    "\n",
    "Most main categories maintain consistent average ratings, hinting at stable quality across products or well-met customer expectations.\n",
    "There's potential review bias, and it might be beneficial to assess the distribution of reviews for a clearer perspective.\n",
    "Rating Distributions\n",
    "\n",
    "\"Electronics & Tech\" shows a trend of high satisfaction among customers.\n",
    "\"Fashion\" has a broad rating range, mostly between 4.0 and 4.7.\n",
    "\"Automotive\" features a wider spread of ratings, with distinct peaks.\n",
    "\"Health & Wellness\", \"Home & Kitchen\", and \"Sports & Outdoors\" generally have fewer reviews, which can impact the reliability of their ratings.\n",
    "Review Analysis\n",
    "\n",
    "\"Electronics & Tech\", \"Beauty & Personal Care\", and \"Home & Kitchen\" dominate in terms of review counts.\n",
    "\"Home & Kitchen\" products have the highest average reviews, suggesting strong consumer engagement.\n",
    "\"Electronics & Tech\" has many reviews but a varied product popularity.\n",
    "\"Beauty & Personal Care\" maintains consistency in both total and average reviews, indicating an active consumer base.\n",
    "In summary, while price distribution and discount amounts give insights into marketing and pricing strategies across categories, the review and rating analyses provide a window into consumer satisfaction and engagement. It's vital to consider both the total and average reviews to understand consumer interactions fully."
   ]
  },
  {
   "cell_type": "code",
   "execution_count": 191,
   "metadata": {},
   "outputs": [],
   "source": [
    "# best_sellers.info()\n",
    "\n",
    "# missing_bestsellerdata=best_sellers.isnull().sum()\n",
    "# missing_bestsellerdata"
   ]
  },
  {
   "cell_type": "code",
   "execution_count": null,
   "metadata": {},
   "outputs": [],
   "source": []
  },
  {
   "cell_type": "code",
   "execution_count": 237,
   "metadata": {},
   "outputs": [
    {
     "data": {
      "text/html": [
       "<div>\n",
       "<style scoped>\n",
       "    .dataframe tbody tr th:only-of-type {\n",
       "        vertical-align: middle;\n",
       "    }\n",
       "\n",
       "    .dataframe tbody tr th {\n",
       "        vertical-align: top;\n",
       "    }\n",
       "\n",
       "    .dataframe thead th {\n",
       "        text-align: right;\n",
       "    }\n",
       "</style>\n",
       "<table border=\"1\" class=\"dataframe\">\n",
       "  <thead>\n",
       "    <tr style=\"text-align: right;\">\n",
       "      <th></th>\n",
       "      <th>asin</th>\n",
       "      <th>title</th>\n",
       "      <th>imgUrl</th>\n",
       "      <th>productURL</th>\n",
       "      <th>stars</th>\n",
       "      <th>reviews</th>\n",
       "      <th>price</th>\n",
       "      <th>listPrice</th>\n",
       "      <th>categoryName</th>\n",
       "      <th>isBestSeller</th>\n",
       "      <th>boughtInLastMonth</th>\n",
       "      <th>mainCategory</th>\n",
       "      <th>revenue</th>\n",
       "    </tr>\n",
       "  </thead>\n",
       "  <tbody>\n",
       "    <tr>\n",
       "      <th>0</th>\n",
       "      <td>B087P7538J</td>\n",
       "      <td>YaeCCC 19 Pcs Hole Saw Kit 3/4''(19mm)- 6''(15...</td>\n",
       "      <td>https://m.media-amazon.com/images/I/71P+qLFDFc...</td>\n",
       "      <td>https://www.amazon.ca/dp/B087P7538J</td>\n",
       "      <td>4.0</td>\n",
       "      <td>126</td>\n",
       "      <td>25.99</td>\n",
       "      <td>27.99</td>\n",
       "      <td>Industrial  Scientific</td>\n",
       "      <td>False</td>\n",
       "      <td>50</td>\n",
       "      <td>Hardware &amp; Tools</td>\n",
       "      <td>1299.5</td>\n",
       "    </tr>\n",
       "    <tr>\n",
       "      <th>1</th>\n",
       "      <td>B0822FF7YQ</td>\n",
       "      <td>LLPT Butyl Putty Tape White 1 Inch x 33Ft Tigh...</td>\n",
       "      <td>https://m.media-amazon.com/images/I/61wfWLZRn-...</td>\n",
       "      <td>https://www.amazon.ca/dp/B0822FF7YQ</td>\n",
       "      <td>4.5</td>\n",
       "      <td>1936</td>\n",
       "      <td>21.99</td>\n",
       "      <td>30.99</td>\n",
       "      <td>Industrial  Scientific</td>\n",
       "      <td>False</td>\n",
       "      <td>100</td>\n",
       "      <td>Hardware &amp; Tools</td>\n",
       "      <td>2199.0</td>\n",
       "    </tr>\n",
       "    <tr>\n",
       "      <th>2</th>\n",
       "      <td>B07KMT96S2</td>\n",
       "      <td>Knife Sharpening Stone,400/1000.2000/5000 Doub...</td>\n",
       "      <td>https://m.media-amazon.com/images/I/61uWVjhezJ...</td>\n",
       "      <td>https://www.amazon.ca/dp/B07KMT96S2</td>\n",
       "      <td>4.4</td>\n",
       "      <td>366</td>\n",
       "      <td>29.99</td>\n",
       "      <td>35.99</td>\n",
       "      <td>Industrial  Scientific</td>\n",
       "      <td>False</td>\n",
       "      <td>50</td>\n",
       "      <td>Hardware &amp; Tools</td>\n",
       "      <td>1499.5</td>\n",
       "    </tr>\n",
       "    <tr>\n",
       "      <th>3</th>\n",
       "      <td>B08R8T657H</td>\n",
       "      <td>MIXPOWER Extra Long Torx Bit Socket Set, 3.5-i...</td>\n",
       "      <td>https://m.media-amazon.com/images/I/6154LErNL3...</td>\n",
       "      <td>https://www.amazon.ca/dp/B08R8T657H</td>\n",
       "      <td>4.4</td>\n",
       "      <td>82</td>\n",
       "      <td>19.97</td>\n",
       "      <td>21.97</td>\n",
       "      <td>Industrial  Scientific</td>\n",
       "      <td>False</td>\n",
       "      <td>0</td>\n",
       "      <td>Hardware &amp; Tools</td>\n",
       "      <td>0.0</td>\n",
       "    </tr>\n",
       "    <tr>\n",
       "      <th>4</th>\n",
       "      <td>B088M3JCP2</td>\n",
       "      <td>Heat Insulation Silicone Repair Mat with Scale...</td>\n",
       "      <td>https://m.media-amazon.com/images/I/61nzkHmJSZ...</td>\n",
       "      <td>https://www.amazon.ca/dp/B088M3JCP2</td>\n",
       "      <td>4.7</td>\n",
       "      <td>142</td>\n",
       "      <td>21.99</td>\n",
       "      <td>25.99</td>\n",
       "      <td>Industrial  Scientific</td>\n",
       "      <td>False</td>\n",
       "      <td>50</td>\n",
       "      <td>Hardware &amp; Tools</td>\n",
       "      <td>1099.5</td>\n",
       "    </tr>\n",
       "    <tr>\n",
       "      <th>...</th>\n",
       "      <td>...</td>\n",
       "      <td>...</td>\n",
       "      <td>...</td>\n",
       "      <td>...</td>\n",
       "      <td>...</td>\n",
       "      <td>...</td>\n",
       "      <td>...</td>\n",
       "      <td>...</td>\n",
       "      <td>...</td>\n",
       "      <td>...</td>\n",
       "      <td>...</td>\n",
       "      <td>...</td>\n",
       "      <td>...</td>\n",
       "    </tr>\n",
       "    <tr>\n",
       "      <th>166644</th>\n",
       "      <td>B08L52267L</td>\n",
       "      <td>ꕤ Spinning Heavy Duty Fun Swing</td>\n",
       "      <td>https://m.media-amazon.com/images/I/41vq-Ut7BE...</td>\n",
       "      <td>https://www.amazon.ca/dp/B08L52267L</td>\n",
       "      <td>3.2</td>\n",
       "      <td>3</td>\n",
       "      <td>40.10</td>\n",
       "      <td>54.99</td>\n",
       "      <td>Play Sets  Playground Equipment</td>\n",
       "      <td>False</td>\n",
       "      <td>0</td>\n",
       "      <td>NaN</td>\n",
       "      <td>0.0</td>\n",
       "    </tr>\n",
       "    <tr>\n",
       "      <th>166645</th>\n",
       "      <td>B0BV7GPLNJ</td>\n",
       "      <td>Children Steering Wheel, Swing Steering Wheel ...</td>\n",
       "      <td>https://m.media-amazon.com/images/I/61-0kk9U5U...</td>\n",
       "      <td>https://www.amazon.ca/dp/B0BV7GPLNJ</td>\n",
       "      <td>0.0</td>\n",
       "      <td>0</td>\n",
       "      <td>21.46</td>\n",
       "      <td>22.84</td>\n",
       "      <td>Play Sets  Playground Equipment</td>\n",
       "      <td>False</td>\n",
       "      <td>0</td>\n",
       "      <td>NaN</td>\n",
       "      <td>0.0</td>\n",
       "    </tr>\n",
       "    <tr>\n",
       "      <th>166646</th>\n",
       "      <td>B09WZRDX1G</td>\n",
       "      <td>Gicov Swing Set Replacement Tarp Kids Playgrou...</td>\n",
       "      <td>https://m.media-amazon.com/images/I/51UkZoGa0S...</td>\n",
       "      <td>https://www.amazon.ca/dp/B09WZRDX1G</td>\n",
       "      <td>5.0</td>\n",
       "      <td>2</td>\n",
       "      <td>39.85</td>\n",
       "      <td>42.99</td>\n",
       "      <td>Play Sets  Playground Equipment</td>\n",
       "      <td>False</td>\n",
       "      <td>0</td>\n",
       "      <td>NaN</td>\n",
       "      <td>0.0</td>\n",
       "    </tr>\n",
       "    <tr>\n",
       "      <th>166647</th>\n",
       "      <td>B08ZCNHY47</td>\n",
       "      <td>Costzon Toddler Swing Set, Outdoor Metal Swing...</td>\n",
       "      <td>https://m.media-amazon.com/images/I/61yIEZJgIW...</td>\n",
       "      <td>https://www.amazon.ca/dp/B08ZCNHY47</td>\n",
       "      <td>4.2</td>\n",
       "      <td>85</td>\n",
       "      <td>99.99</td>\n",
       "      <td>109.99</td>\n",
       "      <td>Play Sets  Playground Equipment</td>\n",
       "      <td>False</td>\n",
       "      <td>0</td>\n",
       "      <td>NaN</td>\n",
       "      <td>0.0</td>\n",
       "    </tr>\n",
       "    <tr>\n",
       "      <th>166648</th>\n",
       "      <td>B07FN4B192</td>\n",
       "      <td>XDP Recreation Deerfield Swing Set,10 Child Ca...</td>\n",
       "      <td>https://m.media-amazon.com/images/I/51-9p3GUwp...</td>\n",
       "      <td>https://www.amazon.ca/dp/B07FN4B192</td>\n",
       "      <td>4.2</td>\n",
       "      <td>68</td>\n",
       "      <td>717.99</td>\n",
       "      <td>799.99</td>\n",
       "      <td>Play Sets  Playground Equipment</td>\n",
       "      <td>False</td>\n",
       "      <td>0</td>\n",
       "      <td>NaN</td>\n",
       "      <td>0.0</td>\n",
       "    </tr>\n",
       "  </tbody>\n",
       "</table>\n",
       "<p>166649 rows × 13 columns</p>\n",
       "</div>"
      ],
      "text/plain": [
       "              asin                                              title  \\\n",
       "0       B087P7538J  YaeCCC 19 Pcs Hole Saw Kit 3/4''(19mm)- 6''(15...   \n",
       "1       B0822FF7YQ  LLPT Butyl Putty Tape White 1 Inch x 33Ft Tigh...   \n",
       "2       B07KMT96S2  Knife Sharpening Stone,400/1000.2000/5000 Doub...   \n",
       "3       B08R8T657H  MIXPOWER Extra Long Torx Bit Socket Set, 3.5-i...   \n",
       "4       B088M3JCP2  Heat Insulation Silicone Repair Mat with Scale...   \n",
       "...            ...                                                ...   \n",
       "166644  B08L52267L                    ꕤ Spinning Heavy Duty Fun Swing   \n",
       "166645  B0BV7GPLNJ  Children Steering Wheel, Swing Steering Wheel ...   \n",
       "166646  B09WZRDX1G  Gicov Swing Set Replacement Tarp Kids Playgrou...   \n",
       "166647  B08ZCNHY47  Costzon Toddler Swing Set, Outdoor Metal Swing...   \n",
       "166648  B07FN4B192  XDP Recreation Deerfield Swing Set,10 Child Ca...   \n",
       "\n",
       "                                                   imgUrl  \\\n",
       "0       https://m.media-amazon.com/images/I/71P+qLFDFc...   \n",
       "1       https://m.media-amazon.com/images/I/61wfWLZRn-...   \n",
       "2       https://m.media-amazon.com/images/I/61uWVjhezJ...   \n",
       "3       https://m.media-amazon.com/images/I/6154LErNL3...   \n",
       "4       https://m.media-amazon.com/images/I/61nzkHmJSZ...   \n",
       "...                                                   ...   \n",
       "166644  https://m.media-amazon.com/images/I/41vq-Ut7BE...   \n",
       "166645  https://m.media-amazon.com/images/I/61-0kk9U5U...   \n",
       "166646  https://m.media-amazon.com/images/I/51UkZoGa0S...   \n",
       "166647  https://m.media-amazon.com/images/I/61yIEZJgIW...   \n",
       "166648  https://m.media-amazon.com/images/I/51-9p3GUwp...   \n",
       "\n",
       "                                 productURL  stars  reviews   price  \\\n",
       "0       https://www.amazon.ca/dp/B087P7538J    4.0      126   25.99   \n",
       "1       https://www.amazon.ca/dp/B0822FF7YQ    4.5     1936   21.99   \n",
       "2       https://www.amazon.ca/dp/B07KMT96S2    4.4      366   29.99   \n",
       "3       https://www.amazon.ca/dp/B08R8T657H    4.4       82   19.97   \n",
       "4       https://www.amazon.ca/dp/B088M3JCP2    4.7      142   21.99   \n",
       "...                                     ...    ...      ...     ...   \n",
       "166644  https://www.amazon.ca/dp/B08L52267L    3.2        3   40.10   \n",
       "166645  https://www.amazon.ca/dp/B0BV7GPLNJ    0.0        0   21.46   \n",
       "166646  https://www.amazon.ca/dp/B09WZRDX1G    5.0        2   39.85   \n",
       "166647  https://www.amazon.ca/dp/B08ZCNHY47    4.2       85   99.99   \n",
       "166648  https://www.amazon.ca/dp/B07FN4B192    4.2       68  717.99   \n",
       "\n",
       "        listPrice                     categoryName  isBestSeller  \\\n",
       "0           27.99           Industrial  Scientific         False   \n",
       "1           30.99           Industrial  Scientific         False   \n",
       "2           35.99           Industrial  Scientific         False   \n",
       "3           21.97           Industrial  Scientific         False   \n",
       "4           25.99           Industrial  Scientific         False   \n",
       "...           ...                              ...           ...   \n",
       "166644      54.99  Play Sets  Playground Equipment         False   \n",
       "166645      22.84  Play Sets  Playground Equipment         False   \n",
       "166646      42.99  Play Sets  Playground Equipment         False   \n",
       "166647     109.99  Play Sets  Playground Equipment         False   \n",
       "166648     799.99  Play Sets  Playground Equipment         False   \n",
       "\n",
       "        boughtInLastMonth      mainCategory  revenue  \n",
       "0                      50  Hardware & Tools   1299.5  \n",
       "1                     100  Hardware & Tools   2199.0  \n",
       "2                      50  Hardware & Tools   1499.5  \n",
       "3                       0  Hardware & Tools      0.0  \n",
       "4                      50  Hardware & Tools   1099.5  \n",
       "...                   ...               ...      ...  \n",
       "166644                  0               NaN      0.0  \n",
       "166645                  0               NaN      0.0  \n",
       "166646                  0               NaN      0.0  \n",
       "166647                  0               NaN      0.0  \n",
       "166648                  0               NaN      0.0  \n",
       "\n",
       "[166649 rows x 13 columns]"
      ]
     },
     "execution_count": 237,
     "metadata": {},
     "output_type": "execute_result"
    }
   ],
   "source": [
    "datawithcategory=pd.read_csv('../data/clean_amazonca_withcategory.csv')\n",
    "#data.describe()\n",
    "datawithcategory['revenue']=datawithcategory['price']*datawithcategory['boughtInLastMonth']\n",
    "datawithcategory"
   ]
  },
  {
   "cell_type": "code",
   "execution_count": 239,
   "metadata": {},
   "outputs": [
    {
     "name": "stdout",
     "output_type": "stream",
     "text": [
      "                         mainCategory  salesRank  revenueRank\n",
      "0                       Arts & Crafts       14.0         15.0\n",
      "1                          Automotive        9.0          7.0\n",
      "2              Beauty & Personal Care        1.0          2.0\n",
      "3                  Electronics & Tech       12.0         10.0\n",
      "4                             Fashion       10.0         13.0\n",
      "5                             Grocery        6.0         12.0\n",
      "6                    Hardware & Tools        7.0          5.0\n",
      "7   Health & Wellness & Baby Products        3.0          3.0\n",
      "8                       Home & Garden        5.0          4.0\n",
      "9                      Home & Kitchen        2.0          1.0\n",
      "10  Party & Sationery & Office Supply       13.0         11.0\n",
      "11                       Pet Supplies        4.0          6.0\n",
      "12                  Sports & Outdoors       11.0          9.0\n",
      "13                       Toys & Games        8.0          8.0\n",
      "14                  Travel Essentials       15.0         14.0\n"
     ]
    }
   ],
   "source": [
    "# Create a new DataFrame with mainCategory and the sum of boughtInLastMonth and revenue\n",
    "new_df = datawithcategory.groupby('mainCategory').agg({\n",
    "    'boughtInLastMonth': 'sum',\n",
    "    'revenue': 'sum'\n",
    "}).reset_index()\n",
    "\n",
    "# Add salesRank and revenueRank columns\n",
    "new_df['salesRank'] = new_df['boughtInLastMonth'].rank(ascending=False, method='min')\n",
    "new_df['revenueRank'] = new_df['revenue'].rank(ascending=False, method='min')\n",
    "\n",
    "unique_df = new_df[['mainCategory', 'salesRank', 'revenueRank']].drop_duplicates()\n",
    "\n",
    "# Sort the DataFrame by mainCategory for better readability\n",
    "unique_df = unique_df.sort_values(by='mainCategory').reset_index(drop=True)\n",
    "\n",
    "# Display the new DataFrame with unique values\n",
    "print(unique_df)\n"
   ]
  },
  {
   "cell_type": "code",
   "execution_count": 240,
   "metadata": {},
   "outputs": [
    {
     "name": "stdout",
     "output_type": "stream",
     "text": [
      "DataFrame has been successfully saved to ../data/rank.csv\n"
     ]
    }
   ],
   "source": [
    "csv_path='../data/rank.csv'\n",
    "df=pd.DataFrame(unique_df)\n",
    "df.to_csv(csv_path,index=False)\n",
    "print(f'DataFrame has been successfully saved to {csv_path}')"
   ]
  },
  {
   "cell_type": "code",
   "execution_count": 242,
   "metadata": {},
   "outputs": [
    {
     "data": {
      "text/html": [
       "<div>\n",
       "<style scoped>\n",
       "    .dataframe tbody tr th:only-of-type {\n",
       "        vertical-align: middle;\n",
       "    }\n",
       "\n",
       "    .dataframe tbody tr th {\n",
       "        vertical-align: top;\n",
       "    }\n",
       "\n",
       "    .dataframe thead th {\n",
       "        text-align: right;\n",
       "    }\n",
       "</style>\n",
       "<table border=\"1\" class=\"dataframe\">\n",
       "  <thead>\n",
       "    <tr style=\"text-align: right;\">\n",
       "      <th></th>\n",
       "      <th>asin</th>\n",
       "      <th>title</th>\n",
       "      <th>imgUrl</th>\n",
       "      <th>productURL</th>\n",
       "      <th>stars</th>\n",
       "      <th>reviews</th>\n",
       "      <th>price</th>\n",
       "      <th>listPrice</th>\n",
       "      <th>categoryName</th>\n",
       "      <th>isBestSeller</th>\n",
       "      <th>boughtInLastMonth</th>\n",
       "      <th>mainCategory</th>\n",
       "      <th>revenue</th>\n",
       "    </tr>\n",
       "  </thead>\n",
       "  <tbody>\n",
       "    <tr>\n",
       "      <th>0</th>\n",
       "      <td>B087P7538J</td>\n",
       "      <td>YaeCCC 19 Pcs Hole Saw Kit 3/4''(19mm)- 6''(15...</td>\n",
       "      <td>https://m.media-amazon.com/images/I/71P+qLFDFc...</td>\n",
       "      <td>https://www.amazon.ca/dp/B087P7538J</td>\n",
       "      <td>4.0</td>\n",
       "      <td>126</td>\n",
       "      <td>25.99</td>\n",
       "      <td>27.99</td>\n",
       "      <td>Industrial  Scientific</td>\n",
       "      <td>False</td>\n",
       "      <td>50</td>\n",
       "      <td>Hardware &amp; Tools</td>\n",
       "      <td>1299.5</td>\n",
       "    </tr>\n",
       "    <tr>\n",
       "      <th>1</th>\n",
       "      <td>B0822FF7YQ</td>\n",
       "      <td>LLPT Butyl Putty Tape White 1 Inch x 33Ft Tigh...</td>\n",
       "      <td>https://m.media-amazon.com/images/I/61wfWLZRn-...</td>\n",
       "      <td>https://www.amazon.ca/dp/B0822FF7YQ</td>\n",
       "      <td>4.5</td>\n",
       "      <td>1936</td>\n",
       "      <td>21.99</td>\n",
       "      <td>30.99</td>\n",
       "      <td>Industrial  Scientific</td>\n",
       "      <td>False</td>\n",
       "      <td>100</td>\n",
       "      <td>Hardware &amp; Tools</td>\n",
       "      <td>2199.0</td>\n",
       "    </tr>\n",
       "    <tr>\n",
       "      <th>2</th>\n",
       "      <td>B07KMT96S2</td>\n",
       "      <td>Knife Sharpening Stone,400/1000.2000/5000 Doub...</td>\n",
       "      <td>https://m.media-amazon.com/images/I/61uWVjhezJ...</td>\n",
       "      <td>https://www.amazon.ca/dp/B07KMT96S2</td>\n",
       "      <td>4.4</td>\n",
       "      <td>366</td>\n",
       "      <td>29.99</td>\n",
       "      <td>35.99</td>\n",
       "      <td>Industrial  Scientific</td>\n",
       "      <td>False</td>\n",
       "      <td>50</td>\n",
       "      <td>Hardware &amp; Tools</td>\n",
       "      <td>1499.5</td>\n",
       "    </tr>\n",
       "    <tr>\n",
       "      <th>3</th>\n",
       "      <td>B08R8T657H</td>\n",
       "      <td>MIXPOWER Extra Long Torx Bit Socket Set, 3.5-i...</td>\n",
       "      <td>https://m.media-amazon.com/images/I/6154LErNL3...</td>\n",
       "      <td>https://www.amazon.ca/dp/B08R8T657H</td>\n",
       "      <td>4.4</td>\n",
       "      <td>82</td>\n",
       "      <td>19.97</td>\n",
       "      <td>21.97</td>\n",
       "      <td>Industrial  Scientific</td>\n",
       "      <td>False</td>\n",
       "      <td>0</td>\n",
       "      <td>Hardware &amp; Tools</td>\n",
       "      <td>0.0</td>\n",
       "    </tr>\n",
       "    <tr>\n",
       "      <th>4</th>\n",
       "      <td>B088M3JCP2</td>\n",
       "      <td>Heat Insulation Silicone Repair Mat with Scale...</td>\n",
       "      <td>https://m.media-amazon.com/images/I/61nzkHmJSZ...</td>\n",
       "      <td>https://www.amazon.ca/dp/B088M3JCP2</td>\n",
       "      <td>4.7</td>\n",
       "      <td>142</td>\n",
       "      <td>21.99</td>\n",
       "      <td>25.99</td>\n",
       "      <td>Industrial  Scientific</td>\n",
       "      <td>False</td>\n",
       "      <td>50</td>\n",
       "      <td>Hardware &amp; Tools</td>\n",
       "      <td>1099.5</td>\n",
       "    </tr>\n",
       "    <tr>\n",
       "      <th>...</th>\n",
       "      <td>...</td>\n",
       "      <td>...</td>\n",
       "      <td>...</td>\n",
       "      <td>...</td>\n",
       "      <td>...</td>\n",
       "      <td>...</td>\n",
       "      <td>...</td>\n",
       "      <td>...</td>\n",
       "      <td>...</td>\n",
       "      <td>...</td>\n",
       "      <td>...</td>\n",
       "      <td>...</td>\n",
       "      <td>...</td>\n",
       "    </tr>\n",
       "    <tr>\n",
       "      <th>166644</th>\n",
       "      <td>B08L52267L</td>\n",
       "      <td>ꕤ Spinning Heavy Duty Fun Swing</td>\n",
       "      <td>https://m.media-amazon.com/images/I/41vq-Ut7BE...</td>\n",
       "      <td>https://www.amazon.ca/dp/B08L52267L</td>\n",
       "      <td>3.2</td>\n",
       "      <td>3</td>\n",
       "      <td>40.10</td>\n",
       "      <td>54.99</td>\n",
       "      <td>Play Sets  Playground Equipment</td>\n",
       "      <td>False</td>\n",
       "      <td>0</td>\n",
       "      <td>NaN</td>\n",
       "      <td>0.0</td>\n",
       "    </tr>\n",
       "    <tr>\n",
       "      <th>166645</th>\n",
       "      <td>B0BV7GPLNJ</td>\n",
       "      <td>Children Steering Wheel, Swing Steering Wheel ...</td>\n",
       "      <td>https://m.media-amazon.com/images/I/61-0kk9U5U...</td>\n",
       "      <td>https://www.amazon.ca/dp/B0BV7GPLNJ</td>\n",
       "      <td>0.0</td>\n",
       "      <td>0</td>\n",
       "      <td>21.46</td>\n",
       "      <td>22.84</td>\n",
       "      <td>Play Sets  Playground Equipment</td>\n",
       "      <td>False</td>\n",
       "      <td>0</td>\n",
       "      <td>NaN</td>\n",
       "      <td>0.0</td>\n",
       "    </tr>\n",
       "    <tr>\n",
       "      <th>166646</th>\n",
       "      <td>B09WZRDX1G</td>\n",
       "      <td>Gicov Swing Set Replacement Tarp Kids Playgrou...</td>\n",
       "      <td>https://m.media-amazon.com/images/I/51UkZoGa0S...</td>\n",
       "      <td>https://www.amazon.ca/dp/B09WZRDX1G</td>\n",
       "      <td>5.0</td>\n",
       "      <td>2</td>\n",
       "      <td>39.85</td>\n",
       "      <td>42.99</td>\n",
       "      <td>Play Sets  Playground Equipment</td>\n",
       "      <td>False</td>\n",
       "      <td>0</td>\n",
       "      <td>NaN</td>\n",
       "      <td>0.0</td>\n",
       "    </tr>\n",
       "    <tr>\n",
       "      <th>166647</th>\n",
       "      <td>B08ZCNHY47</td>\n",
       "      <td>Costzon Toddler Swing Set, Outdoor Metal Swing...</td>\n",
       "      <td>https://m.media-amazon.com/images/I/61yIEZJgIW...</td>\n",
       "      <td>https://www.amazon.ca/dp/B08ZCNHY47</td>\n",
       "      <td>4.2</td>\n",
       "      <td>85</td>\n",
       "      <td>99.99</td>\n",
       "      <td>109.99</td>\n",
       "      <td>Play Sets  Playground Equipment</td>\n",
       "      <td>False</td>\n",
       "      <td>0</td>\n",
       "      <td>NaN</td>\n",
       "      <td>0.0</td>\n",
       "    </tr>\n",
       "    <tr>\n",
       "      <th>166648</th>\n",
       "      <td>B07FN4B192</td>\n",
       "      <td>XDP Recreation Deerfield Swing Set,10 Child Ca...</td>\n",
       "      <td>https://m.media-amazon.com/images/I/51-9p3GUwp...</td>\n",
       "      <td>https://www.amazon.ca/dp/B07FN4B192</td>\n",
       "      <td>4.2</td>\n",
       "      <td>68</td>\n",
       "      <td>717.99</td>\n",
       "      <td>799.99</td>\n",
       "      <td>Play Sets  Playground Equipment</td>\n",
       "      <td>False</td>\n",
       "      <td>0</td>\n",
       "      <td>NaN</td>\n",
       "      <td>0.0</td>\n",
       "    </tr>\n",
       "  </tbody>\n",
       "</table>\n",
       "<p>166649 rows × 13 columns</p>\n",
       "</div>"
      ],
      "text/plain": [
       "              asin                                              title  \\\n",
       "0       B087P7538J  YaeCCC 19 Pcs Hole Saw Kit 3/4''(19mm)- 6''(15...   \n",
       "1       B0822FF7YQ  LLPT Butyl Putty Tape White 1 Inch x 33Ft Tigh...   \n",
       "2       B07KMT96S2  Knife Sharpening Stone,400/1000.2000/5000 Doub...   \n",
       "3       B08R8T657H  MIXPOWER Extra Long Torx Bit Socket Set, 3.5-i...   \n",
       "4       B088M3JCP2  Heat Insulation Silicone Repair Mat with Scale...   \n",
       "...            ...                                                ...   \n",
       "166644  B08L52267L                    ꕤ Spinning Heavy Duty Fun Swing   \n",
       "166645  B0BV7GPLNJ  Children Steering Wheel, Swing Steering Wheel ...   \n",
       "166646  B09WZRDX1G  Gicov Swing Set Replacement Tarp Kids Playgrou...   \n",
       "166647  B08ZCNHY47  Costzon Toddler Swing Set, Outdoor Metal Swing...   \n",
       "166648  B07FN4B192  XDP Recreation Deerfield Swing Set,10 Child Ca...   \n",
       "\n",
       "                                                   imgUrl  \\\n",
       "0       https://m.media-amazon.com/images/I/71P+qLFDFc...   \n",
       "1       https://m.media-amazon.com/images/I/61wfWLZRn-...   \n",
       "2       https://m.media-amazon.com/images/I/61uWVjhezJ...   \n",
       "3       https://m.media-amazon.com/images/I/6154LErNL3...   \n",
       "4       https://m.media-amazon.com/images/I/61nzkHmJSZ...   \n",
       "...                                                   ...   \n",
       "166644  https://m.media-amazon.com/images/I/41vq-Ut7BE...   \n",
       "166645  https://m.media-amazon.com/images/I/61-0kk9U5U...   \n",
       "166646  https://m.media-amazon.com/images/I/51UkZoGa0S...   \n",
       "166647  https://m.media-amazon.com/images/I/61yIEZJgIW...   \n",
       "166648  https://m.media-amazon.com/images/I/51-9p3GUwp...   \n",
       "\n",
       "                                 productURL  stars  reviews   price  \\\n",
       "0       https://www.amazon.ca/dp/B087P7538J    4.0      126   25.99   \n",
       "1       https://www.amazon.ca/dp/B0822FF7YQ    4.5     1936   21.99   \n",
       "2       https://www.amazon.ca/dp/B07KMT96S2    4.4      366   29.99   \n",
       "3       https://www.amazon.ca/dp/B08R8T657H    4.4       82   19.97   \n",
       "4       https://www.amazon.ca/dp/B088M3JCP2    4.7      142   21.99   \n",
       "...                                     ...    ...      ...     ...   \n",
       "166644  https://www.amazon.ca/dp/B08L52267L    3.2        3   40.10   \n",
       "166645  https://www.amazon.ca/dp/B0BV7GPLNJ    0.0        0   21.46   \n",
       "166646  https://www.amazon.ca/dp/B09WZRDX1G    5.0        2   39.85   \n",
       "166647  https://www.amazon.ca/dp/B08ZCNHY47    4.2       85   99.99   \n",
       "166648  https://www.amazon.ca/dp/B07FN4B192    4.2       68  717.99   \n",
       "\n",
       "        listPrice                     categoryName  isBestSeller  \\\n",
       "0           27.99           Industrial  Scientific         False   \n",
       "1           30.99           Industrial  Scientific         False   \n",
       "2           35.99           Industrial  Scientific         False   \n",
       "3           21.97           Industrial  Scientific         False   \n",
       "4           25.99           Industrial  Scientific         False   \n",
       "...           ...                              ...           ...   \n",
       "166644      54.99  Play Sets  Playground Equipment         False   \n",
       "166645      22.84  Play Sets  Playground Equipment         False   \n",
       "166646      42.99  Play Sets  Playground Equipment         False   \n",
       "166647     109.99  Play Sets  Playground Equipment         False   \n",
       "166648     799.99  Play Sets  Playground Equipment         False   \n",
       "\n",
       "        boughtInLastMonth      mainCategory  revenue  \n",
       "0                      50  Hardware & Tools   1299.5  \n",
       "1                     100  Hardware & Tools   2199.0  \n",
       "2                      50  Hardware & Tools   1499.5  \n",
       "3                       0  Hardware & Tools      0.0  \n",
       "4                      50  Hardware & Tools   1099.5  \n",
       "...                   ...               ...      ...  \n",
       "166644                  0               NaN      0.0  \n",
       "166645                  0               NaN      0.0  \n",
       "166646                  0               NaN      0.0  \n",
       "166647                  0               NaN      0.0  \n",
       "166648                  0               NaN      0.0  \n",
       "\n",
       "[166649 rows x 13 columns]"
      ]
     },
     "execution_count": 242,
     "metadata": {},
     "output_type": "execute_result"
    }
   ],
   "source": [
    "datawithcategory"
   ]
  },
  {
   "cell_type": "code",
   "execution_count": null,
   "metadata": {},
   "outputs": [],
   "source": [
    "\n",
    "datawithcategory['discount_amount'] = datawithcategory['listPrice'] - datawithcategory['price']"
   ]
  },
  {
   "cell_type": "code",
   "execution_count": null,
   "metadata": {},
   "outputs": [
    {
     "ename": "ModuleNotFoundError",
     "evalue": "No module named 'statsmodels'",
     "output_type": "error",
     "traceback": [
      "\u001b[0;31m---------------------------------------------------------------------------\u001b[0m",
      "\u001b[0;31mModuleNotFoundError\u001b[0m                       Traceback (most recent call last)",
      "Cell \u001b[0;32mIn[1], line 1\u001b[0m\n\u001b[0;32m----> 1\u001b[0m \u001b[38;5;28;01mimport\u001b[39;00m \u001b[38;5;21;01mstatsmodels\u001b[39;00m\u001b[38;5;21;01m.\u001b[39;00m\u001b[38;5;21;01mapi\u001b[39;00m \u001b[38;5;28;01mas\u001b[39;00m \u001b[38;5;21;01msm\u001b[39;00m\n\u001b[1;32m      2\u001b[0m \u001b[38;5;28;01mimport\u001b[39;00m \u001b[38;5;21;01mpandas\u001b[39;00m \u001b[38;5;28;01mas\u001b[39;00m \u001b[38;5;21;01mpd\u001b[39;00m\n\u001b[1;32m      3\u001b[0m \u001b[38;5;66;03m#\u001b[39;00m\n\u001b[1;32m      4\u001b[0m \u001b[38;5;66;03m# Assuming 'df' is your DataFrame\u001b[39;00m\n\u001b[1;32m      5\u001b[0m \u001b[38;5;66;03m# Select relevant variables for the model\u001b[39;00m\n",
      "\u001b[0;31mModuleNotFoundError\u001b[0m: No module named 'statsmodels'"
     ]
    }
   ],
   "source": [
    "import statsmodels.api as sm\n",
    "import pandas as pd\n",
    "#\n",
    "# Assuming 'df' is your DataFrame\n",
    "# Select relevant variables for the model\n",
    "selected_features = [ 'reviews','discount_amount','price','listPrice']\n",
    "\n",
    "# Add a constant term to the features matrix\n",
    "X = sm.add_constant(datawithcategory[selected_features])\n",
    "\n",
    "# Dependent variable\n",
    "#y = datawithcategory['revenue']\n",
    "y = datawithcategory['boughtInLastMonth']\n",
    "\n",
    "# Fit the linear model\n",
    "model = sm.OLS(y, X).fit()\n",
    "\n",
    "# Print the summary\n",
    "print(model.summary())"
   ]
  },
  {
   "cell_type": "code",
   "execution_count": null,
   "metadata": {},
   "outputs": [
    {
     "ename": "ModuleNotFoundError",
     "evalue": "No module named 'sklearn'",
     "output_type": "error",
     "traceback": [
      "\u001b[0;31m---------------------------------------------------------------------------\u001b[0m",
      "\u001b[0;31mModuleNotFoundError\u001b[0m                       Traceback (most recent call last)",
      "Cell \u001b[0;32mIn[253], line 1\u001b[0m\n\u001b[0;32m----> 1\u001b[0m \u001b[38;5;28;01mfrom\u001b[39;00m \u001b[38;5;21;01msklearn\u001b[39;00m\u001b[38;5;21;01m.\u001b[39;00m\u001b[38;5;21;01mlinear_model\u001b[39;00m \u001b[38;5;28;01mimport\u001b[39;00m LinearRegression\n\u001b[1;32m      2\u001b[0m \u001b[38;5;28;01mfrom\u001b[39;00m \u001b[38;5;21;01msklearn\u001b[39;00m\u001b[38;5;21;01m.\u001b[39;00m\u001b[38;5;21;01mmodel_selection\u001b[39;00m \u001b[38;5;28;01mimport\u001b[39;00m train_test_split\n\u001b[1;32m      3\u001b[0m \u001b[38;5;28;01mfrom\u001b[39;00m \u001b[38;5;21;01msklearn\u001b[39;00m \u001b[38;5;28;01mimport\u001b[39;00m metrics\n",
      "\u001b[0;31mModuleNotFoundError\u001b[0m: No module named 'sklearn'"
     ]
    }
   ],
   "source": [
    "from sklearn.linear_model import LinearRegression\n",
    "from sklearn.model_selection import train_test_split\n",
    "from sklearn import metrics\n",
    "\n"
   ]
  },
  {
   "cell_type": "markdown",
   "metadata": {},
   "source": []
  },
  {
   "cell_type": "code",
   "execution_count": null,
   "metadata": {},
   "outputs": [],
   "source": []
  }
 ],
 "metadata": {
  "kernelspec": {
   "display_name": "test",
   "language": "python",
   "name": "test"
  },
  "language_info": {
   "codemirror_mode": {
    "name": "ipython",
    "version": 3
   },
   "file_extension": ".py",
   "mimetype": "text/x-python",
   "name": "python",
   "nbconvert_exporter": "python",
   "pygments_lexer": "ipython3",
   "version": "3.11.6"
  }
 },
 "nbformat": 4,
 "nbformat_minor": 2
}
